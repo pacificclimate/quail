{
 "cells": [
  {
   "cell_type": "markdown",
   "metadata": {},
   "source": [
    "### Days: wps_climdex_get_available_indices\n",
    "\n",
    "WPS wrapper for [climdex.pcic](https://cran.r-project.org/web/packages/climdex.pcic/climdex.pcic.pdf)'s [climdex.get.available.indices](https://cran.r-project.org/web/packages/climdex.pcic/climdex.pcic.pdf#page=9) function\n",
    "\n",
    "This function takes a climdexInput object as input and returns the names of all the indices which may be computed or, ifget.function.namesis TRUE (the default), the names of the functions corresponding to the indices."
   ]
  },
  {
   "cell_type": "code",
   "execution_count": 1,
   "metadata": {},
   "outputs": [],
   "source": [
    "import json\n",
    "import os\n",
    "import requests\n",
    "from birdy import WPSClient\n",
    "from rpy2 import robjects\n",
    "from urllib.request import urlretrieve\n",
    "from importlib.resources import files\n",
    "from tempfile import NamedTemporaryFile\n",
    "\n",
    "from wps_tools.testing import get_target_url\n",
    "from wps_tools.R import test_rda_output"
   ]
  },
  {
   "cell_type": "code",
   "execution_count": 2,
   "metadata": {},
   "outputs": [],
   "source": [
    "# Ensure we are in the working directory with access to the data\n",
    "while os.path.basename(os.getcwd()) != \"quail\":\n",
    "    os.chdir('../')"
   ]
  },
  {
   "cell_type": "code",
   "execution_count": 3,
   "metadata": {},
   "outputs": [
    {
     "name": "stdout",
     "output_type": "stream",
     "text": [
      "Using quail on https://marble-dev01.pcic.uvic.ca/twitcher/ows/proxy/quail/wps\n"
     ]
    }
   ],
   "source": [
    "# NBVAL_IGNORE_OUTPUT\n",
    "url = get_target_url(\"quail\")\n",
    "print(f\"Using quail on {url}\")"
   ]
  },
  {
   "cell_type": "code",
   "execution_count": 4,
   "metadata": {},
   "outputs": [],
   "source": [
    "quail = WPSClient(url)"
   ]
  },
  {
   "cell_type": "markdown",
   "metadata": {},
   "source": [
    "#### Help for individual processes can be diplayed using the ? command (ex/ bird.process?)"
   ]
  },
  {
   "cell_type": "code",
   "execution_count": 5,
   "metadata": {},
   "outputs": [
    {
     "data": {
      "text/plain": [
       "\u001b[0;31mSignature:\u001b[0m\n",
       "\u001b[0mquail\u001b[0m\u001b[0;34m.\u001b[0m\u001b[0mclimdex_get_available_indices\u001b[0m\u001b[0;34m(\u001b[0m\u001b[0;34m\u001b[0m\n",
       "\u001b[0;34m\u001b[0m    \u001b[0mclimdex_input\u001b[0m\u001b[0;34m=\u001b[0m\u001b[0;32mNone\u001b[0m\u001b[0;34m,\u001b[0m\u001b[0;34m\u001b[0m\n",
       "\u001b[0;34m\u001b[0m    \u001b[0mci_name\u001b[0m\u001b[0;34m=\u001b[0m\u001b[0;34m'ci'\u001b[0m\u001b[0;34m,\u001b[0m\u001b[0;34m\u001b[0m\n",
       "\u001b[0;34m\u001b[0m    \u001b[0mloglevel\u001b[0m\u001b[0;34m=\u001b[0m\u001b[0;34m'INFO'\u001b[0m\u001b[0;34m,\u001b[0m\u001b[0;34m\u001b[0m\n",
       "\u001b[0;34m\u001b[0m    \u001b[0moutput_file\u001b[0m\u001b[0;34m=\u001b[0m\u001b[0;34m'output.rda'\u001b[0m\u001b[0;34m,\u001b[0m\u001b[0;34m\u001b[0m\n",
       "\u001b[0;34m\u001b[0m    \u001b[0moutput_formats\u001b[0m\u001b[0;34m=\u001b[0m\u001b[0;32mNone\u001b[0m\u001b[0;34m,\u001b[0m\u001b[0;34m\u001b[0m\n",
       "\u001b[0;34m\u001b[0m\u001b[0;34m)\u001b[0m\u001b[0;34m\u001b[0m\u001b[0;34m\u001b[0m\u001b[0m\n",
       "\u001b[0;31mDocstring:\u001b[0m\n",
       "Returns the names of all the indices which may be computed or, if get_function_names is TRUE, the names of the functions corresponding to the indices.\n",
       "\n",
       "Parameters\n",
       "----------\n",
       "climdex_input : ComplexData:mimetype:`application/x-gzip`\n",
       "    RDS or Rdata (.rds, .rda, .rdata) file containing R Object of type climdexInput\n",
       "ci_name : string\n",
       "    Name of the climdexInput object. Only needed when using Rdata input. For RDS input it may be left as the default value.\n",
       "output_file : string\n",
       "    Filename to store the output Rdata (extension .rda)\n",
       "loglevel : {'CRITICAL', 'ERROR', 'WARNING', 'INFO', 'DEBUG', 'NOTSET'}string\n",
       "    Logging level\n",
       "\n",
       "Returns\n",
       "-------\n",
       "avail_processes : string\n",
       "    Available climdex indices (values) and the processes to use to compute them (keys)\n",
       "\u001b[0;31mFile:\u001b[0m      ~/github/quail/</tmp/quail-venv/lib/python3.8/site-packages/birdy/client/base.py-8>\n",
       "\u001b[0;31mType:\u001b[0m      method\n"
      ]
     },
     "metadata": {},
     "output_type": "display_data"
    }
   ],
   "source": [
    "# NBVAL_IGNORE_OUTPUT\n",
    "quail.climdex_get_available_indices?"
   ]
  },
  {
   "cell_type": "markdown",
   "metadata": {},
   "source": [
    "#### Run wps_climdex_get_available_indices Process with rda input"
   ]
  },
  {
   "cell_type": "code",
   "execution_count": 6,
   "metadata": {},
   "outputs": [],
   "source": [
    "with NamedTemporaryFile(suffix=\".rda\", prefix=\"indices_\", dir=\"/tmp\", delete=True) as output_file:\n",
    "    output = quail.climdex_get_available_indices(\n",
    "            climdex_input=(files(\"tests\") / \"data/climdexInput.rda\").resolve(),\n",
    "            ci_name=\"ci\",\n",
    "            output_file=output_file.name,\n",
    "        )\n",
    "avail_processes = eval(output.get()[0])"
   ]
  },
  {
   "cell_type": "code",
   "execution_count": 7,
   "metadata": {},
   "outputs": [
    {
     "data": {
      "text/plain": [
       "{'wps_climdex_days': ['su', 'id', 'fd', 'tr'],\n",
       " 'wps_climdex_gsl': ['gsl'],\n",
       " 'wps_climdex_mmdmt': ['txx', 'tnx', 'txn', 'tnn'],\n",
       " 'wps_climdex_rmm': ['r10mm', 'r20mm', 'rnnmm'],\n",
       " 'wps_climdex_spells': ['cdd', 'csdi', 'cwd', 'wsdi'],\n",
       " 'wps_climdex_temp_pctl': ['tn10p', 'tn90p', 'tx10p', 'tx90p'],\n",
       " 'wps_climdex_dtr': ['dtr'],\n",
       " 'wps_climdex_ptot': ['r95ptot', 'r99ptot', 'prcptot'],\n",
       " 'wps_climdex_sdii': ['sdii'],\n",
       " 'wps_climdex_rxnday': ['rx1day', 'rx5day']}"
      ]
     },
     "execution_count": 7,
     "metadata": {},
     "output_type": "execute_result"
    }
   ],
   "source": [
    "# NBVAL_IGNORE_OUTPUT\n",
    "avail_processes"
   ]
  },
  {
   "cell_type": "markdown",
   "metadata": {},
   "source": [
    "### You can also pass an rds file"
   ]
  },
  {
   "cell_type": "code",
   "execution_count": 8,
   "metadata": {},
   "outputs": [],
   "source": [
    "with NamedTemporaryFile(suffix=\".rda\", prefix=\"indices_\", dir=\"/tmp\", delete=True) as output_file:\n",
    "    output = quail.climdex_get_available_indices(\n",
    "            climdex_input=(files(\"tests\") / \"data/climdexInput.rds\").resolve(),\n",
    "            ci_name=\"ci\",\n",
    "            output_file=output_file.name,\n",
    "        )"
   ]
  },
  {
   "cell_type": "markdown",
   "metadata": {},
   "source": [
    "#### Test output against expected output"
   ]
  },
  {
   "cell_type": "code",
   "execution_count": 9,
   "metadata": {},
   "outputs": [],
   "source": [
    "with open(\"tests/data/expected_avail_processes.json\",\"r\") as f:\n",
    "    expected_avail_processes = json.load(f)\n",
    "    \n",
    "for key, value in expected_avail_processes.items():\n",
    "    assert avail_processes[key] == value"
   ]
  }
 ],
 "metadata": {
  "kernelspec": {
   "display_name": "Python 3 (ipykernel)",
   "language": "python",
   "name": "python3"
  },
  "language_info": {
   "codemirror_mode": {
    "name": "ipython",
    "version": 3
   },
   "file_extension": ".py",
   "mimetype": "text/x-python",
   "name": "python",
   "nbconvert_exporter": "python",
   "pygments_lexer": "ipython3",
   "version": "3.12.3"
  }
 },
 "nbformat": 4,
 "nbformat_minor": 4
}
