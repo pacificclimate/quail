{
 "cells": [
  {
   "cell_type": "markdown",
   "metadata": {},
   "source": [
    "## wps_climdex_rmm\n",
    "\n",
    "WPS wrapper for [climdex.pcic](https://cran.r-project.org/web/packages/climdex.pcic/climdex.pcic.pdf)'s functions which return the annual count of days where daily precipitation is more than some threshold per day\n",
    "\n",
    "- **Precipitation Exceeding 10mm Per Day** ([climdex.r10mm](https://cran.r-project.org/web/packages/climdex.pcic/climdex.pcic.pdf#page=16)): This function takes a climdexInput object as input and computes the climdex index R10mm:  theannual count of days where daily precipitation is more than 10mm per day.\n",
    "\n",
    "- **Precipitation Exceeding 20mm Per Day** ([climdex.r20mm](https://cran.r-project.org/web/packages/climdex.pcic/climdex.pcic.pdf#page=17)): This function takes a climdexInput object as input and computes the climdex index R20mm:  theannual count of days where daily precipitation is more than 20mm per day.\n",
    "\n",
    "- **Precipitation Exceeding A Specified Amount Per Day** ([climdex.rnnmm](https://cran.r-project.org/web/packages/climdex.pcic/climdex.pcic.pdf#page=20)): This function takes a climdexInput object as input and computes the climdex index Rnnmm:  theannual count of days where daily precipitation is more thannnmm per day"
   ]
  },
  {
   "cell_type": "code",
   "execution_count": 1,
   "metadata": {},
   "outputs": [],
   "source": [
    "import os\n",
    "import requests\n",
    "from birdy import WPSClient\n",
    "from rpy2 import robjects\n",
    "from urllib.request import urlretrieve\n",
    "from pkg_resources import resource_filename\n",
    "from tempfile import NamedTemporaryFile\n",
    "\n",
    "from wps_tools.testing import get_target_url\n",
    "from wps_tools.R import rda_to_vector, construct_r_out, test_rda_output"
   ]
  },
  {
   "cell_type": "code",
   "execution_count": 2,
   "metadata": {},
   "outputs": [],
   "source": [
    "# Ensure we are in the working directory with access to the data\n",
    "while os.path.basename(os.getcwd()) != \"quail\":\n",
    "    os.chdir('../')"
   ]
  },
  {
   "cell_type": "code",
   "execution_count": 3,
   "metadata": {},
   "outputs": [
    {
     "name": "stdout",
     "output_type": "stream",
     "text": [
      "Using quail on https://docker-dev03.pcic.uvic.ca/twitcher/ows/proxy/quail/wps\n"
     ]
    }
   ],
   "source": [
    "# NBVAL_IGNORE_OUTPUT\n",
    "url = get_target_url(\"quail\")\n",
    "print(f\"Using quail on {url}\")"
   ]
  },
  {
   "cell_type": "code",
   "execution_count": 4,
   "metadata": {},
   "outputs": [],
   "source": [
    "quail = WPSClient(url)"
   ]
  },
  {
   "cell_type": "markdown",
   "metadata": {},
   "source": [
    "#### Help for individual processes can be diplayed using the ? command (ex/ bird.process?)"
   ]
  },
  {
   "cell_type": "code",
   "execution_count": 5,
   "metadata": {},
   "outputs": [
    {
     "data": {
      "text/plain": [
       "\u001b[0;31mSignature:\u001b[0m\n",
       "\u001b[0mquail\u001b[0m\u001b[0;34m.\u001b[0m\u001b[0mclimdex_rmm\u001b[0m\u001b[0;34m(\u001b[0m\u001b[0;34m\u001b[0m\n",
       "\u001b[0;34m\u001b[0m    \u001b[0mclimdex_input\u001b[0m\u001b[0;34m,\u001b[0m\u001b[0;34m\u001b[0m\n",
       "\u001b[0;34m\u001b[0m    \u001b[0mthreshold\u001b[0m\u001b[0;34m=\u001b[0m\u001b[0;32mNone\u001b[0m\u001b[0;34m,\u001b[0m\u001b[0;34m\u001b[0m\n",
       "\u001b[0;34m\u001b[0m    \u001b[0mloglevel\u001b[0m\u001b[0;34m=\u001b[0m\u001b[0;34m'INFO'\u001b[0m\u001b[0;34m,\u001b[0m\u001b[0;34m\u001b[0m\n",
       "\u001b[0;34m\u001b[0m    \u001b[0moutput_file\u001b[0m\u001b[0;34m=\u001b[0m\u001b[0;34m'output.rda'\u001b[0m\u001b[0;34m,\u001b[0m\u001b[0;34m\u001b[0m\n",
       "\u001b[0;34m\u001b[0m    \u001b[0moutput_formats\u001b[0m\u001b[0;34m=\u001b[0m\u001b[0;32mNone\u001b[0m\u001b[0;34m,\u001b[0m\u001b[0;34m\u001b[0m\n",
       "\u001b[0;34m\u001b[0m\u001b[0;34m)\u001b[0m\u001b[0;34m\u001b[0m\u001b[0;34m\u001b[0m\u001b[0m\n",
       "\u001b[0;31mDocstring:\u001b[0m\n",
       "The annual count of days where daily precipitation is more than [threshold] mm per day\n",
       "\n",
       "Parameters\n",
       "----------\n",
       "climdex_input : ComplexData:mimetype:`application/x-gzip`\n",
       "    RDS or Rdata (.rds, .rda, .rdata) file containing R Object of type climdexInput\n",
       "output_file : string\n",
       "    Filename to store the output Rdata (extension .rda)\n",
       "threshold : float\n",
       "    mm threshold for daily precipitation\n",
       "loglevel : {'CRITICAL', 'ERROR', 'WARNING', 'INFO', 'DEBUG', 'NOTSET'}string\n",
       "    Logging level\n",
       "\n",
       "Returns\n",
       "-------\n",
       "rda_output : ComplexData:mimetype:`application/x-gzip`\n",
       "    Rda file containing R output data\n",
       "\u001b[0;31mFile:\u001b[0m      ~/github/quail/</tmp/quail-venv/lib/python3.8/site-packages/birdy/client/base.py-5>\n",
       "\u001b[0;31mType:\u001b[0m      method\n"
      ]
     },
     "metadata": {},
     "output_type": "display_data"
    }
   ],
   "source": [
    "# NBVAL_IGNORE_OUTPUT\n",
    "quail.climdex_rmm?"
   ]
  },
  {
   "cell_type": "markdown",
   "metadata": {},
   "source": [
    "#### Run wps_climdex_rmm with climdex.r10mm"
   ]
  },
  {
   "cell_type": "code",
   "execution_count": 6,
   "metadata": {},
   "outputs": [],
   "source": [
    "with NamedTemporaryFile(suffix=\".rda\", prefix=\"r10mm_\", dir=\"/tmp\", delete=True) as output_file:\n",
    "    output = quail.climdex_rmm(\n",
    "            climdex_input=resource_filename(\"tests\",\"data/climdexInput.rda\"),\n",
    "            threshold=10.0,\n",
    "            output_file=output_file.name,\n",
    "        )\n",
    "r10mm_url = output.get()[0]"
   ]
  },
  {
   "cell_type": "markdown",
   "metadata": {},
   "source": [
    "You can also use rds input\n",
    "#### Run wps_climdex_rmm with climdex.r20mm with rds input"
   ]
  },
  {
   "cell_type": "code",
   "execution_count": 7,
   "metadata": {},
   "outputs": [],
   "source": [
    "with NamedTemporaryFile(suffix=\".rda\", prefix=\"r20mm_\", dir=\"/tmp\", delete=True) as output_file:\n",
    "    output = quail.climdex_rmm(\n",
    "            climdex_input=resource_filename(\"tests\",\"data/climdexInput.rds\"),\n",
    "            threshold=20.0,\n",
    "            output_file=output_file.name,\n",
    "        )\n",
    "r20mm_url = output.get()[0]"
   ]
  },
  {
   "cell_type": "markdown",
   "metadata": {},
   "source": [
    "You can use multiple inputs\n",
    "#### Run wps_climdex_rmm with climdex.rnnmm with rds input with multiple inputs"
   ]
  },
  {
   "cell_type": "code",
   "execution_count": 8,
   "metadata": {},
   "outputs": [],
   "source": [
    "climdex_inputs = [\n",
    "    resource_filename(\"tests\",\"data/climdexInput.rds\"),\n",
    "    resource_filename(\"tests\",\"data/climdexInput.rda\"),\n",
    "    resource_filename(\"tests\",\"data/climdex_input_multiple.rda\")\n",
    "]\n",
    "with NamedTemporaryFile(suffix=\".rda\", prefix=\"rm=nnmm_\", dir=\"/tmp\", delete=True) as output_file:\n",
    "    output = quail.climdex_rmm(\n",
    "            climdex_input=climdex_inputs,\n",
    "            threshold=9.7,\n",
    "            output_file=output_file.name,\n",
    "        )\n",
    "rnnmm_url = output.get()[0]"
   ]
  },
  {
   "cell_type": "markdown",
   "metadata": {},
   "source": [
    "Access the output with **rda_to_vector** or **construct_r_out** from **wps_tools.R**"
   ]
  },
  {
   "cell_type": "code",
   "execution_count": 9,
   "metadata": {},
   "outputs": [
    {
     "name": "stdout",
     "output_type": "stream",
     "text": [
      "r10mm\n",
      "1959 1960 1961 1962 1963 1964 1965 1966 1967 1968 1969 1970 1971 1972 1973 1974 \n",
      "  NA   24   NA   NA   NA   26   27   22   34   30   16   25   26   28   19   26 \n",
      "1975 1976 1977 1978 1979 1980 1981 1982 1983 1984 1985 1986 1987 1988 1989 1990 \n",
      "  33   NA   NA   15   18   27   26   NA   33   NA   NA   NA   NA   NA   22   44 \n",
      "1991 1992 1993 1994 1995 1996 1997 1998 1999 2000 2001 2002 2003 2004 \n",
      "  NA   22   NA   NA   31   NA   41   34   42   16   21   NA   35   NA \n",
      "\n",
      "r20mm\n",
      "1959 1960 1961 1962 1963 1964 1965 1966 1967 1968 1969 1970 1971 1972 1973 1974 \n",
      "  NA    7   NA   NA   NA    6   10    9   13    7    4    2   12   14    3    6 \n",
      "1975 1976 1977 1978 1979 1980 1981 1982 1983 1984 1985 1986 1987 1988 1989 1990 \n",
      "  11   NA   NA    2    7    8    8   NA    7   NA   NA   NA   NA   NA    9   11 \n",
      "1991 1992 1993 1994 1995 1996 1997 1998 1999 2000 2001 2002 2003 2004 \n",
      "  NA    7   NA   NA   10   NA    9   13   13    2    7   NA   12   NA \n",
      "\n",
      "rnnmm\n",
      "1959 1960 1961 1962 1963 1964 1965 1966 1967 1968 1969 1970 1971 1972 1973 1974 \n",
      "  NA   24   NA   NA   NA   28   30   23   41   35   19   27   30   30   21   28 \n",
      "1975 1976 1977 1978 1979 1980 1981 1982 1983 1984 1985 1986 1987 1988 1989 1990 \n",
      "  35   NA   NA   16   19   28   28   NA   34   NA   NA   NA   NA   NA   23   45 \n",
      "1991 1992 1993 1994 1995 1996 1997 1998 1999 2000 2001 2002 2003 2004 \n",
      "  NA   25   NA   NA   32   NA   41   36   43   16   22   NA   36   NA \n",
      "\n"
     ]
    }
   ],
   "source": [
    "# NBVAL_IGNORE_OUTPUT\n",
    "# use print() to see whole vector\n",
    "r10mm = rda_to_vector(r10mm_url, \"r10.0mm1_ci\")\n",
    "print(f\"r10mm\\n{r10mm}\")\n",
    "r20mm = rda_to_vector(r20mm_url, \"r20.0mm1_ci\")\n",
    "print(f\"r20mm\\n{r20mm}\")\n",
    "rnnmm = rda_to_vector(rnnmm_url, \"r9.7mm1_ci\")\n",
    "print(f\"rnnmm\\n{rnnmm}\")"
   ]
  },
  {
   "cell_type": "code",
   "execution_count": 10,
   "metadata": {},
   "outputs": [
    {
     "data": {
      "text/plain": [
       "[[R object with classes: ('numeric',) mapped to:\n",
       "  [     nan, 24.000000,      nan,      nan, ..., 21.000000,      nan, 35.000000,      nan]],\n",
       " [R object with classes: ('numeric',) mapped to:\n",
       "  [     nan, 7.000000,      nan,      nan, ..., 7.000000,      nan, 12.000000,      nan]],\n",
       " [R object with classes: ('numeric',) mapped to:\n",
       "  [     nan, 24.000000,      nan,      nan, ..., 22.000000,      nan, 36.000000,      nan],\n",
       "  R object with classes: ('numeric',) mapped to:\n",
       "  [     nan, 24.000000,      nan,      nan, ..., 22.000000,      nan, 36.000000,      nan],\n",
       "  R object with classes: ('numeric',) mapped to:\n",
       "  [     nan, 24.000000,      nan,      nan, ..., 22.000000,      nan, 36.000000,      nan],\n",
       "  R object with classes: ('numeric',) mapped to:\n",
       "  [     nan, 24.000000,      nan,      nan, ..., 22.000000,      nan, 36.000000,      nan]]]"
      ]
     },
     "execution_count": 10,
     "metadata": {},
     "output_type": "execute_result"
    }
   ],
   "source": [
    "# NBVAL_IGNORE_OUTPUT\n",
    "construct_r_out([r10mm_url, r20mm_url, rnnmm_url])"
   ]
  },
  {
   "cell_type": "code",
   "execution_count": 11,
   "metadata": {},
   "outputs": [],
   "source": [
    "test_rda_output(\n",
    "    r10mm_url, \"r10.0mm1_ci\", \"expected_rmm.rda\", \"expected_r10mm\"\n",
    "    )\n",
    "\n",
    "test_rda_output(\n",
    "    r20mm_url, \"r20.0mm1_ci\", \"expected_rmm.rda\", \"expected_r20mm\"\n",
    "    )\n",
    "\n",
    "test_rda_output(\n",
    "    rnnmm_url, \"r9.7mm1_ci\", \"expected_rmm.rda\", \"expected_rnnmm\"\n",
    "    )"
   ]
  }
 ],
 "metadata": {
  "kernelspec": {
   "display_name": "Python 3",
   "language": "python",
   "name": "python3"
  },
  "language_info": {
   "codemirror_mode": {
    "name": "ipython",
    "version": 3
   },
   "file_extension": ".py",
   "mimetype": "text/x-python",
   "name": "python",
   "nbconvert_exporter": "python",
   "pygments_lexer": "ipython3",
   "version": "3.8.5"
  }
 },
 "nbformat": 4,
 "nbformat_minor": 4
}
