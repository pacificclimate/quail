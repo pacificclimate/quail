{
 "cells": [
  {
   "cell_type": "markdown",
   "metadata": {},
   "source": [
    "### wps_climdex_rxnday\n",
    "\n",
    "WPS wrapper for [climdex.pcic](https://cran.r-project.org/web/packages/climdex.pcic/climdex.pcic.pdf)'s rx1day and rx5day functions\n",
    "\n",
    "**Monthly Maximum 1-day Precipitation** ([climdex.rx1day](https://cran.r-project.org/web/packages/climdex.pcic/climdex.pcic.pdf#page=21)) This function takes a climdexInput object as input and computes the climdex index Rx1day: monthlyor annual maximum 1-day precipitation.\n",
    "\n",
    "**Monthly Maximum 5-day Consecutive Precipitation** ([climdex.rx5day](https://cran.r-project.org/web/packages/climdex.pcic/climdex.pcic.pdf#page=23)) This function takes a climdexInput object as input and computes the climdex index Rx5day: monthlyor annual maximum 5-day consecutive precipitation."
   ]
  },
  {
   "cell_type": "code",
   "execution_count": 1,
   "metadata": {},
   "outputs": [],
   "source": [
    "import os\n",
    "import requests\n",
    "from birdy import WPSClient\n",
    "from rpy2 import robjects\n",
    "from urllib.request import urlretrieve\n",
    "from importlib.resources import files\n",
    "from tempfile import NamedTemporaryFile\n",
    "\n",
    "from wps_tools.R import rda_to_vector, construct_r_out, test_rda_output\n",
    "from wps_tools.testing import get_target_url"
   ]
  },
  {
   "cell_type": "code",
   "execution_count": 2,
   "metadata": {},
   "outputs": [],
   "source": [
    "# Ensure we are in the working directory with access to the data\n",
    "while os.path.basename(os.getcwd()) != \"quail\":\n",
    "    os.chdir('../')"
   ]
  },
  {
   "cell_type": "code",
   "execution_count": 3,
   "metadata": {},
   "outputs": [
    {
     "name": "stdout",
     "output_type": "stream",
     "text": [
      "Using quail on https://marble-dev01.pcic.uvic.ca/twitcher/ows/proxy/quail/wps\n"
     ]
    }
   ],
   "source": [
    "# NBVAL_IGNORE_OUTPUT\n",
    "url = get_target_url(\"quail\")\n",
    "print(f\"Using quail on {url}\")"
   ]
  },
  {
   "cell_type": "code",
   "execution_count": 4,
   "metadata": {},
   "outputs": [],
   "source": [
    "quail = WPSClient(url)"
   ]
  },
  {
   "cell_type": "markdown",
   "metadata": {},
   "source": [
    "#### Help for individual processes can be diplayed using the ? command (ex/ bird.process?)"
   ]
  },
  {
   "cell_type": "code",
   "execution_count": 5,
   "metadata": {},
   "outputs": [
    {
     "data": {
      "text/plain": [
       "\u001b[0;31mSignature:\u001b[0m\n",
       "\u001b[0mquail\u001b[0m\u001b[0;34m.\u001b[0m\u001b[0mclimdex_rxnday\u001b[0m\u001b[0;34m(\u001b[0m\u001b[0;34m\u001b[0m\n",
       "\u001b[0;34m\u001b[0m    \u001b[0mclimdex_input\u001b[0m\u001b[0;34m,\u001b[0m\u001b[0;34m\u001b[0m\n",
       "\u001b[0;34m\u001b[0m    \u001b[0mnum_days\u001b[0m\u001b[0;34m=\u001b[0m\u001b[0;32mNone\u001b[0m\u001b[0;34m,\u001b[0m\u001b[0;34m\u001b[0m\n",
       "\u001b[0;34m\u001b[0m    \u001b[0mloglevel\u001b[0m\u001b[0;34m=\u001b[0m\u001b[0;34m'INFO'\u001b[0m\u001b[0;34m,\u001b[0m\u001b[0;34m\u001b[0m\n",
       "\u001b[0;34m\u001b[0m    \u001b[0moutput_file\u001b[0m\u001b[0;34m=\u001b[0m\u001b[0;34m'output.rda'\u001b[0m\u001b[0;34m,\u001b[0m\u001b[0;34m\u001b[0m\n",
       "\u001b[0;34m\u001b[0m    \u001b[0mfreq\u001b[0m\u001b[0;34m=\u001b[0m\u001b[0;34m'monthly'\u001b[0m\u001b[0;34m,\u001b[0m\u001b[0;34m\u001b[0m\n",
       "\u001b[0;34m\u001b[0m    \u001b[0mcenter_mean_on_last_day\u001b[0m\u001b[0;34m=\u001b[0m\u001b[0;32mFalse\u001b[0m\u001b[0;34m,\u001b[0m\u001b[0;34m\u001b[0m\n",
       "\u001b[0;34m\u001b[0m    \u001b[0moutput_formats\u001b[0m\u001b[0;34m=\u001b[0m\u001b[0;32mNone\u001b[0m\u001b[0;34m,\u001b[0m\u001b[0;34m\u001b[0m\n",
       "\u001b[0;34m\u001b[0m\u001b[0;34m)\u001b[0m\u001b[0;34m\u001b[0m\u001b[0;34m\u001b[0m\u001b[0m\n",
       "\u001b[0;31mDocstring:\u001b[0m\n",
       "Computes the mean daily diurnal temperature range.\n",
       "\n",
       "Parameters\n",
       "----------\n",
       "climdex_input : ComplexData:mimetype:`application/x-gzip`\n",
       "    RDS or Rdata (.rds, .rda, .rdata) file containing R Object of type climdexInput\n",
       "output_file : string\n",
       "    Filename to store the output Rdata (extension .rda)\n",
       "freq : {'monthly', 'annual'}string\n",
       "    Time frequency to aggregate to\n",
       "num_days : {'1', '5'}positiveInteger\n",
       "    Compute rx[1]day or rx[5]day\n",
       "center_mean_on_last_day : boolean\n",
       "    Whether to center the 5-day running mean on the last day of the window, insteadof the center day.\n",
       "loglevel : {'CRITICAL', 'ERROR', 'WARNING', 'INFO', 'DEBUG', 'NOTSET'}string\n",
       "    Logging level\n",
       "\n",
       "Returns\n",
       "-------\n",
       "rda_output : ComplexData:mimetype:`application/x-gzip`\n",
       "    Rda file containing R output data\n",
       "\u001b[0;31mFile:\u001b[0m      ~/github/quail/</tmp/quail-venv/lib/python3.8/site-packages/birdy/client/base.py-13>\n",
       "\u001b[0;31mType:\u001b[0m      method\n"
      ]
     },
     "metadata": {},
     "output_type": "display_data"
    }
   ],
   "source": [
    "# NBVAL_IGNORE_OUTPUT\n",
    "quail.climdex_rxnday?"
   ]
  },
  {
   "cell_type": "markdown",
   "metadata": {},
   "source": [
    "#### Run wps_climdex_rxnday Process with rx1day with rda input"
   ]
  },
  {
   "cell_type": "code",
   "execution_count": 6,
   "metadata": {},
   "outputs": [],
   "source": [
    "with NamedTemporaryFile(suffix=\".rda\", prefix=\"rx1day_\", dir=\"/tmp\", delete=True) as output_file:\n",
    "    output = quail.climdex_rxnday(\n",
    "            climdex_input=(files(\"tests\") / \"data/climdexInput.rda\").resolve(),\n",
    "            freq=\"annual\",\n",
    "            num_days=1,\n",
    "            output_file=output_file.name,\n",
    "        )\n",
    "rx1day_url = output.get()[0]"
   ]
  },
  {
   "cell_type": "markdown",
   "metadata": {},
   "source": [
    "#### Run wps_climdex_rxnday Process with rx5day with rds input"
   ]
  },
  {
   "cell_type": "code",
   "execution_count": 7,
   "metadata": {},
   "outputs": [],
   "source": [
    "with NamedTemporaryFile(suffix=\".rda\", prefix=\"rx5day_\", dir=\"/tmp\", delete=True) as output_file:\n",
    "    output = quail.climdex_rxnday(\n",
    "            climdex_input=(files(\"tests\") / \"data/climdexInput.rds\").resolve(),\n",
    "            freq=\"annual\",\n",
    "            num_days=5,\n",
    "            center_mean_on_last_day=False,\n",
    "            output_file=output_file.name,\n",
    "        )\n",
    "rx5day_url = output.get()[0]"
   ]
  },
  {
   "cell_type": "markdown",
   "metadata": {},
   "source": [
    "You can also have multiple inputs "
   ]
  },
  {
   "cell_type": "code",
   "execution_count": 8,
   "metadata": {},
   "outputs": [],
   "source": [
    "climdex_inputs = [\n",
    "    (files(\"tests\") / \"data/climdexInput.rds\").resolve(),\n",
    "    (files(\"tests\") / \"data/climdexInput.rda\").resolve(),\n",
    "    (files(\"tests\") / \"data/climdex_input_multiple.rda\").resolve(),\n",
    "]\n",
    "with NamedTemporaryFile(suffix=\".rda\", prefix=\"rx5day_\", dir=\"/tmp\", delete=True) as output_file:\n",
    "    output = quail.climdex_rxnday(\n",
    "            climdex_input=climdex_inputs,\n",
    "            freq=\"annual\",\n",
    "            num_days=5,\n",
    "            center_mean_on_last_day=False,\n",
    "            output_file=output_file.name,\n",
    "        )\n",
    "rx5day_url = output.get()[0]"
   ]
  },
  {
   "cell_type": "markdown",
   "metadata": {},
   "source": [
    "Access the output with **rda_to_vector** or **construct_r_out** from **wps_tools.R**"
   ]
  },
  {
   "cell_type": "code",
   "execution_count": 12,
   "metadata": {},
   "outputs": [
    {
     "name": "stdout",
     "output_type": "stream",
     "text": [
      "rx1day\n",
      "1959 1960 1961 1962 1963 1964 1965 1966 1967 1968 1969 1970 1971 1972 1973 1974 \n",
      "  NA 50.8   NA   NA   NA 38.1 34.8 30.2 45.2 82.3 24.9 27.9 66.3 64.8 42.7 57.9 \n",
      "1975 1976 1977 1978 1979 1980 1981 1982 1983 1984 1985 1986 1987 1988 1989 1990 \n",
      "56.9   NA   NA 37.2 50.0 62.0 32.2   NA 54.2   NA   NA   NA   NA   NA 58.2 91.6 \n",
      "1991 1992 1993 1994 1995 1996 1997 1998 1999 2000 2001 2002 2003 2004 \n",
      "  NA 52.8   NA   NA 88.0   NA 47.6 33.5 41.8 33.0 36.4   NA 76.0   NA \n",
      "\n",
      "rx5day\n",
      " 1959  1960  1961  1962  1963  1964  1965  1966  1967  1968  1969  1970  1971 \n",
      "   NA  66.1    NA    NA    NA  77.0  78.4  83.1  97.6  94.7  73.2  64.7 102.1 \n",
      " 1972  1973  1974  1975  1976  1977  1978  1979  1980  1981  1982  1983  1984 \n",
      "134.9  60.0 113.1 162.8    NA    NA  74.6 142.4  91.4  87.2    NA 129.6    NA \n",
      " 1985  1986  1987  1988  1989  1990  1991  1992  1993  1994  1995  1996  1997 \n",
      "   NA    NA    NA    NA 141.5 170.2    NA  87.1    NA    NA 151.0    NA  84.0 \n",
      " 1998  1999  2000  2001  2002  2003  2004 \n",
      "120.1 113.8  50.6  99.6    NA 164.4    NA \n",
      "\n"
     ]
    }
   ],
   "source": [
    "# NBVAL_IGNORE_OUTPUT\n",
    "rx1day = rda_to_vector(rx1day_url, \"rx1day1_ci\")\n",
    "# use print() to see whole vector\n",
    "print(f\"rx1day\\n{rx1day}\")\n",
    "rx5day = rda_to_vector(rx5day_url, \"rx5day1_ci\")\n",
    "print(f\"rx5day\\n{rx5day}\")"
   ]
  },
  {
   "cell_type": "code",
   "execution_count": 10,
   "metadata": {},
   "outputs": [
    {
     "data": {
      "text/plain": [
       "[[R object with classes: ('numeric',) mapped to:\n",
       "  [     nan, 50.799999,      nan,      nan, ..., 36.400002,      nan, 76.000000,      nan]],\n",
       " [R object with classes: ('numeric',) mapped to:\n",
       "  [     nan, 66.099999,      nan,      nan, ..., 99.600003,      nan, 164.400000,      nan],\n",
       "  R object with classes: ('numeric',) mapped to:\n",
       "  [     nan, 66.099999,      nan,      nan, ..., 99.600003,      nan, 164.400000,      nan],\n",
       "  R object with classes: ('numeric',) mapped to:\n",
       "  [     nan, 66.099999,      nan,      nan, ..., 99.600003,      nan, 164.400000,      nan],\n",
       "  R object with classes: ('numeric',) mapped to:\n",
       "  [     nan, 66.099999,      nan,      nan, ..., 99.600003,      nan, 164.400000,      nan]]]"
      ]
     },
     "execution_count": 10,
     "metadata": {},
     "output_type": "execute_result"
    }
   ],
   "source": [
    "# NBVAL_IGNORE_OUTPUT\n",
    "construct_r_out([rx1day_url, rx5day_url])"
   ]
  },
  {
   "cell_type": "markdown",
   "metadata": {},
   "source": [
    "#### Test output against expected output"
   ]
  },
  {
   "cell_type": "code",
   "execution_count": 11,
   "metadata": {},
   "outputs": [],
   "source": [
    "test_rda_output(\n",
    "    rx1day_url, \"rx1day1_ci\", \"expected_rxnday.rda\", \"expected_rx1day_annual\"\n",
    ")\n",
    "test_rda_output(\n",
    "    rx5day_url, \"rx5day1_ci\", \"expected_rxnday.rda\", \"expected_rx5day_annual\"\n",
    ")"
   ]
  }
 ],
 "metadata": {
  "kernelspec": {
   "display_name": "Python 3 (ipykernel)",
   "language": "python",
   "name": "python3"
  },
  "language_info": {
   "codemirror_mode": {
    "name": "ipython",
    "version": 3
   },
   "file_extension": ".py",
   "mimetype": "text/x-python",
   "name": "python",
   "nbconvert_exporter": "python",
   "pygments_lexer": "ipython3",
   "version": "3.12.3"
  }
 },
 "nbformat": 4,
 "nbformat_minor": 4
}
