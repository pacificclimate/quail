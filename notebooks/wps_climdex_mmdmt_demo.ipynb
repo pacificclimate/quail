{
 "cells": [
  {
   "cell_type": "markdown",
   "metadata": {},
   "source": [
    "### wps_climdex_mmdmt\n",
    "\n",
    "WPS wrapper for [climdex.pcic](https://cran.r-project.org/web/packages/climdex.pcic/climdex.pcic.pdf)'s Monthly or Annual Maximum or Minimum of Daily Maximum or Minimum Temperature functions\n",
    "\n",
    "- **Monthly Maximum of Daily Maximum Temperature** ([climdex.txx](https://cran.r-project.org/web/packages/climdex.pcic/climdex.pcic.pdf#page=37)): This function takes a climdexInput object as input and computes the monthly or annual maximum of daily maximum temperature\n",
    "- **Monthly Maximum of Daily Minimum Temperature** ([climdex.tnx](https://cran.r-project.org/web/packages/climdex.pcic/climdex.pcic.pdf#page=31)): This function takes a climdexInput object as input and computes the monthly or annual maximum of daily minimum temperature.\n",
    "- **Monthly Minimum of Daily Maximum Temperature** ([climdex.txn](https://cran.r-project.org/web/packages/climdex.pcic/climdex.pcic.pdf#page=36)): This function takes a climdexInput object as input and computes the monthly or annual minimum of daily maximum temperature\n",
    "- **Monthly Minimum of Daily Minimum Temperature** ([climdex.tnn](https://cran.r-project.org/web/packages/climdex.pcic/climdex.pcic.pdf#page=29)): This function takes a climdexInput object as input and computes the monthly or annual minimum of daily Minimum temperature"
   ]
  },
  {
   "cell_type": "code",
   "execution_count": 1,
   "metadata": {},
   "outputs": [],
   "source": [
    "import os\n",
    "import requests\n",
    "from birdy import WPSClient\n",
    "from rpy2 import robjects\n",
    "from urllib.request import urlretrieve\n",
    "from pkg_resources import resource_filename\n",
    "from tempfile import NamedTemporaryFile\n",
    "\n",
    "from wps_tools.R import rda_to_vector, construct_r_out, test_rda_output\n",
    "from wps_tools.testing import get_target_url"
   ]
  },
  {
   "cell_type": "code",
   "execution_count": 2,
   "metadata": {},
   "outputs": [],
   "source": [
    "# Ensure we are in the working directory with access to the data\n",
    "while os.path.basename(os.getcwd()) != \"quail\":\n",
    "    os.chdir('../')"
   ]
  },
  {
   "cell_type": "code",
   "execution_count": 3,
   "metadata": {},
   "outputs": [
    {
     "name": "stdout",
     "output_type": "stream",
     "text": [
      "Using quail on https://docker-dev03.pcic.uvic.ca/twitcher/ows/proxy/quail/wps\n"
     ]
    }
   ],
   "source": [
    "# NBVAL_IGNORE_OUTPUT\n",
    "url = get_target_url(\"quail\")\n",
    "print(f\"Using quail on {url}\")"
   ]
  },
  {
   "cell_type": "code",
   "execution_count": 4,
   "metadata": {},
   "outputs": [],
   "source": [
    "quail = WPSClient(url)"
   ]
  },
  {
   "cell_type": "markdown",
   "metadata": {},
   "source": [
    "#### Help for individual processes can be diplayed using the ? command (ex/ bird.process?)"
   ]
  },
  {
   "cell_type": "code",
   "execution_count": 5,
   "metadata": {},
   "outputs": [
    {
     "data": {
      "text/plain": [
       "\u001b[0;31mSignature:\u001b[0m\n",
       "\u001b[0mquail\u001b[0m\u001b[0;34m.\u001b[0m\u001b[0mclimdex_mmdmt\u001b[0m\u001b[0;34m(\u001b[0m\u001b[0;34m\u001b[0m\n",
       "\u001b[0;34m\u001b[0m    \u001b[0mclimdex_input\u001b[0m\u001b[0;34m,\u001b[0m\u001b[0;34m\u001b[0m\n",
       "\u001b[0;34m\u001b[0m    \u001b[0mmonth_type\u001b[0m\u001b[0;34m=\u001b[0m\u001b[0;32mNone\u001b[0m\u001b[0;34m,\u001b[0m\u001b[0;34m\u001b[0m\n",
       "\u001b[0;34m\u001b[0m    \u001b[0mloglevel\u001b[0m\u001b[0;34m=\u001b[0m\u001b[0;34m'INFO'\u001b[0m\u001b[0;34m,\u001b[0m\u001b[0;34m\u001b[0m\n",
       "\u001b[0;34m\u001b[0m    \u001b[0moutput_file\u001b[0m\u001b[0;34m=\u001b[0m\u001b[0;34m'output.rda'\u001b[0m\u001b[0;34m,\u001b[0m\u001b[0;34m\u001b[0m\n",
       "\u001b[0;34m\u001b[0m    \u001b[0mfreq\u001b[0m\u001b[0;34m=\u001b[0m\u001b[0;34m'monthly'\u001b[0m\u001b[0;34m,\u001b[0m\u001b[0;34m\u001b[0m\n",
       "\u001b[0;34m\u001b[0m    \u001b[0moutput_formats\u001b[0m\u001b[0;34m=\u001b[0m\u001b[0;32mNone\u001b[0m\u001b[0;34m,\u001b[0m\u001b[0;34m\u001b[0m\n",
       "\u001b[0;34m\u001b[0m\u001b[0;34m)\u001b[0m\u001b[0;34m\u001b[0m\u001b[0;34m\u001b[0m\u001b[0m\n",
       "\u001b[0;31mDocstring:\u001b[0m\n",
       "climdex_mmdmt includes the functions:\n",
       "                - climdex.txx: Monthly (or annual) Maximum of Daily Maximum Temperature\n",
       "                - climdex.tnx: Monthly (or annual) Maximum of Daily Minimum Temperature\n",
       "                - climdex.txn: Monthly (or annual) Minimum of Daily Maximum Temperature\n",
       "                - climdex.tnn: Monthly (or annual) Minimum of Daily Minimum Temperature\n",
       "\n",
       "Parameters\n",
       "----------\n",
       "climdex_input : ComplexData:mimetype:`application/x-gzip`\n",
       "    RDS or Rdata (.rds, .rda, .rdata) file containing R Object of type climdexInput\n",
       "output_file : string\n",
       "    Filename to store the output Rdata (extension .rda)\n",
       "month_type : {'txx', 'tnx', 'txn', 'tnn'}string\n",
       "    Min/ max daily temperature type to compute\n",
       "freq : {'monthly', 'annual'}string\n",
       "    Time frequency to aggregate to\n",
       "loglevel : {'CRITICAL', 'ERROR', 'WARNING', 'INFO', 'DEBUG', 'NOTSET'}string\n",
       "    Logging level\n",
       "\n",
       "Returns\n",
       "-------\n",
       "rda_output : ComplexData:mimetype:`application/x-gzip`\n",
       "    Rda file containing R output data\n",
       "\u001b[0;31mFile:\u001b[0m      ~/github/quail/</tmp/quail-venv/lib/python3.8/site-packages/birdy/client/base.py-4>\n",
       "\u001b[0;31mType:\u001b[0m      method\n"
      ]
     },
     "metadata": {},
     "output_type": "display_data"
    }
   ],
   "source": [
    "# NBVAL_IGNORE_OUTPUT\n",
    "quail.climdex_mmdmt?"
   ]
  },
  {
   "cell_type": "markdown",
   "metadata": {},
   "source": [
    "## Monthly Maximum of Daily Maximum Temperature"
   ]
  },
  {
   "cell_type": "markdown",
   "metadata": {},
   "source": [
    "#### Run wps_climdex_mmdmt Process for climdex.txx() monthly"
   ]
  },
  {
   "cell_type": "code",
   "execution_count": 6,
   "metadata": {},
   "outputs": [],
   "source": [
    "with NamedTemporaryFile(suffix=\".rda\", prefix=\"txx_\", dir=\"/tmp\", delete=True) as output_file:\n",
    "    output = quail.climdex_mmdmt(\n",
    "            climdex_input=resource_filename(\"tests\",\"data/climdexInput.rda\"),\n",
    "            month_type=\"txx\",\n",
    "            output_file=output_file.name,\n",
    "        )\n",
    "txx_monthly_url = output.get()[0]"
   ]
  },
  {
   "cell_type": "markdown",
   "metadata": {},
   "source": [
    "#### Run wps_climdex_mmdmt Process for climdex.txx() annual"
   ]
  },
  {
   "cell_type": "code",
   "execution_count": 7,
   "metadata": {},
   "outputs": [],
   "source": [
    "with NamedTemporaryFile(suffix=\".rda\", prefix=\"txx_\", dir=\"/tmp\", delete=True) as output_file:\n",
    "    output = quail.climdex_mmdmt(\n",
    "            climdex_input=resource_filename(\"tests\",\"data/climdexInput.rda\"),\n",
    "            month_type=\"txx\",\n",
    "            freq=\"annual\",\n",
    "            output_file=output_file.name,\n",
    "        )\n",
    "txx_annual_url = output.get()[0]"
   ]
  },
  {
   "cell_type": "markdown",
   "metadata": {},
   "source": [
    "## Monthly Maximum of Daily Minimum Temperature"
   ]
  },
  {
   "cell_type": "markdown",
   "metadata": {},
   "source": [
    "#### Run wps_climdex_mmdmt Process for climdex.tnx() monthly"
   ]
  },
  {
   "cell_type": "code",
   "execution_count": 8,
   "metadata": {},
   "outputs": [],
   "source": [
    "with NamedTemporaryFile(suffix=\".rda\", prefix=\"tnx_\", dir=\"/tmp\", delete=True) as output_file:\n",
    "    output = quail.climdex_mmdmt(\n",
    "            climdex_input=resource_filename(\"tests\",\"data/climdexInput.rda\"),\n",
    "            month_type=\"tnx\",\n",
    "            output_file=output_file.name,\n",
    "        )\n",
    "tnx_monthly_url = output.get()[0]"
   ]
  },
  {
   "cell_type": "markdown",
   "metadata": {},
   "source": [
    "#### Run wps_climdex_mmdmt Process for climdex.tnx() annual"
   ]
  },
  {
   "cell_type": "code",
   "execution_count": 9,
   "metadata": {},
   "outputs": [],
   "source": [
    "with NamedTemporaryFile(suffix=\".rda\", prefix=\"tnx_\", dir=\"/tmp\", delete=True) as output_file:\n",
    "    output = quail.climdex_mmdmt(\n",
    "            climdex_input=resource_filename(\"tests\",\"data/climdexInput.rda\"),\n",
    "            month_type=\"tnx\",\n",
    "            freq=\"annual\",\n",
    "            output_file=output_file.name,\n",
    "        )\n",
    "tnx_annual_url = output.get()[0]"
   ]
  },
  {
   "cell_type": "markdown",
   "metadata": {},
   "source": [
    "## Monthly Minimum of Daily Maximum Temperature"
   ]
  },
  {
   "cell_type": "markdown",
   "metadata": {},
   "source": [
    "#### Run wps_climdex_mmdmt Process for climdex.txn() monthly"
   ]
  },
  {
   "cell_type": "code",
   "execution_count": 10,
   "metadata": {},
   "outputs": [],
   "source": [
    "with NamedTemporaryFile(suffix=\".rda\", prefix=\"txn_\", dir=\"/tmp\", delete=True) as output_file:\n",
    "    output = quail.climdex_mmdmt(\n",
    "            climdex_input=resource_filename(\"tests\",\"data/climdexInput.rda\"),\n",
    "            month_type=\"txn\",\n",
    "            output_file=output_file.name,\n",
    "        )\n",
    "txn_monthly_url = output.get()[0]"
   ]
  },
  {
   "cell_type": "markdown",
   "metadata": {},
   "source": [
    "You can also run with multiple file inputs"
   ]
  },
  {
   "cell_type": "markdown",
   "metadata": {},
   "source": [
    "#### Run wps_climdex_mmdmt Process for climdex.txn() annual with multiple inputs"
   ]
  },
  {
   "cell_type": "code",
   "execution_count": 11,
   "metadata": {},
   "outputs": [],
   "source": [
    "climdex_inputs = [\n",
    "    resource_filename(\"tests\",\"data/climdexInput.rds\"),\n",
    "    resource_filename(\"tests\",\"data/climdexInput.rda\"),\n",
    "    resource_filename(\"tests\",\"data/climdex_input_multiple.rda\")\n",
    "]\n",
    "with NamedTemporaryFile(suffix=\".rda\", prefix=\"txn_\", dir=\"/tmp\", delete=True) as output_file:\n",
    "    output = quail.climdex_mmdmt(\n",
    "            climdex_input=climdex_inputs,\n",
    "            month_type=\"txn\",\n",
    "            freq=\"annual\",\n",
    "            output_file=output_file.name,\n",
    "        )\n",
    "txn_annual_url = output.get()[0]"
   ]
  },
  {
   "cell_type": "markdown",
   "metadata": {},
   "source": [
    "## Monthly Minimum of Daily Minimum Temperature\n",
    "#### Run wps_climdex_mmdmt Process for climdex.tnn() monthly"
   ]
  },
  {
   "cell_type": "code",
   "execution_count": 12,
   "metadata": {},
   "outputs": [],
   "source": [
    "with NamedTemporaryFile(suffix=\".rda\", prefix=\"tnn_\", dir=\"/tmp\", delete=True) as output_file:\n",
    "    output = quail.climdex_mmdmt(\n",
    "            climdex_input=resource_filename(\"tests\",\"data/climdexInput.rda\"),\n",
    "            month_type=\"tnn\",\n",
    "            output_file=output_file.name,\n",
    "        )\n",
    "tnn_monthly_url = output.get()[0]"
   ]
  },
  {
   "cell_type": "markdown",
   "metadata": {},
   "source": [
    "You can also use rds input. Run wps_climdex_mmdmt Process for climdex.tnn() annual with rds input:"
   ]
  },
  {
   "cell_type": "code",
   "execution_count": 13,
   "metadata": {},
   "outputs": [],
   "source": [
    "with NamedTemporaryFile(suffix=\".rda\", prefix=\"tnn_\", dir=\"/tmp\", delete=True) as output_file:\n",
    "    output = quail.climdex_mmdmt(\n",
    "            climdex_input=resource_filename(\"tests\",\"data/climdexInput.rds\"),\n",
    "            month_type=\"tnn\",\n",
    "            freq=\"annual\",\n",
    "            output_file=output_file.name,\n",
    "        )\n",
    "tnn_annual_url = output.get()[0]"
   ]
  },
  {
   "cell_type": "markdown",
   "metadata": {},
   "source": [
    "Access the output with **rda_to_vector** or **construct_r_out** from **wps_tools.R**"
   ]
  },
  {
   "cell_type": "code",
   "execution_count": 15,
   "metadata": {},
   "outputs": [
    {
     "name": "stdout",
     "output_type": "stream",
     "text": [
      "Monthly Minimum of Daily Minimum Temperature (tnn)\n",
      " 1959  1960  1961  1962  1963  1964  1965  1966  1967  1968  1969  1970  1971 \n",
      "   NA  -3.3    NA    NA  -6.7    NA  -3.3  -1.7  -2.8 -13.9  -8.3  -2.2  -5.0 \n",
      " 1972  1973  1974  1975  1976  1977  1978  1979  1980  1981  1982  1983  1984 \n",
      " -8.3  -5.6  -6.1  -3.3    NA    NA  -8.5  -7.5  -6.5  -3.5  -8.5  -8.5    NA \n",
      " 1985  1986  1987  1988  1989  1990  1991  1992  1993  1994  1995  1996  1997 \n",
      "   NA  -4.0    NA  -2.0 -11.0  -8.5    NA  -4.5    NA    NA  -4.0  -6.5  -4.0 \n",
      " 1998  1999  2000  2001  2002  2003  2004 \n",
      " -6.0   0.0  -0.5  -1.0    NA   0.0    NA \n",
      "\n"
     ]
    }
   ],
   "source": [
    "# Eg/ Monthly Minimum of Daily Minimum Temperature\n",
    "tnn = rda_to_vector(tnn_annual_url, \"tnn_annual1_ci\")\n",
    "# use print() to see whole vector\n",
    "print(f\"Monthly Minimum of Daily Minimum Temperature (tnn)\\n{tnn}\")"
   ]
  },
  {
   "cell_type": "code",
   "execution_count": 16,
   "metadata": {},
   "outputs": [
    {
     "data": {
      "text/plain": [
       "[[R object with classes: ('numeric',) mapped to:\n",
       "  [     nan,      nan,      nan,      nan, ..., 22.000000, 18.000000,      nan,      nan]],\n",
       " [R object with classes: ('numeric',) mapped to:\n",
       "  [     nan,      nan,      nan,      nan, ..., 12.500000, 10.000000,      nan,      nan]],\n",
       " [R object with classes: ('numeric',) mapped to:\n",
       "  [     nan,      nan,      nan,      nan, ..., 14.000000, 9.500000,      nan,      nan]],\n",
       " [R object with classes: ('numeric',) mapped to:\n",
       "  [     nan,      nan,      nan,      nan, ..., 7.000000, 4.000000,      nan,      nan]]]"
      ]
     },
     "execution_count": 16,
     "metadata": {},
     "output_type": "execute_result"
    }
   ],
   "source": [
    "construct_r_out([txx_monthly_url, tnx_monthly_url, txn_monthly_url, tnn_monthly_url])"
   ]
  },
  {
   "cell_type": "markdown",
   "metadata": {},
   "source": [
    "#### Test output against expected output"
   ]
  },
  {
   "cell_type": "code",
   "execution_count": 18,
   "metadata": {},
   "outputs": [],
   "source": [
    "test_rda_output(\n",
    "    txx_monthly_url, \"txx_monthly1_ci\", \"expected_mmdmt_data.rda\", \"expected_txx_monthly\"\n",
    ")\n",
    "test_rda_output(\n",
    "    txx_annual_url, \"txx_annual1_ci\", \"expected_mmdmt_data.rda\", \"expected_txx_annual\"\n",
    ")\n",
    "test_rda_output(\n",
    "    tnx_monthly_url, \"tnx_monthly1_ci\", \"expected_mmdmt_data.rda\", \"expected_tnx_monthly\"\n",
    ")\n",
    "test_rda_output(\n",
    "    tnx_annual_url, \"tnx_annual1_ci\", \"expected_mmdmt_data.rda\", \"expected_tnx_annual\"\n",
    ")\n",
    "test_rda_output(\n",
    "    txn_monthly_url, \"txn_monthly1_ci\", \"expected_mmdmt_data.rda\", \"expected_txn_monthly\"\n",
    ")\n",
    "test_rda_output(\n",
    "    txn_annual_url, \"txn_annual1_ci\", \"expected_mmdmt_data.rda\", \"expected_txn_annual\"\n",
    ")\n",
    "test_rda_output(\n",
    "    tnn_monthly_url, \"tnn_monthly1_ci\", \"expected_mmdmt_data.rda\", \"expected_tnn_monthly\"\n",
    ")\n",
    "test_rda_output(\n",
    "    tnn_annual_url, \"tnn_annual1_ci\", \"expected_mmdmt_data.rda\", \"expected_tnn_annual\"\n",
    ")"
   ]
  }
 ],
 "metadata": {
  "kernelspec": {
   "display_name": "Python 3",
   "language": "python",
   "name": "python3"
  },
  "language_info": {
   "codemirror_mode": {
    "name": "ipython",
    "version": 3
   },
   "file_extension": ".py",
   "mimetype": "text/x-python",
   "name": "python",
   "nbconvert_exporter": "python",
   "pygments_lexer": "ipython3",
   "version": "3.8.5"
  }
 },
 "nbformat": 4,
 "nbformat_minor": 4
}
