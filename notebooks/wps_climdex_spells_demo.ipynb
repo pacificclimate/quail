{
 "cells": [
  {
   "cell_type": "markdown",
   "metadata": {},
   "source": [
    "### wps_climdex_spells\n",
    "\n",
    "WPS wrapper for [climdex.pcic](https://cran.r-project.org/web/packages/climdex.pcic/climdex.pcic.pdf) spell duration index functions\n",
    "\n",
    "- **Warm Spell Duration Index** ([climdex.wsdi](https://cran.r-project.org/web/packages/climdex.pcic/climdex.pcic.pdf#page=38)) The warm spell duration index is defined as the number of days each year which are part of a \"warmspell\".  A \"warm spell\" is defined as a sequence of 6 or more days in which the daily maximumtemperature exceeds the 90th percentile of daily maximum temperature for a 5-day running windowsurrounding this day during the baseline period.\n",
    "- **Cold Spell Duration Index** ([climdex.csdi](https://cran.r-project.org/web/packages/climdex.pcic/climdex.pcic.pdf#page=4)) The cold spell duration index is defined as the number of days each year which are part of a \"coldspell\".   A \"cold spell\" is defined as a sequence of 6 or more days in which the daily minimumtemperature is below the 10th percentile of daily minimum temperature for a 5-day running windowsurrounding this day during the baseline period.\n",
    "- **Maximum Consecutive Dry Days** ([climdex.cdd](https://cran.r-project.org/web/packages/climdex.pcic/climdex.pcic.pdf#page=3))This function computes the climdex index CDD: the annual maximum length of dry spells, in days. Dry spells are considered to be sequences of days where daily preciptation is less than 1mm per day.\n"
   ]
  },
  {
   "cell_type": "code",
   "execution_count": 2,
   "metadata": {},
   "outputs": [],
   "source": [
    "import os\n",
    "import requests\n",
    "from birdy import WPSClient\n",
    "from rpy2 import robjects\n",
    "from urllib.request import urlretrieve\n",
    "from pkg_resources import resource_filename\n",
    "from tempfile import NamedTemporaryFile\n",
    "\n",
    "from wps_tools.R import rda_to_vector, construct_r_out, test_rda_output\n",
    "from wps_tools.testing import get_target_url"
   ]
  },
  {
   "cell_type": "code",
   "execution_count": 3,
   "metadata": {},
   "outputs": [],
   "source": [
    "# Ensure we are in the working directory with access to the data\n",
    "while os.path.basename(os.getcwd()) != \"quail\":\n",
    "    os.chdir('../')"
   ]
  },
  {
   "cell_type": "code",
   "execution_count": 4,
   "metadata": {},
   "outputs": [
    {
     "name": "stdout",
     "output_type": "stream",
     "text": [
      "Using quail on https://docker-dev03.pcic.uvic.ca/twitcher/ows/proxy/quail/wps\n"
     ]
    }
   ],
   "source": [
    "# NBVAL_IGNORE_OUTPUT\n",
    "url = get_target_url(\"quail\")\n",
    "print(f\"Using quail on {url}\")"
   ]
  },
  {
   "cell_type": "code",
   "execution_count": 5,
   "metadata": {},
   "outputs": [],
   "source": [
    "quail = WPSClient(url)"
   ]
  },
  {
   "cell_type": "markdown",
   "metadata": {},
   "source": [
    "#### Help for individual processes can be diplayed using the ? command (ex/ bird.process?)"
   ]
  },
  {
   "cell_type": "code",
   "execution_count": 6,
   "metadata": {},
   "outputs": [
    {
     "data": {
      "text/plain": [
       "\u001b[0;31mSignature:\u001b[0m\n",
       "\u001b[0mquail\u001b[0m\u001b[0;34m.\u001b[0m\u001b[0mclimdex_spells\u001b[0m\u001b[0;34m(\u001b[0m\u001b[0;34m\u001b[0m\n",
       "\u001b[0;34m\u001b[0m    \u001b[0mclimdex_input\u001b[0m\u001b[0;34m,\u001b[0m\u001b[0;34m\u001b[0m\n",
       "\u001b[0;34m\u001b[0m    \u001b[0mfunc\u001b[0m\u001b[0;34m=\u001b[0m\u001b[0;32mNone\u001b[0m\u001b[0;34m,\u001b[0m\u001b[0;34m\u001b[0m\n",
       "\u001b[0;34m\u001b[0m    \u001b[0mspan_years\u001b[0m\u001b[0;34m=\u001b[0m\u001b[0;32mFalse\u001b[0m\u001b[0;34m,\u001b[0m\u001b[0;34m\u001b[0m\n",
       "\u001b[0;34m\u001b[0m    \u001b[0mloglevel\u001b[0m\u001b[0;34m=\u001b[0m\u001b[0;34m'INFO'\u001b[0m\u001b[0;34m,\u001b[0m\u001b[0;34m\u001b[0m\n",
       "\u001b[0;34m\u001b[0m    \u001b[0moutput_file\u001b[0m\u001b[0;34m=\u001b[0m\u001b[0;34m'output.rda'\u001b[0m\u001b[0;34m,\u001b[0m\u001b[0;34m\u001b[0m\n",
       "\u001b[0;34m\u001b[0m    \u001b[0moutput_formats\u001b[0m\u001b[0;34m=\u001b[0m\u001b[0;32mNone\u001b[0m\u001b[0;34m,\u001b[0m\u001b[0;34m\u001b[0m\n",
       "\u001b[0;34m\u001b[0m\u001b[0;34m)\u001b[0m\u001b[0;34m\u001b[0m\u001b[0;34m\u001b[0m\u001b[0m\n",
       "\u001b[0;31mDocstring:\u001b[0m\n",
       "Cold (csdi) or warm (wsdi) spell duration index and maximum consecutive dry (cdd) or wet (cwd) days\n",
       "\n",
       "Parameters\n",
       "----------\n",
       "climdex_input : ComplexData:mimetype:`application/x-gzip`\n",
       "    RDS or Rdata (.rds, .rda, .rdata) file containing R Object of type climdexInput\n",
       "output_file : string\n",
       "    Filename to store the output Rdata (extension .rda)\n",
       "func : {'wsdi', 'csdi', 'cdd', 'cwd'}string\n",
       "    Compute climdex.wsdi (Warm spell duration index)\n",
       "span_years : boolean\n",
       "    Specifies whether spells can cross year boundaries\n",
       "loglevel : {'CRITICAL', 'ERROR', 'WARNING', 'INFO', 'DEBUG', 'NOTSET'}string\n",
       "    Logging level\n",
       "\n",
       "Returns\n",
       "-------\n",
       "rda_output : ComplexData:mimetype:`application/x-gzip`\n",
       "    Rda file containing R output data\n",
       "\u001b[0;31mFile:\u001b[0m      ~/github/pcic/quail/</tmp/quail-venv/lib/python3.8/site-packages/birdy/client/base.py-6>\n",
       "\u001b[0;31mType:\u001b[0m      method\n"
      ]
     },
     "metadata": {},
     "output_type": "display_data"
    }
   ],
   "source": [
    "# NBVAL_IGNORE_OUTPUT\n",
    "quail.climdex_spells?"
   ]
  },
  {
   "cell_type": "markdown",
   "metadata": {},
   "source": [
    "### Run wps_climdex_spells Process for climdex.wsdi(), Warm Spell Duration Index\n",
    "without spells spanning years"
   ]
  },
  {
   "cell_type": "code",
   "execution_count": 7,
   "metadata": {},
   "outputs": [],
   "source": [
    "with NamedTemporaryFile(suffix=\".rda\", prefix=\"wsdi_\", dir=\"/tmp\", delete=True) as output_file:\n",
    "    output = quail.climdex_spells(\n",
    "            climdex_input=resource_filename(\"tests\",\"data/climdexInput.rda\"),\n",
    "            func=\"wsdi\",\n",
    "            output_file=output_file.name,\n",
    "        )\n",
    "wsdi_url = output.get()[0]"
   ]
  },
  {
   "cell_type": "markdown",
   "metadata": {},
   "source": [
    "with spells spanning years"
   ]
  },
  {
   "cell_type": "code",
   "execution_count": 8,
   "metadata": {},
   "outputs": [],
   "source": [
    "with NamedTemporaryFile(suffix=\".rda\", prefix=\"wsdi_\", dir=\"/tmp\", delete=True) as output_file:\n",
    "    output = quail.climdex_spells(\n",
    "            climdex_input=resource_filename(\"tests\",\"data/climdexInput.rda\"),\n",
    "            func=\"wsdi\",\n",
    "            span_years=True,\n",
    "            output_file=output_file.name,\n",
    "        )\n",
    "wsdi_span_yrs_url = output.get()[0]"
   ]
  },
  {
   "cell_type": "markdown",
   "metadata": {},
   "source": [
    "### Run wps_climdex_spells Process for climdex.csdi(), Cold Spell Duration Index \n",
    "without spells spanning years"
   ]
  },
  {
   "cell_type": "code",
   "execution_count": 9,
   "metadata": {},
   "outputs": [],
   "source": [
    "with NamedTemporaryFile(suffix=\".rda\", prefix=\"csdi_\", dir=\"/tmp\", delete=True) as output_file:\n",
    "    output = quail.climdex_spells(\n",
    "            climdex_input=resource_filename(\"tests\",\"data/climdexInput.rda\"),\n",
    "            func=\"csdi\",\n",
    "            output_file=output_file.name,\n",
    "        )\n",
    "csdi_url = output.get()[0]"
   ]
  },
  {
   "cell_type": "markdown",
   "metadata": {},
   "source": [
    "with spells spanning years"
   ]
  },
  {
   "cell_type": "code",
   "execution_count": 10,
   "metadata": {},
   "outputs": [],
   "source": [
    "with NamedTemporaryFile(suffix=\".rda\", prefix=\"csdi_\", dir=\"/tmp\", delete=True) as output_file:\n",
    "    output = quail.climdex_spells(\n",
    "            climdex_input=resource_filename(\"tests\",\"data/climdexInput.rda\"),\n",
    "            func=\"csdi\",\n",
    "            span_years=True,\n",
    "            output_file=output_file.name,\n",
    "        )\n",
    "csdi_span_yrs_url = output.get()[0]"
   ]
  },
  {
   "cell_type": "markdown",
   "metadata": {},
   "source": [
    "### Run wps_climdex_spells Process for climdex.cdd() Maximum Consecutive Dry Days\n",
    "without spells spanning years"
   ]
  },
  {
   "cell_type": "code",
   "execution_count": 11,
   "metadata": {},
   "outputs": [],
   "source": [
    "with NamedTemporaryFile(suffix=\".rda\", prefix=\"cdd_\", dir=\"/tmp\", delete=True) as output_file:\n",
    "    output = quail.climdex_spells(\n",
    "            climdex_input=resource_filename(\"tests\",\"data/climdexInput.rda\"),\n",
    "            func=\"cdd\",\n",
    "            output_file=output_file.name,\n",
    "        )\n",
    "cdd_url = output.get()[0]"
   ]
  },
  {
   "cell_type": "markdown",
   "metadata": {},
   "source": [
    "with spells spanning years"
   ]
  },
  {
   "cell_type": "code",
   "execution_count": 12,
   "metadata": {},
   "outputs": [],
   "source": [
    "with NamedTemporaryFile(suffix=\".rda\", prefix=\"cdd_\", dir=\"/tmp\", delete=True) as output_file:\n",
    "    output = quail.climdex_spells(\n",
    "            climdex_input=resource_filename(\"tests\",\"data/climdexInput.rda\"),\n",
    "            func=\"cdd\",\n",
    "            span_years=True,\n",
    "            output_file=output_file.name,\n",
    "        )\n",
    "cdd_span_yrs_url = output.get()[0]"
   ]
  },
  {
   "cell_type": "markdown",
   "metadata": {},
   "source": [
    "### Run wps_climdex_spells Process for climdex.cwd() Maximum Consecutive Wet Days with rds input\n",
    "without spells spanning years"
   ]
  },
  {
   "cell_type": "code",
   "execution_count": 13,
   "metadata": {},
   "outputs": [],
   "source": [
    "with NamedTemporaryFile(suffix=\".rda\", prefix=\"cwd_\", dir=\"/tmp\", delete=True) as output_file:\n",
    "    output = quail.climdex_spells(\n",
    "            climdex_input=resource_filename(\"tests\",\"data/climdexInput.rds\"),\n",
    "            func=\"cwd\",\n",
    "            output_file=output_file.name,\n",
    "        )\n",
    "cwd_url = output.get()[0]"
   ]
  },
  {
   "cell_type": "markdown",
   "metadata": {},
   "source": [
    "with spells spanning years and multiple inputs"
   ]
  },
  {
   "cell_type": "code",
   "execution_count": 14,
   "metadata": {},
   "outputs": [],
   "source": [
    "climdex_inputs = [\n",
    "    resource_filename(\"tests\",\"data/climdexInput.rds\"),\n",
    "    resource_filename(\"tests\",\"data/climdexInput.rda\"),\n",
    "    resource_filename(\"tests\",\"data/climdex_input_multiple.rda\")\n",
    "]\n",
    "with NamedTemporaryFile(suffix=\".rda\", prefix=\"cwd_\", dir=\"/tmp\", delete=True) as output_file:\n",
    "    output = quail.climdex_spells(\n",
    "            climdex_input=climdex_inputs,\n",
    "            func=\"cwd\",\n",
    "            span_years=True,\n",
    "            output_file=output_file.name,\n",
    "        )\n",
    "cwd_span_yrs_url = output.get()[0]"
   ]
  },
  {
   "cell_type": "markdown",
   "metadata": {},
   "source": [
    "Access the output with **rda_to_vector** or **construct_r_out** from **wps_tools.R**"
   ]
  },
  {
   "cell_type": "code",
   "execution_count": 15,
   "metadata": {},
   "outputs": [
    {
     "name": "stdout",
     "output_type": "stream",
     "text": [
      "1959 1960 1961 1962 1963 1964 1965 1966 1967 1968 1969 1970 1971 1972 1973 1974 \n",
      "  NA   13   NA   NA   NA    9   12   19    7   11   13    6    9   17    7   10 \n",
      "1975 1976 1977 1978 1979 1980 1981 1982 1983 1984 1985 1986 1987 1988 1989 1990 \n",
      "  11   NA   NA   13   14   10   10   NA   12   NA   NA   NA   NA   NA    9   14 \n",
      "1991 1992 1993 1994 1995 1996 1997 1998 1999 2000 2001 2002 2003 2004 \n",
      "  NA    8   NA   NA   14   NA   13   27   15   14   19   NA   15   NA \n",
      "\n"
     ]
    }
   ],
   "source": [
    "# Eg/ Maximum Consecutive Wet Days with spanning years\n",
    "cwd = rda_to_vector(cwd_span_yrs_url, \"cwd0_ci\")\n",
    "# use print() to see whole vector\n",
    "print(cwd)"
   ]
  },
  {
   "cell_type": "code",
   "execution_count": 16,
   "metadata": {},
   "outputs": [
    {
     "data": {
      "text/plain": [
       "[[R object with classes: ('numeric',) mapped to:\n",
       "  [     nan, 0.000000,      nan,      nan, ..., 0.000000,      nan, 0.000000,      nan]],\n",
       " [R object with classes: ('numeric',) mapped to:\n",
       "  [     nan, 0.000000,      nan,      nan, ..., 0.000000,      nan, 0.000000,      nan]],\n",
       " [R object with classes: ('numeric',) mapped to:\n",
       "  [     nan, 55.000000,      nan,      nan, ..., 29.000000,      nan, 31.000000,      nan]],\n",
       " [R object with classes: ('numeric',) mapped to:\n",
       "  [     nan, 13.000000,      nan,      nan, ..., 19.000000,      nan, 15.000000,      nan]]]"
      ]
     },
     "execution_count": 16,
     "metadata": {},
     "output_type": "execute_result"
    }
   ],
   "source": [
    "construct_r_out([wsdi_url, csdi_url, cdd_url, cwd_url])"
   ]
  },
  {
   "cell_type": "markdown",
   "metadata": {},
   "source": [
    "#### Test output against expected output"
   ]
  },
  {
   "cell_type": "code",
   "execution_count": 17,
   "metadata": {},
   "outputs": [],
   "source": [
    "test_rda_output(wsdi_url, f\"wsdi0_ci\", \"expected_spells_data.rda\", f\"expected_wsdi\")"
   ]
  },
  {
   "cell_type": "code",
   "execution_count": 18,
   "metadata": {},
   "outputs": [],
   "source": [
    "test_rda_output(wsdi_span_yrs_url, f\"wsdi0_ci\", \"expected_spells_data.rda\", f\"expected_wsdi_span_yrs\")"
   ]
  },
  {
   "cell_type": "code",
   "execution_count": 19,
   "metadata": {},
   "outputs": [],
   "source": [
    "test_rda_output(csdi_url, f\"csdi0_ci\", \"expected_spells_data.rda\", f\"expected_csdi\")"
   ]
  },
  {
   "cell_type": "code",
   "execution_count": 20,
   "metadata": {},
   "outputs": [],
   "source": [
    "test_rda_output(csdi_span_yrs_url, f\"csdi0_ci\", \"expected_spells_data.rda\", f\"expected_csdi_span_yrs\")"
   ]
  },
  {
   "cell_type": "code",
   "execution_count": 21,
   "metadata": {},
   "outputs": [],
   "source": [
    "test_rda_output(cdd_url, f\"cdd0_ci\", \"expected_spells_data.rda\", f\"expected_cdd_span_yrs\")"
   ]
  },
  {
   "cell_type": "code",
   "execution_count": 22,
   "metadata": {},
   "outputs": [],
   "source": [
    "test_rda_output(cdd_span_yrs_url, f\"cdd0_ci\", \"expected_spells_data.rda\", f\"expected_cdd_span_yrs\")"
   ]
  },
  {
   "cell_type": "code",
   "execution_count": 23,
   "metadata": {},
   "outputs": [],
   "source": [
    "test_rda_output(cwd_url, f\"cwd0_ci\", \"expected_spells_data.rda\", f\"expected_cwd\")"
   ]
  },
  {
   "cell_type": "code",
   "execution_count": 24,
   "metadata": {},
   "outputs": [],
   "source": [
    "test_rda_output(cwd_span_yrs_url, f\"cwd0_ci\", \"expected_spells_data.rda\", f\"expected_cwd_span_yrs\")"
   ]
  }
 ],
 "metadata": {
  "kernelspec": {
   "display_name": "Python 3",
   "language": "python",
   "name": "python3"
  },
  "language_info": {
   "codemirror_mode": {
    "name": "ipython",
    "version": 3
   },
   "file_extension": ".py",
   "mimetype": "text/x-python",
   "name": "python",
   "nbconvert_exporter": "python",
   "pygments_lexer": "ipython3",
   "version": "3.8.5"
  }
 },
 "nbformat": 4,
 "nbformat_minor": 4
}
