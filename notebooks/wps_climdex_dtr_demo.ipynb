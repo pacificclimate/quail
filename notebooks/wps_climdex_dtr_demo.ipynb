{
 "cells": [
  {
   "cell_type": "markdown",
   "metadata": {},
   "source": [
    "### wps_climdex_dtr\n",
    "\n",
    "WPS wrapper for [climdex.pcic](https://cran.r-project.org/web/packages/climdex.pcic/climdex.pcic.pdf)'s [climdex.dtr](https://cran.r-project.org/web/packages/climdex.pcic/climdex.pcic.pdf#page=6) function\n",
    "\n",
    "**climdex.dtr** computes the mean daily diurnal temperature range.  The frequency of observationcan be either monthly or annual."
   ]
  },
  {
   "cell_type": "code",
   "execution_count": 1,
   "metadata": {},
   "outputs": [],
   "source": [
    "import os\n",
    "import requests\n",
    "from birdy import WPSClient\n",
    "from rpy2 import robjects\n",
    "from urllib.request import urlretrieve\n",
    "from importlib.resources import files\n",
    "from tempfile import NamedTemporaryFile\n",
    "\n",
    "from wps_tools.R import rda_to_vector, construct_r_out, test_rda_output\n",
    "from wps_tools.testing import get_target_url"
   ]
  },
  {
   "cell_type": "code",
   "execution_count": 2,
   "metadata": {},
   "outputs": [],
   "source": [
    "# Ensure we are in the working directory with access to the data\n",
    "while os.path.basename(os.getcwd()) != \"quail\":\n",
    "    os.chdir('../')"
   ]
  },
  {
   "cell_type": "code",
   "execution_count": 3,
   "metadata": {},
   "outputs": [
    {
     "name": "stdout",
     "output_type": "stream",
     "text": [
      "Using quail on https://marble-dev01.pcic.uvic.ca/twitcher/ows/proxy/quail/wps\n"
     ]
    }
   ],
   "source": [
    "# NBVAL_IGNORE_OUTPUT\n",
    "url = get_target_url(\"quail\")\n",
    "print(f\"Using quail on {url}\")"
   ]
  },
  {
   "cell_type": "code",
   "execution_count": 4,
   "metadata": {},
   "outputs": [],
   "source": [
    "quail = WPSClient(url)"
   ]
  },
  {
   "cell_type": "markdown",
   "metadata": {},
   "source": [
    "#### Help for individual processes can be diplayed using the ? command (ex/ bird.process?)"
   ]
  },
  {
   "cell_type": "code",
   "execution_count": 5,
   "metadata": {},
   "outputs": [
    {
     "data": {
      "text/plain": [
       "\u001b[0;31mSignature:\u001b[0m\n",
       "\u001b[0mquail\u001b[0m\u001b[0;34m.\u001b[0m\u001b[0mclimdex_dtr\u001b[0m\u001b[0;34m(\u001b[0m\u001b[0;34m\u001b[0m\n",
       "\u001b[0;34m\u001b[0m    \u001b[0mclimdex_input\u001b[0m\u001b[0;34m=\u001b[0m\u001b[0;32mNone\u001b[0m\u001b[0;34m,\u001b[0m\u001b[0;34m\u001b[0m\n",
       "\u001b[0;34m\u001b[0m    \u001b[0mloglevel\u001b[0m\u001b[0;34m=\u001b[0m\u001b[0;34m'INFO'\u001b[0m\u001b[0;34m,\u001b[0m\u001b[0;34m\u001b[0m\n",
       "\u001b[0;34m\u001b[0m    \u001b[0moutput_file\u001b[0m\u001b[0;34m=\u001b[0m\u001b[0;34m'output.rda'\u001b[0m\u001b[0;34m,\u001b[0m\u001b[0;34m\u001b[0m\n",
       "\u001b[0;34m\u001b[0m    \u001b[0mfreq\u001b[0m\u001b[0;34m=\u001b[0m\u001b[0;34m'monthly'\u001b[0m\u001b[0;34m,\u001b[0m\u001b[0;34m\u001b[0m\n",
       "\u001b[0;34m\u001b[0m    \u001b[0moutput_formats\u001b[0m\u001b[0;34m=\u001b[0m\u001b[0;32mNone\u001b[0m\u001b[0;34m,\u001b[0m\u001b[0;34m\u001b[0m\n",
       "\u001b[0;34m\u001b[0m\u001b[0;34m)\u001b[0m\u001b[0;34m\u001b[0m\u001b[0;34m\u001b[0m\u001b[0m\n",
       "\u001b[0;31mDocstring:\u001b[0m\n",
       "Computes the mean daily diurnal temperature range.\n",
       "\n",
       "Parameters\n",
       "----------\n",
       "climdex_input : ComplexData:mimetype:`application/x-gzip`\n",
       "    RDS or Rdata (.rds, .rda, .rdata) file containing R Object of type climdexInput\n",
       "output_file : string\n",
       "    Filename to store the output Rdata (extension .rda)\n",
       "freq : {'monthly', 'annual'}string\n",
       "    Time frequency to aggregate to\n",
       "loglevel : {'CRITICAL', 'ERROR', 'WARNING', 'INFO', 'DEBUG', 'NOTSET'}string\n",
       "    Logging level\n",
       "\n",
       "Returns\n",
       "-------\n",
       "rda_output : ComplexData:mimetype:`application/x-gzip`\n",
       "    Rda file containing R output data\n",
       "\u001b[0;31mFile:\u001b[0m      ~/github/quail/</tmp/quail-venv/lib/python3.8/site-packages/birdy/client/base.py-9>\n",
       "\u001b[0;31mType:\u001b[0m      method\n"
      ]
     },
     "metadata": {},
     "output_type": "display_data"
    }
   ],
   "source": [
    "# NBVAL_IGNORE_OUTPUT\n",
    "quail.climdex_dtr?"
   ]
  },
  {
   "cell_type": "markdown",
   "metadata": {},
   "source": [
    "#### Run wps_climdex_dtr Process with rda input"
   ]
  },
  {
   "cell_type": "code",
   "execution_count": 6,
   "metadata": {},
   "outputs": [],
   "source": [
    "with NamedTemporaryFile(suffix=\".rda\", prefix=\"dtr_\", dir=\"/tmp\", delete=True) as output_file:\n",
    "    output = quail.climdex_dtr(\n",
    "            climdex_input=(files(\"tests\") / \"data/climdexInput.rda\").resolve(),\n",
    "            freq=\"annual\",\n",
    "            output_file=output_file.name,\n",
    "        )\n",
    "dtr_url = output.get()[0]"
   ]
  },
  {
   "cell_type": "markdown",
   "metadata": {},
   "source": [
    "You can also pass rds input"
   ]
  },
  {
   "cell_type": "code",
   "execution_count": 7,
   "metadata": {},
   "outputs": [],
   "source": [
    "with NamedTemporaryFile(suffix=\".rda\", prefix=\"dtr_\", dir=\"/tmp\", delete=True) as output_file:\n",
    "    output = quail.climdex_dtr(\n",
    "            climdex_input=(files(\"tests\") / \"data/climdexInput.rds\").resolve(),\n",
    "            output_file=output_file.name,\n",
    "        )\n",
    "dtr_url_rds = output.get()[0]"
   ]
  },
  {
   "cell_type": "markdown",
   "metadata": {},
   "source": [
    "Run with multiple inputs"
   ]
  },
  {
   "cell_type": "code",
   "execution_count": 8,
   "metadata": {},
   "outputs": [],
   "source": [
    "climdex_inputs = [\n",
    "    (files(\"tests\") / \"data/climdexInput.rds\").resolve(),\n",
    "    (files(\"tests\") / \"data/climdexInput.rda\").resolve(),\n",
    "    (files(\"tests\") / \"data/climdex_input_multiple.rda\").resolve(),\n",
    "]\n",
    "with NamedTemporaryFile(suffix=\".rda\", prefix=\"dtr_\", dir=\"/tmp\", delete=True) as output_file:\n",
    "    output = quail.climdex_dtr(\n",
    "            climdex_input=climdex_inputs,\n",
    "            output_file=output_file.name,\n",
    "        )"
   ]
  },
  {
   "cell_type": "code",
   "execution_count": 9,
   "metadata": {},
   "outputs": [
    {
     "data": {
      "text/plain": [
       "[[R object with classes: ('numeric',) mapped to:\n",
       "  [     nan,      nan,      nan,      nan, ..., 7.883333, 7.048387,      nan,      nan],\n",
       "  R object with classes: ('numeric',) mapped to:\n",
       "  [     nan,      nan,      nan,      nan, ..., 7.883333, 7.048387,      nan,      nan],\n",
       "  R object with classes: ('numeric',) mapped to:\n",
       "  [     nan,      nan,      nan,      nan, ..., 7.883333, 7.048387,      nan,      nan],\n",
       "  R object with classes: ('numeric',) mapped to:\n",
       "  [     nan,      nan,      nan,      nan, ..., 7.883333, 7.048387,      nan,      nan]]]"
      ]
     },
     "execution_count": 9,
     "metadata": {},
     "output_type": "execute_result"
    }
   ],
   "source": [
    "# NBVAL_IGNORE_OUTPUT\n",
    "construct_r_out(output.get())"
   ]
  },
  {
   "cell_type": "markdown",
   "metadata": {},
   "source": [
    "Access the output with **rda_to_vector** or **construct_r_out** from **wps_tools.R**"
   ]
  },
  {
   "cell_type": "code",
   "execution_count": 10,
   "metadata": {},
   "outputs": [
    {
     "name": "stdout",
     "output_type": "stream",
     "text": [
      "    1959     1960     1961     1962     1963     1964     1965     1966 \n",
      "      NA 6.870492       NA       NA 7.286575       NA 6.472603 6.230137 \n",
      "    1967     1968     1969     1970     1971     1972     1973     1974 \n",
      "6.578082 7.060109 6.800549 6.810989 7.092329 7.986612 7.094795 6.835890 \n",
      "    1975     1976     1977     1978     1979     1980     1981     1982 \n",
      "7.049589       NA       NA 6.324658 7.215068 7.183060 7.382192 8.236915 \n",
      "    1983     1984     1985     1986     1987     1988     1989     1990 \n",
      "8.259615       NA       NA 6.004110       NA 5.945355 6.176712 6.322802 \n",
      "    1991     1992     1993     1994     1995     1996     1997     1998 \n",
      "      NA 6.551913       NA       NA 6.978022 6.223140 6.282192 6.527473 \n",
      "    1999     2000     2001     2002     2003     2004 \n",
      "6.589286 6.407104 6.331956       NA 7.064560       NA \n",
      "\n"
     ]
    }
   ],
   "source": [
    "dtr = rda_to_vector(dtr_url, \"dtr1_ci\")\n",
    "# use print() to see whole vector\n",
    "print(dtr)"
   ]
  },
  {
   "cell_type": "code",
   "execution_count": 11,
   "metadata": {},
   "outputs": [
    {
     "data": {
      "text/plain": [
       "[[R object with classes: ('numeric',) mapped to:\n",
       "  [     nan,      nan,      nan,      nan, ..., 7.883333, 7.048387,      nan,      nan],\n",
       "  R object with classes: ('numeric',) mapped to:\n",
       "  [     nan,      nan,      nan,      nan, ..., 7.883333, 7.048387,      nan,      nan],\n",
       "  R object with classes: ('numeric',) mapped to:\n",
       "  [     nan,      nan,      nan,      nan, ..., 7.883333, 7.048387,      nan,      nan],\n",
       "  R object with classes: ('numeric',) mapped to:\n",
       "  [     nan,      nan,      nan,      nan, ..., 7.883333, 7.048387,      nan,      nan]]]"
      ]
     },
     "execution_count": 11,
     "metadata": {},
     "output_type": "execute_result"
    }
   ],
   "source": [
    "# NBVAL_IGNORE_OUTPUT\n",
    "construct_r_out(output.get())"
   ]
  },
  {
   "cell_type": "markdown",
   "metadata": {},
   "source": [
    "#### Testing output against expected output"
   ]
  },
  {
   "cell_type": "code",
   "execution_count": 12,
   "metadata": {},
   "outputs": [],
   "source": [
    "test_rda_output(\n",
    "    dtr_url, \"dtr1_ci\", \"expected_dtr.rda\", \"expected_dtr_annual\"\n",
    "    )"
   ]
  }
 ],
 "metadata": {
  "kernelspec": {
   "display_name": "Python 3",
   "language": "python",
   "name": "python3"
  },
  "language_info": {
   "codemirror_mode": {
    "name": "ipython",
    "version": 3
   },
   "file_extension": ".py",
   "mimetype": "text/x-python",
   "name": "python",
   "nbconvert_exporter": "python",
   "pygments_lexer": "ipython3",
   "version": "3.12.3"
  }
 },
 "nbformat": 4,
 "nbformat_minor": 4
}
