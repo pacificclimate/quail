{
 "cells": [
  {
   "cell_type": "markdown",
   "metadata": {},
   "source": [
    "### Days: wps_climdex_days\n",
    "\n",
    "WPS wrapper for [climdex.pcic](https://cran.r-project.org/web/packages/climdex.pcic/climdex.pcic.pdf) days functions\n",
    "\n",
    "- [climdex.su](https://cran.r-project.org/web/packages/climdex.pcic/climdex.pcic.pdf#page=25) Computes the SU (summer days) climdexindex: the annual count of days where daily maximum temperature exceeds 25 degreesCelsius.\n",
    "- [climdex.id](https://cran.r-project.org/web/packages/climdex.pcic/climdex.pcic.pdf#page=11) Computes the ID (icing days) climdexindex: the annual count of days where daily maximum temperature was below 0 degrees Celsius.\n",
    "- [climdex.fd](https://cran.r-project.org/web/packages/climdex.pcic/climdex.pcic.pdf#page=8) Computes the FD frost days) climdexindex: the annual count of days where daily minimum temperature was below 0 degrees Celsius.\n",
    "- [climdex.tr](https://cran.r-project.org/web/packages/climdex.pcic/climdex.pcic.pdf#page=32) Computees the TR (tropical nights) climdexindex: the annual count of days where daily minimum temperature stays above 20 degrees Celsius."
   ]
  },
  {
   "cell_type": "code",
   "execution_count": 1,
   "metadata": {},
   "outputs": [],
   "source": [
    "import os\n",
    "import requests\n",
    "from birdy import WPSClient\n",
    "from rpy2 import robjects\n",
    "from urllib.request import urlretrieve\n",
    "from importlib.resources import files\n",
    "from tempfile import NamedTemporaryFile\n",
    "\n",
    "from wps_tools.output_handling import auto_construct_outputs\n",
    "from wps_tools.R import get_robjects, construct_r_out, rda_to_vector, test_rda_output\n",
    "from wps_tools.testing import get_target_url"
   ]
  },
  {
   "cell_type": "code",
   "execution_count": 2,
   "metadata": {},
   "outputs": [],
   "source": [
    "# Ensure we are in the working directory with access to the data\n",
    "while os.path.basename(os.getcwd()) != \"quail\":\n",
    "    os.chdir('../')"
   ]
  },
  {
   "cell_type": "code",
   "execution_count": 3,
   "metadata": {},
   "outputs": [
    {
     "name": "stdout",
     "output_type": "stream",
     "text": [
      "Using quail on https://marble-dev01.pcic.uvic.ca/twitcher/ows/proxy/quail/wps\n"
     ]
    }
   ],
   "source": [
    "# NBVAL_IGNORE_OUTPUT\n",
    "url = get_target_url(\"quail\")\n",
    "print(f\"Using quail on {url}\")"
   ]
  },
  {
   "cell_type": "code",
   "execution_count": 4,
   "metadata": {},
   "outputs": [],
   "source": [
    "quail = WPSClient(url)"
   ]
  },
  {
   "cell_type": "markdown",
   "metadata": {},
   "source": [
    "#### Help for individual processes can be diplayed using the ? command (ex/ bird.process?)"
   ]
  },
  {
   "cell_type": "code",
   "execution_count": 5,
   "metadata": {},
   "outputs": [
    {
     "data": {
      "text/plain": [
       "\u001b[0;31mSignature:\u001b[0m\n",
       "\u001b[0mquail\u001b[0m\u001b[0;34m.\u001b[0m\u001b[0mclimdex_days\u001b[0m\u001b[0;34m(\u001b[0m\u001b[0;34m\u001b[0m\n",
       "\u001b[0;34m\u001b[0m    \u001b[0mclimdex_input\u001b[0m\u001b[0;34m,\u001b[0m\u001b[0;34m\u001b[0m\n",
       "\u001b[0;34m\u001b[0m    \u001b[0mdays_type\u001b[0m\u001b[0;34m=\u001b[0m\u001b[0;32mNone\u001b[0m\u001b[0;34m,\u001b[0m\u001b[0;34m\u001b[0m\n",
       "\u001b[0;34m\u001b[0m    \u001b[0mloglevel\u001b[0m\u001b[0;34m=\u001b[0m\u001b[0;34m'INFO'\u001b[0m\u001b[0;34m,\u001b[0m\u001b[0;34m\u001b[0m\n",
       "\u001b[0;34m\u001b[0m    \u001b[0moutput_file\u001b[0m\u001b[0;34m=\u001b[0m\u001b[0;34m'output.rda'\u001b[0m\u001b[0;34m,\u001b[0m\u001b[0;34m\u001b[0m\n",
       "\u001b[0;34m\u001b[0m    \u001b[0moutput_formats\u001b[0m\u001b[0;34m=\u001b[0m\u001b[0;32mNone\u001b[0m\u001b[0;34m,\u001b[0m\u001b[0;34m\u001b[0m\n",
       "\u001b[0;34m\u001b[0m\u001b[0;34m)\u001b[0m\u001b[0;34m\u001b[0m\u001b[0;34m\u001b[0m\u001b[0m\n",
       "\u001b[0;31mDocstring:\u001b[0m\n",
       "Takes a climdexInput object as input and computes the annual count of days where daily temperature satisfies some condition.\n",
       "                \"summer\": the annual count of days where daily maximum temperature\n",
       "                exceeds 25 degreesCelsius\n",
       "                \"icing\": the annual count of days where daily maximum temperature\n",
       "                was below 0 degrees Celsius\n",
       "                \"frost\": the annual count of days where daily minimum temperature\n",
       "                was below 0 degrees Celsius\n",
       "                \"tropical nights\": the annual count of days where daily minimum\n",
       "                temperature stays above 20 degrees Celsius\n",
       "\n",
       "Parameters\n",
       "----------\n",
       "climdex_input : ComplexData:mimetype:`application/x-gzip`\n",
       "    RDS or Rdata (.rds, .rda, .rdata) file containing R Object of type climdexInput\n",
       "output_file : string\n",
       "    Filename to store the output Rdata (extension .rda)\n",
       "days_type : {'su', 'id', 'fd', 'tr'}string\n",
       "    Day type condition to compute\n",
       "loglevel : {'CRITICAL', 'ERROR', 'WARNING', 'INFO', 'DEBUG', 'NOTSET'}string\n",
       "    Logging level\n",
       "\n",
       "Returns\n",
       "-------\n",
       "rda_output : ComplexData:mimetype:`application/x-gzip`\n",
       "    Rda file containing R output data\n",
       "\u001b[0;31mFile:\u001b[0m      ~/github/quail/</tmp/quail-venv/lib/python3.8/site-packages/birdy/client/base.py-0>\n",
       "\u001b[0;31mType:\u001b[0m      method\n"
      ]
     },
     "metadata": {},
     "output_type": "display_data"
    }
   ],
   "source": [
    "# NBVAL_IGNORE_OUTPUT\n",
    "quail.climdex_days?"
   ]
  },
  {
   "cell_type": "markdown",
   "metadata": {},
   "source": [
    "#### Run wps_climdex_days process for climdex.su (summer days) with rda input"
   ]
  },
  {
   "cell_type": "code",
   "execution_count": 6,
   "metadata": {},
   "outputs": [],
   "source": [
    "with NamedTemporaryFile(suffix=\".rda\", prefix=\"summer_days_\", dir=\"/tmp\", delete=True) as output_file:\n",
    "    output = quail.climdex_days(\n",
    "            climdex_input=(files(\"tests\") / \"data/climdexInput.rda\").resolve(),\n",
    "            days_type=\"su\",\n",
    "            output_file=output_file.name,\n",
    "        )\n",
    "su_url = output.get()[0]"
   ]
  },
  {
   "cell_type": "markdown",
   "metadata": {},
   "source": [
    "#### Run wps_climdex_days process for climdex.id (icing days) with rda input"
   ]
  },
  {
   "cell_type": "code",
   "execution_count": 7,
   "metadata": {},
   "outputs": [],
   "source": [
    "with NamedTemporaryFile(suffix=\".rda\", prefix=\"icing_days_\", dir=\"/tmp\", delete=True) as output_file:\n",
    "    output = quail.climdex_days(\n",
    "            climdex_input=(files(\"tests\") / \"data/climdexInput.rda\").resolve(),      \n",
    "            days_type=\"id\",\n",
    "            output_file=output_file.name,\n",
    "        )\n",
    "id_url = output.get()[0]"
   ]
  },
  {
   "cell_type": "markdown",
   "metadata": {},
   "source": [
    "#### Run wps_climdex_days process for climdex.fd (frost days) with rds input"
   ]
  },
  {
   "cell_type": "code",
   "execution_count": 8,
   "metadata": {},
   "outputs": [],
   "source": [
    "with NamedTemporaryFile(suffix=\".rda\", prefix=\"frost_days_\", dir=\"/tmp\", delete=True) as output_file:\n",
    "    output = quail.climdex_days(\n",
    "            climdex_input=(files(\"tests\") / \"data/climdexInput.rda\").resolve(),        \n",
    "            days_type=\"fd\",\n",
    "            output_file=output_file.name,\n",
    "        )\n",
    "fd_url = output.get()[0]"
   ]
  },
  {
   "cell_type": "markdown",
   "metadata": {},
   "source": [
    "#### Run wps_climdex_days process for climdex.tr (tropical nights) with rds input"
   ]
  },
  {
   "cell_type": "code",
   "execution_count": 9,
   "metadata": {},
   "outputs": [],
   "source": [
    "with NamedTemporaryFile(suffix=\".rda\", prefix=\"frost_days_\", dir=\"/tmp\", delete=True) as output_file:\n",
    "    output = quail.climdex_days(\n",
    "            climdex_input=(files(\"tests\") / \"data/climdexInput.rds\").resolve(),        \n",
    "            days_type=\"tr\",\n",
    "            output_file=output_file.name,\n",
    "        )\n",
    "tr_url = output.get()[0]"
   ]
  },
  {
   "cell_type": "markdown",
   "metadata": {},
   "source": [
    "#### Run with multiple inputs"
   ]
  },
  {
   "cell_type": "code",
   "execution_count": 10,
   "metadata": {},
   "outputs": [],
   "source": [
    "climdex_inputs = [\n",
    "    (files(\"tests\") / \"data/climdexInput.rds\").resolve(),\n",
    "    (files(\"tests\") / \"data/climdexInput.rda\").resolve(),\n",
    "    (files(\"tests\") / \"data/climdex_input_multiple.rda\").resolve(),\n",
    "]\n",
    "with NamedTemporaryFile(suffix=\".rda\", prefix=\"frost_days_\", dir=\"/tmp\", delete=True) as output_file:\n",
    "    output = quail.climdex_days(\n",
    "            climdex_input=climdex_inputs,        \n",
    "            days_type=\"su\",\n",
    "            output_file=output_file.name,\n",
    "        )"
   ]
  },
  {
   "cell_type": "code",
   "execution_count": 11,
   "metadata": {},
   "outputs": [
    {
     "data": {
      "text/plain": [
       "[[R object with classes: ('numeric',) mapped to:\n",
       "  [     nan, 11.000000,      nan,      nan, ..., 4.000000,      nan, 13.000000,      nan],\n",
       "  R object with classes: ('numeric',) mapped to:\n",
       "  [     nan, 11.000000,      nan,      nan, ..., 4.000000,      nan, 13.000000,      nan],\n",
       "  R object with classes: ('numeric',) mapped to:\n",
       "  [     nan, 11.000000,      nan,      nan, ..., 4.000000,      nan, 13.000000,      nan],\n",
       "  R object with classes: ('numeric',) mapped to:\n",
       "  [     nan, 11.000000,      nan,      nan, ..., 4.000000,      nan, 13.000000,      nan]]]"
      ]
     },
     "execution_count": 11,
     "metadata": {},
     "output_type": "execute_result"
    }
   ],
   "source": [
    "# NBVAL_IGNORE_OUTPUT\n",
    "construct_r_out(output.get())"
   ]
  },
  {
   "cell_type": "markdown",
   "metadata": {},
   "source": [
    "Access the output with **rda_to_vector** or **construct_r_out** from **wps_tools.R**"
   ]
  },
  {
   "cell_type": "code",
   "execution_count": 13,
   "metadata": {},
   "outputs": [
    {
     "name": "stdout",
     "output_type": "stream",
     "text": [
      "SUMMER DAYS\n",
      "1959 1960 1961 1962 1963 1964 1965 1966 1967 1968 1969 1970 1971 1972 1973 1974 \n",
      "  NA   11   NA   NA    2   NA    3    4    6   11    6    4   10    5    6    4 \n",
      "1975 1976 1977 1978 1979 1980 1981 1982 1983 1984 1985 1986 1987 1988 1989 1990 \n",
      "   1   NA   NA    5    3    2    5    3    4   NA   NA    6   NA    4    2    8 \n",
      "1991 1992 1993 1994 1995 1996 1997 1998 1999 2000 2001 2002 2003 2004 \n",
      "  NA   10   NA   NA    7   12    8   15    2    8    4   NA   13   NA \n",
      "\n"
     ]
    }
   ],
   "source": [
    "# use print() to see whole vector\n",
    "su = rda_to_vector(su_url, \"su1_ci\")\n",
    "print(f\"SUMMER DAYS\\n{su}\")\n",
    "id_ = rda_to_vector(id_url, \"id1_ci\")\n",
    "fd = rda_to_vector(fd_url, \"fd1_ci\")\n",
    "tr = rda_to_vector(tr_url, \"tr1_ci\")"
   ]
  },
  {
   "cell_type": "code",
   "execution_count": 14,
   "metadata": {},
   "outputs": [
    {
     "data": {
      "text/plain": [
       "[[R object with classes: ('numeric',) mapped to:\n",
       "  [     nan, 11.000000,      nan,      nan, ..., 4.000000,      nan, 13.000000,      nan]],\n",
       " [R object with classes: ('numeric',) mapped to:\n",
       "  [     nan, 0.000000,      nan,      nan, ..., 0.000000,      nan, 0.000000,      nan]],\n",
       " [R object with classes: ('numeric',) mapped to:\n",
       "  [     nan, 10.000000,      nan,      nan, ..., 1.000000,      nan, 0.000000,      nan]],\n",
       " [R object with classes: ('numeric',) mapped to:\n",
       "  [     nan, 0.000000,      nan,      nan, ..., 0.000000,      nan, 0.000000,      nan]]]"
      ]
     },
     "execution_count": 14,
     "metadata": {},
     "output_type": "execute_result"
    }
   ],
   "source": [
    "construct_r_out([su_url, id_url, fd_url, tr_url])"
   ]
  },
  {
   "cell_type": "markdown",
   "metadata": {},
   "source": [
    "#### Test output against expected output"
   ]
  },
  {
   "cell_type": "code",
   "execution_count": 15,
   "metadata": {},
   "outputs": [],
   "source": [
    "test_rda_output(\n",
    "        su_url, \"su1_ci\", \"expected_days_data.rda\", \"expected_summer_days\"\n",
    "    )\n",
    "test_rda_output(\n",
    "        id_url, \"id1_ci\", \"expected_days_data.rda\", \"expected_icing_days\"\n",
    "    )\n",
    "test_rda_output(\n",
    "        fd_url, \"fd1_ci\", \"expected_days_data.rda\", \"expected_frost_days\"\n",
    "    )\n",
    "test_rda_output(\n",
    "        tr_url, \"tr1_ci\", \"expected_days_data.rda\", \"expected_tropical_nights\"\n",
    "    )"
   ]
  }
 ],
 "metadata": {
  "kernelspec": {
   "display_name": "Python 3 (ipykernel)",
   "language": "python",
   "name": "python3"
  },
  "language_info": {
   "codemirror_mode": {
    "name": "ipython",
    "version": 3
   },
   "file_extension": ".py",
   "mimetype": "text/x-python",
   "name": "python",
   "nbconvert_exporter": "python",
   "pygments_lexer": "ipython3",
   "version": "3.12.3"
  }
 },
 "nbformat": 4,
 "nbformat_minor": 4
}
