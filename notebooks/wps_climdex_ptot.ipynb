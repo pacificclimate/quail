{
 "cells": [
  {
   "cell_type": "markdown",
   "metadata": {},
   "source": [
    "### wps_climdex_ptot\n",
    "\n",
    "WPS wrapper for [climdex.pcic](https://cran.r-project.org/web/packages/climdex.pcic/climdex.pcic.pdf) functions that calculate annual timeseries of precipitation exceeding the threshold \n",
    "\n",
    "- **PRCpTOT** ([climdex.r95ptot](https://cran.r-project.org/web/packages/climdex.pcic/climdex.pcic.pdf#page=14)) The annual sum of precipitation in wet days (days where precipitation is at least 1mm).\n",
    "- **R95pTOT** ([climdex.r95ptot](https://cran.r-project.org/web/packages/climdex.pcic/climdex.pcic.pdf#page=18)) The annual sum of precipitation in days where daily precipitation exceeds the 95th percentile of daily precipitation in the base period.\n",
    "- **R99pTOT** ([climdex.r99ptot](https://cran.r-project.org/web/packages/climdex.pcic/climdex.pcic.pdf#page=19)) The annual sum of precipitation in days where daily precipitation exceeds the 99th percentile of daily precipitation in the base period."
   ]
  },
  {
   "cell_type": "code",
   "execution_count": 2,
   "metadata": {},
   "outputs": [],
   "source": [
    "import os\n",
    "import requests\n",
    "from birdy import WPSClient\n",
    "from rpy2 import robjects\n",
    "from urllib.request import urlretrieve\n",
    "from pkg_resources import resource_filename\n",
    "from tempfile import NamedTemporaryFile\n",
    "\n",
    "from wps_tools.R import rda_to_vector, construct_r_out, test_rda_output\n",
    "from wps_tools.testing import get_target_url"
   ]
  },
  {
   "cell_type": "code",
   "execution_count": 3,
   "metadata": {},
   "outputs": [],
   "source": [
    "# Ensure we are in the working directory with access to the data\n",
    "while os.path.basename(os.getcwd()) != \"quail\":\n",
    "    os.chdir('../')"
   ]
  },
  {
   "cell_type": "code",
   "execution_count": 4,
   "metadata": {},
   "outputs": [
    {
     "name": "stdout",
     "output_type": "stream",
     "text": [
      "Using quail on https://docker-dev03.pcic.uvic.ca/twitcher/ows/proxy/quail/wps\n"
     ]
    }
   ],
   "source": [
    "# NBVAL_IGNORE_OUTPUT\n",
    "url = get_target_url(\"quail\")\n",
    "print(f\"Using quail on {url}\")"
   ]
  },
  {
   "cell_type": "code",
   "execution_count": 5,
   "metadata": {},
   "outputs": [],
   "source": [
    "quail = WPSClient(url)"
   ]
  },
  {
   "cell_type": "markdown",
   "metadata": {},
   "source": [
    "#### Help for individual processes can be diplayed using the ? command (ex/ bird.process?)"
   ]
  },
  {
   "cell_type": "code",
   "execution_count": 6,
   "metadata": {},
   "outputs": [
    {
     "data": {
      "text/plain": [
       "\u001b[0;31mSignature:\u001b[0m\n",
       "\u001b[0mquail\u001b[0m\u001b[0;34m.\u001b[0m\u001b[0mclimdex_ptot\u001b[0m\u001b[0;34m(\u001b[0m\u001b[0;34m\u001b[0m\n",
       "\u001b[0;34m\u001b[0m    \u001b[0mclimdex_input\u001b[0m\u001b[0;34m=\u001b[0m\u001b[0;32mNone\u001b[0m\u001b[0;34m,\u001b[0m\u001b[0;34m\u001b[0m\n",
       "\u001b[0;34m\u001b[0m    \u001b[0mloglevel\u001b[0m\u001b[0;34m=\u001b[0m\u001b[0;34m'INFO'\u001b[0m\u001b[0;34m,\u001b[0m\u001b[0;34m\u001b[0m\n",
       "\u001b[0;34m\u001b[0m    \u001b[0moutput_file\u001b[0m\u001b[0;34m=\u001b[0m\u001b[0;34m'output.rda'\u001b[0m\u001b[0;34m,\u001b[0m\u001b[0;34m\u001b[0m\n",
       "\u001b[0;34m\u001b[0m    \u001b[0mthreshold\u001b[0m\u001b[0;34m=\u001b[0m\u001b[0;36m0\u001b[0m\u001b[0;34m,\u001b[0m\u001b[0;34m\u001b[0m\n",
       "\u001b[0;34m\u001b[0m    \u001b[0moutput_formats\u001b[0m\u001b[0;34m=\u001b[0m\u001b[0;32mNone\u001b[0m\u001b[0;34m,\u001b[0m\u001b[0;34m\u001b[0m\n",
       "\u001b[0;34m\u001b[0m\u001b[0;34m)\u001b[0m\u001b[0;34m\u001b[0m\u001b[0;34m\u001b[0m\u001b[0m\n",
       "\u001b[0;31mDocstring:\u001b[0m\n",
       "Total daily precipitation exceeding threshold\n",
       "\n",
       "Parameters\n",
       "----------\n",
       "climdex_input : ComplexData:mimetype:`application/x-gzip`\n",
       "    RDS or Rdata (.rds, .rda, .rdata) file containing R Object of type climdexInput\n",
       "output_file : string\n",
       "    Filename to store the output Rdata (extension .rda)\n",
       "threshold : {'0', '95', '99'}integer\n",
       "    Daily precipitation threshold\n",
       "loglevel : {'CRITICAL', 'ERROR', 'WARNING', 'INFO', 'DEBUG', 'NOTSET'}string\n",
       "    Logging level\n",
       "\n",
       "Returns\n",
       "-------\n",
       "rda_output : ComplexData:mimetype:`application/x-gzip`\n",
       "    Rda file containing R output data\n",
       "\u001b[0;31mFile:\u001b[0m      ~/github/pcic/quail/</tmp/quail-venv/lib/python3.8/site-packages/birdy/client/base.py-10>\n",
       "\u001b[0;31mType:\u001b[0m      method\n"
      ]
     },
     "metadata": {},
     "output_type": "display_data"
    }
   ],
   "source": [
    "# NBVAL_IGNORE_OUTPUT\n",
    "quail.climdex_ptot?"
   ]
  },
  {
   "cell_type": "markdown",
   "metadata": {},
   "source": [
    "### Run wps_climdex_ptot Process for climdex.prcptot()"
   ]
  },
  {
   "cell_type": "code",
   "execution_count": 7,
   "metadata": {},
   "outputs": [],
   "source": [
    "with NamedTemporaryFile(suffix=\".rda\", prefix=\"prcptot_\", dir=\"/tmp\", delete=True) as output_file:\n",
    "    output = quail.climdex_ptot(\n",
    "            climdex_input=resource_filename(\"tests\",\"data/climdexInput.rda\"),\n",
    "            output_file=output_file.name,\n",
    "        )\n",
    "prcptot_url = output.get()[0]"
   ]
  },
  {
   "cell_type": "markdown",
   "metadata": {},
   "source": [
    "You can also use rds input\n",
    "### Run wps_climdex_ptot Process for climdex.r99ptot() with rds input"
   ]
  },
  {
   "cell_type": "code",
   "execution_count": 8,
   "metadata": {},
   "outputs": [],
   "source": [
    "with NamedTemporaryFile(suffix=\".rda\", prefix=\"r99ptot_\", dir=\"/tmp\", delete=True) as output_file:\n",
    "    output = quail.climdex_ptot(\n",
    "            climdex_input=resource_filename(\"tests\",\"data/climdexInput.rds\"),\n",
    "            threshold=99,\n",
    "            output_file=output_file.name,\n",
    "        )\n",
    "r99ptot_url = output.get()[0]"
   ]
  },
  {
   "cell_type": "markdown",
   "metadata": {},
   "source": [
    "You can use multiple input files\n",
    "### Run wps_climdex_ptot Process for climdex.r95ptot() with multiple input files"
   ]
  },
  {
   "cell_type": "code",
   "execution_count": 9,
   "metadata": {},
   "outputs": [],
   "source": [
    "climdex_inputs = [\n",
    "    resource_filename(\"tests\",\"data/climdexInput.rds\"),\n",
    "    resource_filename(\"tests\",\"data/climdexInput.rda\"),\n",
    "    resource_filename(\"tests\",\"data/climdex_input_multiple.rda\")\n",
    "]\n",
    "with NamedTemporaryFile(suffix=\".rda\", prefix=\"r95ptot_\", dir=\"/tmp\", delete=True) as output_file:\n",
    "    output = quail.climdex_ptot(\n",
    "            climdex_input=climdex_inputs,\n",
    "            output_file=output_file.name,\n",
    "            threshold=95,\n",
    "        )\n",
    "r95ptot_url = output.get()[0]"
   ]
  },
  {
   "cell_type": "markdown",
   "metadata": {},
   "source": [
    "Access the output with **rda_to_vector** or **construct_r_out** from **wps_tools.R**"
   ]
  },
  {
   "cell_type": "code",
   "execution_count": 10,
   "metadata": {},
   "outputs": [
    {
     "name": "stdout",
     "output_type": "stream",
     "text": [
      "prcptot\n",
      "  1959   1960   1961   1962   1963   1964   1965   1966   1967   1968   1969 \n",
      "    NA  803.7     NA     NA     NA  877.6  874.3  771.1 1080.6 1029.5  652.0 \n",
      "  1970   1971   1972   1973   1974   1975   1976   1977   1978   1979   1980 \n",
      " 771.6 1030.8 1097.8  670.1  863.6 1000.1     NA     NA  585.4  715.7  991.4 \n",
      "  1981   1982   1983   1984   1985   1986   1987   1988   1989   1990   1991 \n",
      " 907.8     NA  913.2     NA     NA     NA     NA     NA  860.4 1292.5     NA \n",
      "  1992   1993   1994   1995   1996   1997   1998   1999   2000   2001   2002 \n",
      " 797.2     NA     NA 1182.1     NA 1261.3 1093.5 1266.6  648.5  921.9     NA \n",
      "  2003   2004 \n",
      "1105.5     NA \n",
      "\n",
      "r95ptot\n",
      " 1959  1960  1961  1962  1963  1964  1965  1966  1967  1968  1969  1970  1971 \n",
      "   NA 226.6    NA    NA    NA 140.2 256.3 138.4 349.3 165.3  70.7  50.8 261.6 \n",
      " 1972  1973  1974  1975  1976  1977  1978  1979  1980  1981  1982  1983  1984 \n",
      "390.9  80.8 186.4 295.2    NA    NA  62.0 195.4 254.2  93.0    NA 171.4    NA \n",
      " 1985  1986  1987  1988  1989  1990  1991  1992  1993  1994  1995  1996  1997 \n",
      "   NA    NA    NA    NA 256.9 407.2    NA 210.2    NA    NA 423.8    NA 299.2 \n",
      " 1998  1999  2000  2001  2002  2003  2004 \n",
      "357.9 378.8  59.0 155.4    NA 335.5    NA \n",
      "\n",
      "r99ptot\n",
      " 1959  1960  1961  1962  1963  1964  1965  1966  1967  1968  1969  1970  1971 \n",
      "   NA 152.4    NA    NA    NA   0.0   0.0   0.0  45.2  82.3   0.0   0.0 108.2 \n",
      " 1972  1973  1974  1975  1976  1977  1978  1979  1980  1981  1982  1983  1984 \n",
      "248.8  42.7 106.4 105.4    NA    NA   0.0  50.0  62.0   0.0    NA 102.6    NA \n",
      " 1985  1986  1987  1988  1989  1990  1991  1992  1993  1994  1995  1996  1997 \n",
      "   NA    NA    NA    NA 102.1 137.4    NA  52.8    NA    NA 282.6    NA  94.0 \n",
      " 1998  1999  2000  2001  2002  2003  2004 \n",
      "  0.0   0.0   0.0   0.0    NA 169.0    NA \n",
      "\n"
     ]
    }
   ],
   "source": [
    "# NBVAL_IGNORE_OUTPUT\n",
    "# use print() to see whole vector\n",
    "prcptot = rda_to_vector(prcptot_url, \"prc0_ci\")\n",
    "print(f\"prcptot\\n{prcptot}\")\n",
    "r95ptot = rda_to_vector(r95ptot_url, \"r950_ci\")\n",
    "print(f\"r95ptot\\n{r95ptot}\")\n",
    "r99ptot = rda_to_vector(r99ptot_url, \"r990_ci\")\n",
    "print(f\"r99ptot\\n{r99ptot}\")"
   ]
  },
  {
   "cell_type": "code",
   "execution_count": 11,
   "metadata": {},
   "outputs": [
    {
     "data": {
      "text/plain": [
       "[[R object with classes: ('numeric',) mapped to:\n",
       "  [     nan, 803.699996,      nan,      nan, ..., 921.899999,      nan, 1105.500000,      nan]],\n",
       " [R object with classes: ('numeric',) mapped to:\n",
       "  [     nan, 226.599997,      nan,      nan, ..., 155.400000,      nan, 335.500000,      nan],\n",
       "  R object with classes: ('numeric',) mapped to:\n",
       "  [     nan, 226.599997,      nan,      nan, ..., 155.400000,      nan, 335.500000,      nan],\n",
       "  R object with classes: ('numeric',) mapped to:\n",
       "  [     nan, 226.599997,      nan,      nan, ..., 155.400000,      nan, 335.500000,      nan],\n",
       "  R object with classes: ('numeric',) mapped to:\n",
       "  [     nan, 181.899997,      nan,      nan, ..., 155.400000,      nan, 312.500000,      nan]],\n",
       " [R object with classes: ('numeric',) mapped to:\n",
       "  [     nan, 152.399997,      nan,      nan, ..., 0.000000,      nan, 169.000000,      nan]]]"
      ]
     },
     "execution_count": 11,
     "metadata": {},
     "output_type": "execute_result"
    }
   ],
   "source": [
    "# NBVAL_IGNORE_OUTPUT\n",
    "construct_r_out([prcptot_url, r95ptot_url, r99ptot_url])"
   ]
  },
  {
   "cell_type": "markdown",
   "metadata": {},
   "source": [
    "#### Test output against expected output"
   ]
  },
  {
   "cell_type": "code",
   "execution_count": 12,
   "metadata": {},
   "outputs": [],
   "source": [
    "test_rda_output(\n",
    "    prcptot_url, \"prc0_ci\", \"expected_ptot.rda\", \"expected_prcptot\"\n",
    "    )\n",
    "\n",
    "test_rda_output(\n",
    "    r95ptot_url, \"r950_ci\", \"expected_ptot.rda\", \"expected_r95ptot\"\n",
    "    )\n",
    "\n",
    "test_rda_output(\n",
    "    r99ptot_url, \"r990_ci\", \"expected_ptot.rda\", \"expected_r99ptot\"\n",
    "    )"
   ]
  }
 ],
 "metadata": {
  "kernelspec": {
   "display_name": "Python 3",
   "language": "python",
   "name": "python3"
  },
  "language_info": {
   "codemirror_mode": {
    "name": "ipython",
    "version": 3
   },
   "file_extension": ".py",
   "mimetype": "text/x-python",
   "name": "python",
   "nbconvert_exporter": "python",
   "pygments_lexer": "ipython3",
   "version": "3.8.5"
  }
 },
 "nbformat": 4,
 "nbformat_minor": 4
}
