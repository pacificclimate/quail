{
 "cells": [
  {
   "cell_type": "markdown",
   "metadata": {},
   "source": [
    "### Data pre-processing: wps_climdexInput_csv\n",
    "\n",
    "WPS wrapper for [climdexInput.csv](https://cran.r-project.org/web/packages/climdex.pcic/climdex.pcic.pdf#page=41) data pre-processing functions"
   ]
  },
  {
   "cell_type": "code",
   "execution_count": 1,
   "metadata": {},
   "outputs": [],
   "source": [
    "import os\n",
    "import requests\n",
    "from birdy import WPSClient\n",
    "from rpy2 import robjects\n",
    "from urllib.request import urlretrieve\n",
    "from pkg_resources import resource_filename\n",
    "from tempfile import NamedTemporaryFile\n",
    "\n",
    "from wps_tools.file_handling import csv_handler\n",
    "from wps_tools.testing import get_target_url\n",
    "from quail.utils import test_ci_output"
   ]
  },
  {
   "cell_type": "code",
   "execution_count": 2,
   "metadata": {},
   "outputs": [],
   "source": [
    "# Ensure we are in the working directory with access to the data\n",
    "while os.path.basename(os.getcwd()) != \"quail\":\n",
    "    os.chdir('../')"
   ]
  },
  {
   "cell_type": "code",
   "execution_count": 3,
   "metadata": {},
   "outputs": [
    {
     "name": "stdout",
     "output_type": "stream",
     "text": [
      "Using quail on https://docker-dev03.pcic.uvic.ca/twitcher/ows/proxy/quail/wps\n"
     ]
    }
   ],
   "source": [
    "# NBVAL_IGNORE_OUTPUT\n",
    "url = get_target_url(\"quail\")\n",
    "print(f\"Using quail on {url}\")"
   ]
  },
  {
   "cell_type": "code",
   "execution_count": 4,
   "metadata": {},
   "outputs": [],
   "source": [
    "quail = WPSClient(url)"
   ]
  },
  {
   "cell_type": "markdown",
   "metadata": {},
   "source": [
    "#### Help for individual processes can be diplayed using the ? command (ex/ bird.process?)"
   ]
  },
  {
   "cell_type": "code",
   "execution_count": 5,
   "metadata": {},
   "outputs": [
    {
     "data": {
      "text/plain": [
       "\u001b[0;31mSignature:\u001b[0m\n",
       "\u001b[0mquail\u001b[0m\u001b[0;34m.\u001b[0m\u001b[0mclimdex_input_csv\u001b[0m\u001b[0;34m(\u001b[0m\u001b[0;34m\u001b[0m\n",
       "\u001b[0;34m\u001b[0m    \u001b[0mprec_file_content\u001b[0m\u001b[0;34m,\u001b[0m\u001b[0;34m\u001b[0m\n",
       "\u001b[0;34m\u001b[0m    \u001b[0mna_strings\u001b[0m\u001b[0;34m=\u001b[0m\u001b[0;34m'NULL'\u001b[0m\u001b[0;34m,\u001b[0m\u001b[0;34m\u001b[0m\n",
       "\u001b[0;34m\u001b[0m    \u001b[0mtmax_column\u001b[0m\u001b[0;34m=\u001b[0m\u001b[0;34m'tmax'\u001b[0m\u001b[0;34m,\u001b[0m\u001b[0;34m\u001b[0m\n",
       "\u001b[0;34m\u001b[0m    \u001b[0mtmin_column\u001b[0m\u001b[0;34m=\u001b[0m\u001b[0;34m'tmin'\u001b[0m\u001b[0;34m,\u001b[0m\u001b[0;34m\u001b[0m\n",
       "\u001b[0;34m\u001b[0m    \u001b[0mprec_column\u001b[0m\u001b[0;34m=\u001b[0m\u001b[0;34m'prec'\u001b[0m\u001b[0;34m,\u001b[0m\u001b[0;34m\u001b[0m\n",
       "\u001b[0;34m\u001b[0m    \u001b[0mtavg_column\u001b[0m\u001b[0;34m=\u001b[0m\u001b[0;34m'tavg'\u001b[0m\u001b[0;34m,\u001b[0m\u001b[0;34m\u001b[0m\n",
       "\u001b[0;34m\u001b[0m    \u001b[0mbase_range\u001b[0m\u001b[0;34m=\u001b[0m\u001b[0;34m'c(1961, 1990)'\u001b[0m\u001b[0;34m,\u001b[0m\u001b[0;34m\u001b[0m\n",
       "\u001b[0;34m\u001b[0m    \u001b[0mcal\u001b[0m\u001b[0;34m=\u001b[0m\u001b[0;34m'gregorian'\u001b[0m\u001b[0;34m,\u001b[0m\u001b[0;34m\u001b[0m\n",
       "\u001b[0;34m\u001b[0m    \u001b[0mdate_fields\u001b[0m\u001b[0;34m=\u001b[0m\u001b[0;34m\"c('year', 'jday')\"\u001b[0m\u001b[0;34m,\u001b[0m\u001b[0;34m\u001b[0m\n",
       "\u001b[0;34m\u001b[0m    \u001b[0mdate_format\u001b[0m\u001b[0;34m=\u001b[0m\u001b[0;34m'%Y %j'\u001b[0m\u001b[0;34m,\u001b[0m\u001b[0;34m\u001b[0m\n",
       "\u001b[0;34m\u001b[0m    \u001b[0mn\u001b[0m\u001b[0;34m=\u001b[0m\u001b[0;36m5\u001b[0m\u001b[0;34m,\u001b[0m\u001b[0;34m\u001b[0m\n",
       "\u001b[0;34m\u001b[0m    \u001b[0mnorthern_hemisphere\u001b[0m\u001b[0;34m=\u001b[0m\u001b[0;32mTrue\u001b[0m\u001b[0;34m,\u001b[0m\u001b[0;34m\u001b[0m\n",
       "\u001b[0;34m\u001b[0m    \u001b[0mquantiles\u001b[0m\u001b[0;34m=\u001b[0m\u001b[0;34m'NULL'\u001b[0m\u001b[0;34m,\u001b[0m\u001b[0;34m\u001b[0m\n",
       "\u001b[0;34m\u001b[0m    \u001b[0mtemp_qtiles\u001b[0m\u001b[0;34m=\u001b[0m\u001b[0;34m'c(0.1, 0.9)'\u001b[0m\u001b[0;34m,\u001b[0m\u001b[0;34m\u001b[0m\n",
       "\u001b[0;34m\u001b[0m    \u001b[0mprec_qtiles\u001b[0m\u001b[0;34m=\u001b[0m\u001b[0;34m'c(0.95, 0.99)'\u001b[0m\u001b[0;34m,\u001b[0m\u001b[0;34m\u001b[0m\n",
       "\u001b[0;34m\u001b[0m    \u001b[0mmax_missing_days\u001b[0m\u001b[0;34m=\u001b[0m\u001b[0;34m'c(annual = 15, monthly =3)'\u001b[0m\u001b[0;34m,\u001b[0m\u001b[0;34m\u001b[0m\n",
       "\u001b[0;34m\u001b[0m    \u001b[0mmin_base_data_fraction_present\u001b[0m\u001b[0;34m=\u001b[0m\u001b[0;36m0.1\u001b[0m\u001b[0;34m,\u001b[0m\u001b[0;34m\u001b[0m\n",
       "\u001b[0;34m\u001b[0m    \u001b[0mloglevel\u001b[0m\u001b[0;34m=\u001b[0m\u001b[0;34m'INFO'\u001b[0m\u001b[0;34m,\u001b[0m\u001b[0;34m\u001b[0m\n",
       "\u001b[0;34m\u001b[0m    \u001b[0mtmax_file_content\u001b[0m\u001b[0;34m=\u001b[0m\u001b[0;32mNone\u001b[0m\u001b[0;34m,\u001b[0m\u001b[0;34m\u001b[0m\n",
       "\u001b[0;34m\u001b[0m    \u001b[0mtmin_file_content\u001b[0m\u001b[0;34m=\u001b[0m\u001b[0;32mNone\u001b[0m\u001b[0;34m,\u001b[0m\u001b[0;34m\u001b[0m\n",
       "\u001b[0;34m\u001b[0m    \u001b[0mtavg_file_content\u001b[0m\u001b[0;34m=\u001b[0m\u001b[0;32mNone\u001b[0m\u001b[0;34m,\u001b[0m\u001b[0;34m\u001b[0m\n",
       "\u001b[0;34m\u001b[0m    \u001b[0moutput_file\u001b[0m\u001b[0;34m=\u001b[0m\u001b[0;34m'output.rda'\u001b[0m\u001b[0;34m,\u001b[0m\u001b[0;34m\u001b[0m\n",
       "\u001b[0;34m\u001b[0m    \u001b[0mvector_name\u001b[0m\u001b[0;34m=\u001b[0m\u001b[0;34m'output_vector'\u001b[0m\u001b[0;34m,\u001b[0m\u001b[0;34m\u001b[0m\n",
       "\u001b[0;34m\u001b[0m    \u001b[0moutput_formats\u001b[0m\u001b[0;34m=\u001b[0m\u001b[0;32mNone\u001b[0m\u001b[0;34m,\u001b[0m\u001b[0;34m\u001b[0m\n",
       "\u001b[0;34m\u001b[0m\u001b[0;34m)\u001b[0m\u001b[0;34m\u001b[0m\u001b[0;34m\u001b[0m\u001b[0m\n",
       "\u001b[0;31mDocstring:\u001b[0m\n",
       "Process for creating climdexInput object from CSV files\n",
       "\n",
       "Parameters\n",
       "----------\n",
       "tmax_file_content : string\n",
       "    Content of file with daily maximum temperature data (temporary alternative to taking file).\n",
       "tmin_file_content : string\n",
       "    Content of file with daily minimum temperature data (temporary alternative to taking file).\n",
       "prec_file_content : string\n",
       "    Content of file with daily total precipitation data (temporary alternative to taking file).\n",
       "tavg_file_content : string\n",
       "    Content of file with daily mean temperature data (temporary alternative to taking file).\n",
       "na_strings : string\n",
       "    Strings used for NA values; passed to read.csv\n",
       "tmax_column : string\n",
       "    Column name for tmax data.\n",
       "tmin_column : string\n",
       "    Column name for tmin data.\n",
       "prec_column : string\n",
       "    Column name for prec data.\n",
       "tavg_column : string\n",
       "    Column name for tavg data.\n",
       "base_range : string\n",
       "    Years to use for the baseline\n",
       "cal : string\n",
       "    The calendar type used in the input files.\n",
       "date_fields : string\n",
       "    Vector of names consisting of the columns to be concatenated together with spaces.\n",
       "date_format : string\n",
       "    Date format as taken by strptime.\n",
       "n : integer\n",
       "    Number of days to use as window for daily quantiles.\n",
       "northern_hemisphere : boolean\n",
       "    Number of days to use as window for daily quantiles.\n",
       "quantiles : string\n",
       "    Threshold quantiles for supplied variables.\n",
       "temp_qtiles : string\n",
       "    Quantiles to calculate for temperature variables\n",
       "prec_qtiles : string\n",
       "    Quantiles to calculate for precipitation\n",
       "max_missing_days : string\n",
       "    Vector containing thresholds for number of days allowed missing per year (annual) and per month (monthly).\n",
       "min_base_data_fraction_present : float\n",
       "    Minimum fraction of base data that must be present for quantile to be calculated for a particular day\n",
       "output_file : string\n",
       "    Filename to store the output Rdata (extension .rda)\n",
       "vector_name : string\n",
       "    Name to label the output vector\n",
       "loglevel : {'CRITICAL', 'ERROR', 'WARNING', 'INFO', 'DEBUG', 'NOTSET'}string\n",
       "    Logging level\n",
       "\n",
       "Returns\n",
       "-------\n",
       "climdexinput : ComplexData:mimetype:`application/x-gzip`\n",
       "    Output R data file for generated climdexInput\n",
       "\u001b[0;31mFile:\u001b[0m      ~/github/pcic/quail/</tmp/quail-venv/lib/python3.8/site-packages/birdy/client/base.py-2>\n",
       "\u001b[0;31mType:\u001b[0m      method\n"
      ]
     },
     "metadata": {},
     "output_type": "display_data"
    }
   ],
   "source": [
    "# NBVAL_IGNORE_OUTPUT\n",
    "quail.climdex_input_csv?"
   ]
  },
  {
   "cell_type": "markdown",
   "metadata": {},
   "source": [
    "#### Run wps_climdexInput process"
   ]
  },
  {
   "cell_type": "code",
   "execution_count": 6,
   "metadata": {},
   "outputs": [],
   "source": [
    "with NamedTemporaryFile(suffix=\".rda\", prefix=\"summer_days_\", dir=\"/tmp\", delete=True) as output_file:\n",
    "    output = quail.climdex_input_csv(\n",
    "            tmax_file_content=csv_handler(\n",
    "                resource_filename(\"tests\",\"data/1018935_MAX_TEMP.csv\")),\n",
    "            tmin_file_content=csv_handler(\n",
    "                resource_filename(\"tests\",\"data/1018935_MIN_TEMP.csv\")),\n",
    "            prec_file_content=csv_handler(\n",
    "                resource_filename(\"tests\",\"data/1018935_ONE_DAY_PRECIPITATION.csv\")),\n",
    "            tmax_column='MAX_TEMP',\n",
    "            tmin_column='MIN_TEMP',\n",
    "            prec_column='ONE_DAY_PRECIPITATION',\n",
    "            base_range=\"c(1971, 2000)\",\n",
    "            vector_name=\"climdexInput\",\n",
    "        )\n",
    "ci_url = output.get()[0]"
   ]
  },
  {
   "cell_type": "code",
   "execution_count": 7,
   "metadata": {},
   "outputs": [],
   "source": [
    "test_ci_output(\n",
    "        ci_url, \"climdexInput\", \"climdexInput.rda\", \"ci\"\n",
    "    )"
   ]
  }
 ],
 "metadata": {
  "kernelspec": {
   "display_name": "Python 3",
   "language": "python",
   "name": "python3"
  },
  "language_info": {
   "codemirror_mode": {
    "name": "ipython",
    "version": 3
   },
   "file_extension": ".py",
   "mimetype": "text/x-python",
   "name": "python",
   "nbconvert_exporter": "python",
   "pygments_lexer": "ipython3",
   "version": "3.8.5"
  }
 },
 "nbformat": 4,
 "nbformat_minor": 4
}
