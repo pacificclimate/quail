{
 "cells": [
  {
   "cell_type": "markdown",
   "metadata": {},
   "source": [
    "### wps_climdex_temp_pctl\n",
    "\n",
    "WPS wrapper for [climdex.pcic](https://cran.r-project.org/web/packages/climdex.pcic/climdex.pcic.pdf)'s Percent of Values Above/Below 10th/90th Percentile Daily Maximum/Minimum Temperature functions\n",
    "\n",
    "- **Percent of Values Below 10th Percentile Daily Minimum Temperature** ([climdex.tn10p](https://cran.r-project.org/web/packages/climdex.pcic/climdex.pcic.pdf#page=26)): This function computes the monthly or annual percent of values below the 10th percentile of baseline daily minimum temperature\n",
    "- **Percent of Values Above 90th Percentile Daily Minimum Temperature** ([climdex.tn90p](https://cran.r-project.org/web/packages/climdex.pcic/climdex.pcic.pdf#page=28)): This function computes the monthly or annual percent of values above the 90th percentile of baseline daily minimum temperature.\n",
    "- **Percent of Values Below 10th Percentile Daily Maximum Temperature** ([climdex.tx10p](https://cran.r-project.org/web/packages/climdex.pcic/climdex.pcic.pdf#page=33)): This function computes the monthly or annual percent of values below the 10th percentile of baseline daily maximum temperature\n",
    "- **Percent of Values Above 90th Percentile Daily Maximum Temperature** ([climdex.tn90p](https://cran.r-project.org/web/packages/climdex.pcic/climdex.pcic.pdf#page=34)): This function computes the monthly or annual percent of values above the 90th percentile of baseline daily maximum temperature"
   ]
  },
  {
   "cell_type": "code",
   "execution_count": 5,
   "metadata": {},
   "outputs": [],
   "source": [
    "import os\n",
    "import requests\n",
    "from birdy import WPSClient\n",
    "from rpy2 import robjects\n",
    "from urllib.request import urlretrieve\n",
    "from pkg_resources import resource_filename\n",
    "from tempfile import NamedTemporaryFile\n",
    "\n",
    "from wps_tools.R import rda_to_vector, construct_r_out, test_rda_output\n",
    "from wps_tools.testing import get_target_url"
   ]
  },
  {
   "cell_type": "code",
   "execution_count": 6,
   "metadata": {},
   "outputs": [],
   "source": [
    "# Ensure we are in the working directory with access to the data\n",
    "while os.path.basename(os.getcwd()) != \"quail\":\n",
    "    os.chdir('../')"
   ]
  },
  {
   "cell_type": "code",
   "execution_count": 7,
   "metadata": {},
   "outputs": [
    {
     "name": "stdout",
     "output_type": "stream",
     "text": [
      "Using quail on https://docker-dev03.pcic.uvic.ca/twitcher/ows/proxy/quail/wps\n"
     ]
    }
   ],
   "source": [
    "# NBVAL_IGNORE_OUTPUT\n",
    "url = get_target_url(\"quail\")\n",
    "print(f\"Using quail on {url}\")"
   ]
  },
  {
   "cell_type": "code",
   "execution_count": 8,
   "metadata": {},
   "outputs": [],
   "source": [
    "quail = WPSClient(url)"
   ]
  },
  {
   "cell_type": "markdown",
   "metadata": {},
   "source": [
    "#### Help for individual processes can be diplayed using the ? command (ex/ bird.process?)"
   ]
  },
  {
   "cell_type": "code",
   "execution_count": 9,
   "metadata": {},
   "outputs": [
    {
     "data": {
      "text/plain": [
       "\u001b[0;31mSignature:\u001b[0m\n",
       "\u001b[0mquail\u001b[0m\u001b[0;34m.\u001b[0m\u001b[0mclimdex_temp_pctl\u001b[0m\u001b[0;34m(\u001b[0m\u001b[0;34m\u001b[0m\n",
       "\u001b[0;34m\u001b[0m    \u001b[0mclimdex_input\u001b[0m\u001b[0;34m,\u001b[0m\u001b[0;34m\u001b[0m\n",
       "\u001b[0;34m\u001b[0m    \u001b[0mfunc\u001b[0m\u001b[0;34m=\u001b[0m\u001b[0;32mNone\u001b[0m\u001b[0;34m,\u001b[0m\u001b[0;34m\u001b[0m\n",
       "\u001b[0;34m\u001b[0m    \u001b[0mloglevel\u001b[0m\u001b[0;34m=\u001b[0m\u001b[0;34m'INFO'\u001b[0m\u001b[0;34m,\u001b[0m\u001b[0;34m\u001b[0m\n",
       "\u001b[0;34m\u001b[0m    \u001b[0moutput_file\u001b[0m\u001b[0;34m=\u001b[0m\u001b[0;34m'output.rda'\u001b[0m\u001b[0;34m,\u001b[0m\u001b[0;34m\u001b[0m\n",
       "\u001b[0;34m\u001b[0m    \u001b[0mfreq\u001b[0m\u001b[0;34m=\u001b[0m\u001b[0;34m'monthly'\u001b[0m\u001b[0;34m,\u001b[0m\u001b[0;34m\u001b[0m\n",
       "\u001b[0;34m\u001b[0m    \u001b[0moutput_formats\u001b[0m\u001b[0;34m=\u001b[0m\u001b[0;32mNone\u001b[0m\u001b[0;34m,\u001b[0m\u001b[0;34m\u001b[0m\n",
       "\u001b[0;34m\u001b[0m\u001b[0;34m)\u001b[0m\u001b[0;34m\u001b[0m\u001b[0;34m\u001b[0m\u001b[0m\n",
       "\u001b[0;31mDocstring:\u001b[0m\n",
       "Percent of Values Above/Below 10th/90th Percentile Daily Maximum/Minimum Temperature\n",
       "\n",
       "Parameters\n",
       "----------\n",
       "climdex_input : ComplexData:mimetype:`application/x-gzip`\n",
       "    RDS or Rdata (.rds, .rda, .rdata) file containing R Object of type climdexInput\n",
       "output_file : string\n",
       "    Filename to store the output Rdata (extension .rda)\n",
       "func : {'tn10p', 'tn90p', 'tx10p', 'tx90p'}string\n",
       "    Percentile function to compute\n",
       "freq : {'monthly', 'annual'}string\n",
       "    Time frequency to aggregate to\n",
       "loglevel : {'CRITICAL', 'ERROR', 'WARNING', 'INFO', 'DEBUG', 'NOTSET'}string\n",
       "    Logging level\n",
       "\n",
       "Returns\n",
       "-------\n",
       "rda_output : ComplexData:mimetype:`application/x-gzip`\n",
       "    Rda file containing R output data\n",
       "\u001b[0;31mFile:\u001b[0m      ~/github/pcic/quail/</tmp/quail-venv/lib/python3.8/site-packages/birdy/client/base.py-7>\n",
       "\u001b[0;31mType:\u001b[0m      method\n"
      ]
     },
     "metadata": {},
     "output_type": "display_data"
    }
   ],
   "source": [
    "# NBVAL_IGNORE_OUTPUT\n",
    "quail.climdex_temp_pctl?"
   ]
  },
  {
   "cell_type": "markdown",
   "metadata": {},
   "source": [
    "## Percent of Values Below 10th Percentile Daily Minimum Temperature"
   ]
  },
  {
   "cell_type": "markdown",
   "metadata": {},
   "source": [
    "#### Run wps_climdex_temp_pctl Process for climdex.tn10p()"
   ]
  },
  {
   "cell_type": "code",
   "execution_count": 10,
   "metadata": {},
   "outputs": [],
   "source": [
    "with NamedTemporaryFile(suffix=\".rda\", prefix=\"tn10p_\", dir=\"/tmp\", delete=True) as output_file:\n",
    "    output = quail.climdex_temp_pctl(\n",
    "            climdex_input=resource_filename(\"tests\",\"data/climdexInput.rda\"),\n",
    "            func=\"tn10p\",\n",
    "            freq=\"monthly\",\n",
    "            output_file=output_file.name,\n",
    "        )\n",
    "tn10p_url = output.get()[0]"
   ]
  },
  {
   "cell_type": "markdown",
   "metadata": {},
   "source": [
    "## Percent of Values Above 90th Percentile Daily Minimum Temperature"
   ]
  },
  {
   "cell_type": "markdown",
   "metadata": {},
   "source": [
    "#### Run wps_climdex_temp_pctl Process for climdex.tn90p()"
   ]
  },
  {
   "cell_type": "code",
   "execution_count": 11,
   "metadata": {},
   "outputs": [],
   "source": [
    "with NamedTemporaryFile(suffix=\".rda\", prefix=\"tn90p_\", dir=\"/tmp\", delete=True) as output_file:\n",
    "    output = quail.climdex_temp_pctl(\n",
    "            climdex_input=resource_filename(\"tests\",\"data/climdexInput.rda\"),\n",
    "            func=\"tn90p\",\n",
    "            freq=\"monthly\",\n",
    "            output_file=output_file.name,\n",
    "        )\n",
    "tn90p_url = output.get()[0]"
   ]
  },
  {
   "cell_type": "markdown",
   "metadata": {},
   "source": [
    "## Percent of Values Below 10th Percentile Daily Maximum Temperature"
   ]
  },
  {
   "cell_type": "markdown",
   "metadata": {},
   "source": [
    "You can also use rds input\n",
    "#### Run wps_climdex_temp_pctl Process for climdex.tx10p() with Rds input"
   ]
  },
  {
   "cell_type": "code",
   "execution_count": 12,
   "metadata": {},
   "outputs": [],
   "source": [
    "with NamedTemporaryFile(suffix=\".rda\", prefix=\"tx10p_\", dir=\"/tmp\", delete=True) as output_file:\n",
    "    output = quail.climdex_temp_pctl(\n",
    "            climdex_input=resource_filename(\"tests\",\"data/climdexInput.rds\"),\n",
    "            func=\"tx10p\",\n",
    "            freq=\"monthly\",\n",
    "            output_file=output_file.name,\n",
    "        )\n",
    "tx10p_url = output.get()[0]"
   ]
  },
  {
   "cell_type": "markdown",
   "metadata": {},
   "source": [
    "And You can have multiple inputs\n",
    "## Percent of Values Above 90th Percentile Daily Maximum Temperature"
   ]
  },
  {
   "cell_type": "markdown",
   "metadata": {},
   "source": [
    "#### Run wps_climdex_temp_pctl Process for climdex.tx90p() with multiple Inputs"
   ]
  },
  {
   "cell_type": "code",
   "execution_count": 13,
   "metadata": {},
   "outputs": [],
   "source": [
    "climdex_inputs = [\n",
    "    resource_filename(\"tests\",\"data/climdexInput.rds\"),\n",
    "    resource_filename(\"tests\",\"data/climdexInput.rda\"),\n",
    "    resource_filename(\"tests\",\"data/climdex_input_multiple.rda\")\n",
    "]\n",
    "with NamedTemporaryFile(suffix=\".rda\", prefix=\"tx90p_\", dir=\"/tmp\", delete=True) as output_file:\n",
    "    output = quail.climdex_temp_pctl(\n",
    "            climdex_input=climdex_inputs,\n",
    "            func=\"tx90p\",\n",
    "            freq=\"monthly\",\n",
    "            output_file=output_file.name,\n",
    "        )\n",
    "tx90p_url = output.get()[0]"
   ]
  },
  {
   "cell_type": "markdown",
   "metadata": {},
   "source": [
    "Access the output with **rda_to_vector** or **construct_r_out** from **wps_tools.R**"
   ]
  },
  {
   "cell_type": "code",
   "execution_count": 14,
   "metadata": {},
   "outputs": [
    {
     "name": "stdout",
     "output_type": "stream",
     "text": [
      "tn10p\n",
      "  [1]        NA        NA        NA        NA        NA        NA        NA\n",
      "  [8]        NA        NA        NA        NA  0.000000  3.225806 10.344828\n",
      " [15] 19.354839  6.666667 16.129032  3.333333  9.677419  3.225806 16.666667\n",
      " [22]  6.451613  0.000000  0.000000  0.000000  0.000000  0.000000  6.666667\n",
      " [29]  3.225806  3.333333  0.000000  0.000000 27.586207  9.677419 10.000000\n",
      " [36]        NA        NA        NA 22.580645  0.000000 25.806452 10.000000\n",
      " [43]  9.677419  3.225806 13.333333  3.225806  0.000000  6.451613 22.580645\n",
      " [50]  0.000000  3.225806  6.666667 19.354839  0.000000  3.225806  3.225806\n",
      " [57]  0.000000  0.000000 16.666667 22.580645  9.677419 24.137931  0.000000\n",
      " [64] 30.000000 22.580645  3.333333  0.000000  6.451613 26.666667        NA\n",
      " [71] 20.689655 32.258065  9.677419  7.142857 22.580645 13.333333 35.483871\n",
      " [78] 20.000000  3.225806 12.903226 16.666667  6.451613  0.000000  9.677419\n",
      " [85]  6.451613  3.571429 22.580645 13.333333 29.032258 16.666667  6.451613\n",
      " [92] 16.129032 10.000000 22.580645  0.000000  6.451613  0.000000  0.000000\n",
      " [99] 12.903226 30.000000\n",
      "\n"
     ]
    }
   ],
   "source": [
    "# Eg/ Percent of Values Below 10th Percentile Daily Minimum Temperature\n",
    "tn10p = rda_to_vector(tn10p_url, \"tn10p0_ci\")\n",
    "# use print() to see vector\n",
    "print(f\"tn10p\\n{tn10p[:100]}\") # Showing the first 100 values"
   ]
  },
  {
   "cell_type": "code",
   "execution_count": 16,
   "metadata": {},
   "outputs": [
    {
     "data": {
      "text/plain": [
       "[[R object with classes: ('numeric',) mapped to:\n",
       "  [     nan,      nan,      nan,      nan, ..., 0.000000, 0.000000,      nan,      nan]],\n",
       " [R object with classes: ('numeric',) mapped to:\n",
       "  [     nan,      nan,      nan,      nan, ..., 3.333333, 0.000000,      nan,      nan]],\n",
       " [R object with classes: ('numeric',) mapped to:\n",
       "  [     nan,      nan,      nan,      nan, ..., 6.666667, 0.000000,      nan,      nan]]]"
      ]
     },
     "execution_count": 16,
     "metadata": {},
     "output_type": "execute_result"
    }
   ],
   "source": [
    "construct_r_out([tn10p_url, tn90p_url, tx10p_url])"
   ]
  },
  {
   "cell_type": "markdown",
   "metadata": {},
   "source": [
    "#### Test output against expected output"
   ]
  },
  {
   "cell_type": "code",
   "execution_count": 17,
   "metadata": {},
   "outputs": [],
   "source": [
    "test_rda_output(\n",
    "    tn10p_url, \"tn10p0_ci\", \"expected_temp_pctl.rda\", \"expected_tn10p\"\n",
    "    )\n",
    "\n",
    "test_rda_output(\n",
    "    tn90p_url, \"tn90p0_ci\", \"expected_temp_pctl.rda\", \"expected_tn90p\"\n",
    "    )\n",
    "\n",
    "test_rda_output(\n",
    "    tx10p_url, \"tx10p0_ci\", \"expected_temp_pctl.rda\", \"expected_tx10p\"\n",
    "    )"
   ]
  }
 ],
 "metadata": {
  "kernelspec": {
   "display_name": "Python 3",
   "language": "python",
   "name": "python3"
  },
  "language_info": {
   "codemirror_mode": {
    "name": "ipython",
    "version": 3
   },
   "file_extension": ".py",
   "mimetype": "text/x-python",
   "name": "python",
   "nbconvert_exporter": "python",
   "pygments_lexer": "ipython3",
   "version": "3.8.5"
  }
 },
 "nbformat": 4,
 "nbformat_minor": 4
}
