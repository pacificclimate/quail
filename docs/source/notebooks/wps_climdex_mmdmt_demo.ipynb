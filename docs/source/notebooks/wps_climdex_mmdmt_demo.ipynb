{
 "cells": [
  {
   "cell_type": "markdown",
   "metadata": {},
   "source": [
    "### wps_climdex_mmdmt\n",
    "\n",
    "WPS wrapper for [climdex.pcic](https://cran.r-project.org/web/packages/climdex.pcic/climdex.pcic.pdf)'s Monthly or Annual Maximum or Minimum of Daily Maximum or Minimum Temperature functions\n",
    "\n",
    "- **Monthly Maximum of Daily Maximum Temperature** ([climdex.txx](https://cran.r-project.org/web/packages/climdex.pcic/climdex.pcic.pdf#page=37)): This function takes a climdexInput object as input and computes the monthly or annual maximum of daily maximum temperature\n",
    "- **Monthly Maximum of Daily Minimum Temperature** ([climdex.tnx](https://cran.r-project.org/web/packages/climdex.pcic/climdex.pcic.pdf#page=31)): This function takes a climdexInput object as input and computes the monthly or annual maximum of daily minimum temperature.\n",
    "- **Monthly Minimum of Daily Maximum Temperature** ([climdex.txn](https://cran.r-project.org/web/packages/climdex.pcic/climdex.pcic.pdf#page=36)): This function takes a climdexInput object as input and computes the monthly or annual minimum of daily maximum temperature\n",
    "- **Monthly Minimum of Daily Minimum Temperature** ([climdex.tnn](https://cran.r-project.org/web/packages/climdex.pcic/climdex.pcic.pdf#page=29)): This function takes a climdexInput object as input and computes the monthly or annual minimum of daily Minimum temperature"
   ]
  },
  {
   "cell_type": "code",
   "execution_count": 1,
   "metadata": {},
   "outputs": [],
   "source": [
    "import os\n",
    "import requests\n",
    "from birdy import WPSClient\n",
    "from rpy2 import robjects\n",
    "from urllib.request import urlretrieve\n",
    "from pkg_resources import resource_filename\n",
    "from tempfile import NamedTemporaryFile\n",
    "\n",
    "from wps_tools.testing import get_target_url\n",
    "from quail.utils import test_rda_output"
   ]
  },
  {
   "cell_type": "code",
   "execution_count": 2,
   "metadata": {},
   "outputs": [],
   "source": [
    "# Ensure we are in the working directory with access to the data\n",
    "while os.path.basename(os.getcwd()) != \"quail\":\n",
    "    os.chdir('../')"
   ]
  },
  {
   "cell_type": "code",
   "execution_count": 3,
   "metadata": {},
   "outputs": [
    {
     "name": "stdout",
     "output_type": "stream",
     "text": [
      "Using quail on https://docker-dev03.pcic.uvic.ca/twitcher/ows/proxy/quail/wps\n"
     ]
    }
   ],
   "source": [
    "# NBVAL_IGNORE_OUTPUT\n",
    "url = get_target_url(\"quail\")\n",
    "print(f\"Using quail on {url}\")"
   ]
  },
  {
   "cell_type": "code",
   "execution_count": 4,
   "metadata": {},
   "outputs": [],
   "source": [
    "quail = WPSClient(url)"
   ]
  },
  {
   "cell_type": "markdown",
   "metadata": {},
   "source": [
    "#### Help for individual processes can be diplayed using the ? command (ex/ bird.process?)"
   ]
  },
  {
   "cell_type": "code",
   "execution_count": 5,
   "metadata": {},
   "outputs": [
    {
     "data": {
      "text/plain": [
       "\u001b[0;31mSignature:\u001b[0m\n",
       "\u001b[0mquail\u001b[0m\u001b[0;34m.\u001b[0m\u001b[0mclimdex_mmdmt\u001b[0m\u001b[0;34m(\u001b[0m\u001b[0;34m\u001b[0m\n",
       "\u001b[0;34m\u001b[0m    \u001b[0mclimdex_input\u001b[0m\u001b[0;34m,\u001b[0m\u001b[0;34m\u001b[0m\n",
       "\u001b[0;34m\u001b[0m    \u001b[0mci_name\u001b[0m\u001b[0;34m,\u001b[0m\u001b[0;34m\u001b[0m\n",
       "\u001b[0;34m\u001b[0m    \u001b[0mmonth_type\u001b[0m\u001b[0;34m=\u001b[0m\u001b[0;32mNone\u001b[0m\u001b[0;34m,\u001b[0m\u001b[0;34m\u001b[0m\n",
       "\u001b[0;34m\u001b[0m    \u001b[0mloglevel\u001b[0m\u001b[0;34m=\u001b[0m\u001b[0;34m'INFO'\u001b[0m\u001b[0;34m,\u001b[0m\u001b[0;34m\u001b[0m\n",
       "\u001b[0;34m\u001b[0m    \u001b[0moutput_file\u001b[0m\u001b[0;34m=\u001b[0m\u001b[0;34m'output.rda'\u001b[0m\u001b[0;34m,\u001b[0m\u001b[0;34m\u001b[0m\n",
       "\u001b[0;34m\u001b[0m    \u001b[0mfreq\u001b[0m\u001b[0;34m=\u001b[0m\u001b[0;34m'monthly'\u001b[0m\u001b[0;34m,\u001b[0m\u001b[0;34m\u001b[0m\n",
       "\u001b[0;34m\u001b[0m    \u001b[0mvector_name\u001b[0m\u001b[0;34m=\u001b[0m\u001b[0;34m'days'\u001b[0m\u001b[0;34m,\u001b[0m\u001b[0;34m\u001b[0m\n",
       "\u001b[0;34m\u001b[0m\u001b[0;34m)\u001b[0m\u001b[0;34m\u001b[0m\u001b[0;34m\u001b[0m\u001b[0m\n",
       "\u001b[0;31mDocstring:\u001b[0m\n",
       "climdex_mmdmt includes the functions:\n",
       "                - climdex.txx: Monthly (or annual) Maximum of Daily Maximum Temperature\n",
       "                - climdex.tnx: Monthly (or annual) Maximum of Daily Minimum Temperature\n",
       "                - climdex.txn: Monthly (or annual) Minimum of Daily Maximum Temperature\n",
       "                - climdex.tnn: Monthly (or annual) Minimum of Daily Minimum Temperature\n",
       "\n",
       "Parameters\n",
       "----------\n",
       "climdex_input : ComplexData:mimetype:`application/x-gzip`\n",
       "    Rdata (.rda) file containing R Object of type climdexInput\n",
       "ci_name : string\n",
       "    Name of the climdexInput object\n",
       "output_file : string\n",
       "    Filename to store the output Rdata (extension .rda)\n",
       "month_type : {'txx', 'tnx', 'txn', 'tnn'}string\n",
       "    Min/ max daily temperature type to compute\n",
       "freq : {'monthly', 'annual'}string\n",
       "    Time frequency to aggregate to\n",
       "vector_name : string\n",
       "    Name to label the output vector\n",
       "loglevel : {'CRITICAL', 'ERROR', 'WARNING', 'INFO', 'DEBUG', 'NOTSET'}string\n",
       "    Logging level\n",
       "\n",
       "Returns\n",
       "-------\n",
       "rda_output : ComplexData:mimetype:`application/x-gzip`\n",
       "    Rda file containing R output data\n",
       "\u001b[0;31mFile:\u001b[0m      ~/code/birds/quail/</tmp/quail-venv/lib/python3.8/site-packages/birdy/client/base.py-2>\n",
       "\u001b[0;31mType:\u001b[0m      method\n"
      ]
     },
     "metadata": {},
     "output_type": "display_data"
    }
   ],
   "source": [
    "# NBVAL_IGNORE_OUTPUT\n",
    "quail.climdex_mmdmt?"
   ]
  },
  {
   "cell_type": "markdown",
   "metadata": {},
   "source": [
    "## Monthly Maximum of Daily Maximum Temperature"
   ]
  },
  {
   "cell_type": "markdown",
   "metadata": {},
   "source": [
    "#### Run wps_climdex_mmdmt Process for climdex.txx() monthly"
   ]
  },
  {
   "cell_type": "code",
   "execution_count": 6,
   "metadata": {},
   "outputs": [],
   "source": [
    "with NamedTemporaryFile(suffix=\".rda\", prefix=\"txx_\", dir=\"/tmp\", delete=True) as output_file:\n",
    "    output = quail.climdex_mmdmt(\n",
    "            climdex_input=resource_filename(\"tests\",\"data/climdexInput.rda\"),\n",
    "            ci_name=\"ci\",\n",
    "            month_type=\"txx\",\n",
    "            vector_name=\"txx_monthly_vector\",\n",
    "            output_file=output_file.name,\n",
    "        )\n",
    "txx_monthly_url = output.get()[0]"
   ]
  },
  {
   "cell_type": "markdown",
   "metadata": {},
   "source": [
    "#### Run wps_climdex_mmdmt Process for climdex.txx() annual"
   ]
  },
  {
   "cell_type": "code",
   "execution_count": 7,
   "metadata": {},
   "outputs": [],
   "source": [
    "with NamedTemporaryFile(suffix=\".rda\", prefix=\"txx_\", dir=\"/tmp\", delete=True) as output_file:\n",
    "    output = quail.climdex_mmdmt(\n",
    "            climdex_input=resource_filename(\"tests\",\"data/climdexInput.rda\"),\n",
    "            ci_name=\"ci\",\n",
    "            month_type=\"txx\",\n",
    "            vector_name=\"txx_annual_vector\",\n",
    "            freq=\"annual\",\n",
    "            output_file=output_file.name,\n",
    "        )\n",
    "txx_annual_url = output.get()[0]"
   ]
  },
  {
   "cell_type": "markdown",
   "metadata": {},
   "source": [
    "## Monthly Maximum of Daily Minimum Temperature"
   ]
  },
  {
   "cell_type": "markdown",
   "metadata": {},
   "source": [
    "#### Run wps_climdex_mmdmt Process for climdex.tnx() monthly"
   ]
  },
  {
   "cell_type": "code",
   "execution_count": 8,
   "metadata": {},
   "outputs": [],
   "source": [
    "with NamedTemporaryFile(suffix=\".rda\", prefix=\"tnx_\", dir=\"/tmp\", delete=True) as output_file:\n",
    "    output = quail.climdex_mmdmt(\n",
    "            climdex_input=resource_filename(\"tests\",\"data/climdexInput.rda\"),\n",
    "            ci_name=\"ci\",\n",
    "            month_type=\"tnx\",\n",
    "            vector_name=\"tnx_monthly_vector\",\n",
    "            output_file=output_file.name,\n",
    "        )\n",
    "tnx_monthly_url = output.get()[0]"
   ]
  },
  {
   "cell_type": "markdown",
   "metadata": {},
   "source": [
    "#### Run wps_climdex_mmdmt Process for climdex.tnx() annual"
   ]
  },
  {
   "cell_type": "code",
   "execution_count": 9,
   "metadata": {},
   "outputs": [],
   "source": [
    "with NamedTemporaryFile(suffix=\".rda\", prefix=\"tnx_\", dir=\"/tmp\", delete=True) as output_file:\n",
    "    output = quail.climdex_mmdmt(\n",
    "            climdex_input=resource_filename(\"tests\",\"data/climdexInput.rda\"),\n",
    "            ci_name=\"ci\",\n",
    "            month_type=\"tnx\",\n",
    "            vector_name=\"tnx_annual_vector\",\n",
    "            freq=\"annual\",\n",
    "            output_file=output_file.name,\n",
    "        )\n",
    "tnx_annual_url = output.get()[0]"
   ]
  },
  {
   "cell_type": "markdown",
   "metadata": {},
   "source": [
    "## Monthly Minimum of Daily Maximum Temperature"
   ]
  },
  {
   "cell_type": "markdown",
   "metadata": {},
   "source": [
    "#### Run wps_climdex_mmdmt Process for climdex.txn() monthly"
   ]
  },
  {
   "cell_type": "code",
   "execution_count": 10,
   "metadata": {},
   "outputs": [],
   "source": [
    "with NamedTemporaryFile(suffix=\".rda\", prefix=\"txn_\", dir=\"/tmp\", delete=True) as output_file:\n",
    "    output = quail.climdex_mmdmt(\n",
    "            climdex_input=resource_filename(\"tests\",\"data/climdexInput.rda\"),\n",
    "            ci_name=\"ci\",\n",
    "            month_type=\"txn\",\n",
    "            vector_name=\"txn_monthly_vector\",\n",
    "            output_file=output_file.name,\n",
    "        )\n",
    "txn_monthly_url = output.get()[0]"
   ]
  },
  {
   "cell_type": "markdown",
   "metadata": {},
   "source": [
    "#### Run wps_climdex_mmdmt Process for climdex.txn() annual"
   ]
  },
  {
   "cell_type": "code",
   "execution_count": 11,
   "metadata": {},
   "outputs": [],
   "source": [
    "with NamedTemporaryFile(suffix=\".rda\", prefix=\"txn_\", dir=\"/tmp\", delete=True) as output_file:\n",
    "    output = quail.climdex_mmdmt(\n",
    "            climdex_input=resource_filename(\"tests\",\"data/climdexInput.rda\"),\n",
    "            ci_name=\"ci\",\n",
    "            month_type=\"txn\",\n",
    "            vector_name=\"txn_annual_vector\",\n",
    "            freq=\"annual\",\n",
    "            output_file=output_file.name,\n",
    "        )\n",
    "txn_annual_url = output.get()[0]"
   ]
  },
  {
   "cell_type": "markdown",
   "metadata": {},
   "source": [
    "## Monthly Minimum of Daily Minimum Temperature\n",
    "#### Run wps_climdex_mmdmt Process for climdex.tnn() monthly"
   ]
  },
  {
   "cell_type": "code",
   "execution_count": 12,
   "metadata": {},
   "outputs": [],
   "source": [
    "with NamedTemporaryFile(suffix=\".rda\", prefix=\"tnn_\", dir=\"/tmp\", delete=True) as output_file:\n",
    "    output = quail.climdex_mmdmt(\n",
    "            climdex_input=resource_filename(\"tests\",\"data/climdexInput.rda\"),\n",
    "            ci_name=\"ci\",\n",
    "            month_type=\"tnn\",\n",
    "            vector_name=\"tnn_monthly_vector\",\n",
    "            output_file=output_file.name,\n",
    "        )\n",
    "tnn_monthly_url = output.get()[0]"
   ]
  },
  {
   "cell_type": "markdown",
   "metadata": {},
   "source": [
    "#### Run wps_climdex_mmdmt Process for climdex.tnn() annual"
   ]
  },
  {
   "cell_type": "code",
   "execution_count": 13,
   "metadata": {},
   "outputs": [],
   "source": [
    "with NamedTemporaryFile(suffix=\".rda\", prefix=\"tnn_\", dir=\"/tmp\", delete=True) as output_file:\n",
    "    output = quail.climdex_mmdmt(\n",
    "            climdex_input=resource_filename(\"tests\",\"data/climdexInput.rda\"),\n",
    "            ci_name=\"ci\",\n",
    "            month_type=\"tnn\",\n",
    "            vector_name=\"tnn_annual_vector\",\n",
    "            freq=\"annual\",\n",
    "            output_file=output_file.name,\n",
    "        )\n",
    "tnn_annual_url = output.get()[0]"
   ]
  },
  {
   "cell_type": "markdown",
   "metadata": {},
   "source": [
    "#### Test output against expected output"
   ]
  },
  {
   "cell_type": "code",
   "execution_count": 14,
   "metadata": {},
   "outputs": [],
   "source": [
    "test_rda_output(\n",
    "    txx_monthly_url, \"txx_monthly_vector\", \"expected_mmdmt_data.rda\", \"expected_txx_monthly\"\n",
    ")\n",
    "test_rda_output(\n",
    "    txx_annual_url, \"txx_annual_vector\", \"expected_mmdmt_data.rda\", \"expected_txx_annual\"\n",
    ")\n",
    "test_rda_output(\n",
    "    tnx_monthly_url, \"tnx_monthly_vector\", \"expected_mmdmt_data.rda\", \"expected_tnx_monthly\"\n",
    ")\n",
    "test_rda_output(\n",
    "    tnx_annual_url, \"tnx_annual_vector\", \"expected_mmdmt_data.rda\", \"expected_tnx_annual\"\n",
    ")\n",
    "test_rda_output(\n",
    "    txn_monthly_url, \"txn_monthly_vector\", \"expected_mmdmt_data.rda\", \"expected_txn_monthly\"\n",
    ")\n",
    "test_rda_output(\n",
    "    txn_annual_url, \"txn_annual_vector\", \"expected_mmdmt_data.rda\", \"expected_txn_annual\"\n",
    ")\n",
    "test_rda_output(\n",
    "    tnn_monthly_url, \"tnn_monthly_vector\", \"expected_mmdmt_data.rda\", \"expected_tnn_monthly\"\n",
    ")\n",
    "test_rda_output(\n",
    "    tnn_annual_url, \"tnn_annual_vector\", \"expected_mmdmt_data.rda\", \"expected_tnn_annual\"\n",
    ")"
   ]
  }
 ],
 "metadata": {
  "kernelspec": {
   "display_name": "Python 3",
   "language": "python",
   "name": "python3"
  },
  "language_info": {
   "codemirror_mode": {
    "name": "ipython",
    "version": 3
   },
   "file_extension": ".py",
   "mimetype": "text/x-python",
   "name": "python",
   "nbconvert_exporter": "python",
   "pygments_lexer": "ipython3",
   "version": "3.8.5"
  }
 },
 "nbformat": 4,
 "nbformat_minor": 4
}
