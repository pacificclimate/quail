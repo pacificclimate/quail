{
 "cells": [
  {
   "cell_type": "markdown",
   "metadata": {},
   "source": [
    "### Data pre-processing: wps_climdexInput_raw\n",
    "\n",
    "WPS wrapper for [climdexInput.raw](https://cran.r-project.org/web/packages/climdex.pcic/climdex.pcic.pdf#page=43) data pre-processing functions"
   ]
  },
  {
   "cell_type": "code",
   "execution_count": 1,
   "metadata": {},
   "outputs": [],
   "source": [
    "import os\n",
    "import requests\n",
    "from birdy import WPSClient\n",
    "from rpy2 import robjects\n",
    "from urllib.request import urlretrieve\n",
    "from pkg_resources import resource_filename\n",
    "from tempfile import NamedTemporaryFile\n",
    "\n",
    "from wps_tools.testing import get_target_url\n",
    "from quail.utils import test_rda_output"
   ]
  },
  {
   "cell_type": "code",
   "execution_count": 2,
   "metadata": {},
   "outputs": [],
   "source": [
    "# Ensure we are in the working directory with access to the data\n",
    "while os.path.basename(os.getcwd()) != \"quail\":\n",
    "    os.chdir('../')"
   ]
  },
  {
   "cell_type": "code",
   "execution_count": 3,
   "metadata": {},
   "outputs": [],
   "source": [
    "quail = WPSClient(\"http://localhost:5005/wps\")"
   ]
  },
  {
   "cell_type": "markdown",
   "metadata": {},
   "source": [
    "#### Help for individual processes can be diplayed using the ? command (ex/ bird.process?)"
   ]
  },
  {
   "cell_type": "code",
   "execution_count": 4,
   "metadata": {},
   "outputs": [
    {
     "data": {
      "text/plain": [
       "\u001b[0;31mSignature:\u001b[0m\n",
       "\u001b[0mquail\u001b[0m\u001b[0;34m.\u001b[0m\u001b[0mclimdex_input_raw\u001b[0m\u001b[0;34m(\u001b[0m\u001b[0;34m\u001b[0m\n",
       "\u001b[0;34m\u001b[0m    \u001b[0mtmax_name\u001b[0m\u001b[0;34m=\u001b[0m\u001b[0;34m'tmax'\u001b[0m\u001b[0;34m,\u001b[0m\u001b[0;34m\u001b[0m\n",
       "\u001b[0;34m\u001b[0m    \u001b[0mtmin_name\u001b[0m\u001b[0;34m=\u001b[0m\u001b[0;34m'tmax'\u001b[0m\u001b[0;34m,\u001b[0m\u001b[0;34m\u001b[0m\n",
       "\u001b[0;34m\u001b[0m    \u001b[0mprec_name\u001b[0m\u001b[0;34m=\u001b[0m\u001b[0;34m'tmax'\u001b[0m\u001b[0;34m,\u001b[0m\u001b[0;34m\u001b[0m\n",
       "\u001b[0;34m\u001b[0m    \u001b[0mtavg_name\u001b[0m\u001b[0;34m=\u001b[0m\u001b[0;34m'tmax'\u001b[0m\u001b[0;34m,\u001b[0m\u001b[0;34m\u001b[0m\n",
       "\u001b[0;34m\u001b[0m    \u001b[0mloglevel\u001b[0m\u001b[0;34m=\u001b[0m\u001b[0;34m'INFO'\u001b[0m\u001b[0;34m,\u001b[0m\u001b[0;34m\u001b[0m\n",
       "\u001b[0;34m\u001b[0m    \u001b[0mtmax_file\u001b[0m\u001b[0;34m=\u001b[0m\u001b[0;32mNone\u001b[0m\u001b[0;34m,\u001b[0m\u001b[0;34m\u001b[0m\n",
       "\u001b[0;34m\u001b[0m    \u001b[0mtmin_file\u001b[0m\u001b[0;34m=\u001b[0m\u001b[0;32mNone\u001b[0m\u001b[0;34m,\u001b[0m\u001b[0;34m\u001b[0m\n",
       "\u001b[0;34m\u001b[0m    \u001b[0mprec_file\u001b[0m\u001b[0;34m=\u001b[0m\u001b[0;32mNone\u001b[0m\u001b[0;34m,\u001b[0m\u001b[0;34m\u001b[0m\n",
       "\u001b[0;34m\u001b[0m    \u001b[0mtavg_file\u001b[0m\u001b[0;34m=\u001b[0m\u001b[0;32mNone\u001b[0m\u001b[0;34m,\u001b[0m\u001b[0;34m\u001b[0m\n",
       "\u001b[0;34m\u001b[0m\u001b[0;34m)\u001b[0m\u001b[0;34m\u001b[0m\u001b[0;34m\u001b[0m\u001b[0m\n",
       "\u001b[0;31mDocstring:\u001b[0m\n",
       "Process for creating climdexInput object from data already ingested into R\n",
       "\n",
       "Parameters\n",
       "----------\n",
       "tmax_file : ComplexData:mimetype:`application/x-gzip`\n",
       "    Name of file containing daily maximum temperature data.\n",
       "tmin_file : ComplexData:mimetype:`application/x-gzip`\n",
       "    Name of file containing daily minimum temperature data.\n",
       "prec_file : ComplexData:mimetype:`application/x-gzip`\n",
       "    Name of file containing daily total precipitation data.\n",
       "tavg_file : ComplexData:mimetype:`application/x-gzip`\n",
       "    Name of file containing daily mean temperature data.\n",
       "tmax_name : string\n",
       "    Name of R object containing daily maximum temperature data.\n",
       "tmin_name : string\n",
       "    Name of R object containing daily minimum temperature data.\n",
       "prec_name : string\n",
       "    Name of R object containing daily mean temperature data.\n",
       "tavg_name : string\n",
       "    Name of R object containing daily total precipitation data.\n",
       "loglevel : {'CRITICAL', 'ERROR', 'WARNING', 'INFO', 'DEBUG', 'NOTSET'}string\n",
       "    Logging level\n",
       "\n",
       "Returns\n",
       "-------\n",
       "climdexinput : ComplexData:mimetype:`application/x-gzip`\n",
       "    Output R data file for generated climdexInput\n",
       "\u001b[0;31mFile:\u001b[0m      ~/Desktop/quail/</home/sangwonl/Desktop/quail/venv/lib/python3.7/site-packages/birdy/client/base.py-2>\n",
       "\u001b[0;31mType:\u001b[0m      method\n"
      ]
     },
     "metadata": {},
     "output_type": "display_data"
    }
   ],
   "source": [
    "# NBVAL_IGNORE_OUTPUT\n",
    "quail.climdex_input_raw?"
   ]
  },
  {
   "cell_type": "markdown",
   "metadata": {},
   "source": [
    "#### Run wps_climdexInput process"
   ]
  },
  {
   "cell_type": "code",
   "execution_count": 5,
   "metadata": {},
   "outputs": [],
   "source": [
    "# with NamedTemporaryFile(suffix=\".rda\", prefix=\"summer_days_\", dir=\"/tmp\", delete=True) as output_file:\n",
    "#     output = quail.climdex_input_raw(\n",
    "#             tmax_file=None,\n",
    "#             tmin_file=None,\n",
    "#             prec_file=None,\n",
    "#             tvag_file=None,\n",
    "#             data_columns='list(tmin = \"tmin\", tmax = \"tmax\", prec = \"prec\")',\n",
    "#             base_range='c(1961, 1990)',\n",
    "#             na_strings='NULL',\n",
    "#             cal='gregorian',\n",
    "#             date_fields=\"c('year'', 'jday')\",\n",
    "#             date_format='%Y %j',\n",
    "#             n=5,\n",
    "#             northern_hemisphere=True,\n",
    "#             quantiles='NULL',\n",
    "#             temp_qtiles='c(0.1, 0.9)',\n",
    "#             prec_qtiles='c(0.95, 0.99)',\n",
    "#             max_missing_days='c(annual = 15, monthly =3)',\n",
    "#             min_base_data_fraction_present=0.1,\n",
    "#             loglevel='INFO',\n",
    "#         )"
   ]
  },
  {
   "cell_type": "code",
   "execution_count": null,
   "metadata": {},
   "outputs": [],
   "source": []
  }
 ],
 "metadata": {
  "kernelspec": {
   "display_name": "Python 3",
   "language": "python",
   "name": "python3"
  },
  "language_info": {
   "codemirror_mode": {
    "name": "ipython",
    "version": 3
   },
   "file_extension": ".py",
   "mimetype": "text/x-python",
   "name": "python",
   "nbconvert_exporter": "python",
   "pygments_lexer": "ipython3",
   "version": "3.7.7"
  }
 },
 "nbformat": 4,
 "nbformat_minor": 4
}
