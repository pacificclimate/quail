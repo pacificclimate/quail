{
 "cells": [
  {
   "cell_type": "markdown",
   "metadata": {},
   "source": [
    "### Days: wps_climdex_spells\n",
    "\n",
    "WPS wrapper for [climdex.pcic](https://cran.r-project.org/web/packages/climdex.pcic/climdex.pcic.pdf) spell duration index functions\n",
    "\n",
    "- **Warm Spell Duration Index** ([climdex.wsdi](https://cran.r-project.org/web/packages/climdex.pcic/climdex.pcic.pdf#page=38)) The warm spell duration index is defined as the number of days each year which are part of a \"warmspell\".  A \"warm spell\" is defined as a sequence of 6 or more days in which the daily maximumtemperature exceeds the 90th percentile of daily maximum temperature for a 5-day running windowsurrounding this day during the baseline period.\n",
    "- **Cold Spell Duration Index** ([climdex.csdi](https://cran.r-project.org/web/packages/climdex.pcic/climdex.pcic.pdf#page=4)) The cold spell duration index is defined as the number of days each year which are part of a \"coldspell\".   A \"cold spell\" is defined as a sequence of 6 or more days in which the daily minimumtemperature is below the 10th percentile of daily minimum temperature for a 5-day running windowsurrounding this day during the baseline period.\n",
    "- **Maximum Consecutive Dry Days** ([climdex.cdd](https://cran.r-project.org/web/packages/climdex.pcic/climdex.pcic.pdf#page=3))This function computes the climdex index CDD: the annual maximum length of dry spells, in days. Dry spells are considered to be sequences of days where daily preciptation is less than 1mm per day.\n"
   ]
  },
  {
   "cell_type": "code",
   "execution_count": 1,
   "metadata": {},
   "outputs": [],
   "source": [
    "import os\n",
    "import requests\n",
    "from birdy import WPSClient\n",
    "from rpy2 import robjects\n",
    "from urllib.request import urlretrieve\n",
    "from pkg_resources import resource_filename\n",
    "from tempfile import NamedTemporaryFile\n",
    "\n",
    "from wps_tools.testing import get_target_url\n",
    "from quail.utils import test_rda_output"
   ]
  },
  {
   "cell_type": "code",
   "execution_count": 2,
   "metadata": {},
   "outputs": [],
   "source": [
    "# Ensure we are in the working directory with access to the data\n",
    "while os.path.basename(os.getcwd()) != \"quail\":\n",
    "    os.chdir('../')"
   ]
  },
  {
   "cell_type": "code",
   "execution_count": 3,
   "metadata": {},
   "outputs": [
    {
     "name": "stdout",
     "output_type": "stream",
     "text": [
      "Using quail on https://docker-dev03.pcic.uvic.ca/twitcher/ows/proxy/quail/wps\n"
     ]
    }
   ],
   "source": [
    "# NBVAL_IGNORE_OUTPUT\n",
    "url = get_target_url(\"quail\")\n",
    "print(f\"Using quail on {url}\")"
   ]
  },
  {
   "cell_type": "code",
   "execution_count": 4,
   "metadata": {},
   "outputs": [],
   "source": [
    "quail = WPSClient(url)"
   ]
  },
  {
   "cell_type": "markdown",
   "metadata": {},
   "source": [
    "#### Help for individual processes can be diplayed using the ? command (ex/ bird.process?)"
   ]
  },
  {
   "cell_type": "code",
   "execution_count": 5,
   "metadata": {},
   "outputs": [
    {
     "data": {
      "text/plain": [
       "\u001b[0;31mSignature:\u001b[0m\n",
       "\u001b[0mquail\u001b[0m\u001b[0;34m.\u001b[0m\u001b[0mclimdex_spells\u001b[0m\u001b[0;34m(\u001b[0m\u001b[0;34m\u001b[0m\n",
       "\u001b[0;34m\u001b[0m    \u001b[0mclimdex_input\u001b[0m\u001b[0;34m,\u001b[0m\u001b[0;34m\u001b[0m\n",
       "\u001b[0;34m\u001b[0m    \u001b[0mci_name\u001b[0m\u001b[0;34m,\u001b[0m\u001b[0;34m\u001b[0m\n",
       "\u001b[0;34m\u001b[0m    \u001b[0mfunc\u001b[0m\u001b[0;34m=\u001b[0m\u001b[0;32mNone\u001b[0m\u001b[0;34m,\u001b[0m\u001b[0;34m\u001b[0m\n",
       "\u001b[0;34m\u001b[0m    \u001b[0mspan_years\u001b[0m\u001b[0;34m=\u001b[0m\u001b[0;32mFalse\u001b[0m\u001b[0;34m,\u001b[0m\u001b[0;34m\u001b[0m\n",
       "\u001b[0;34m\u001b[0m    \u001b[0mloglevel\u001b[0m\u001b[0;34m=\u001b[0m\u001b[0;34m'INFO'\u001b[0m\u001b[0;34m,\u001b[0m\u001b[0;34m\u001b[0m\n",
       "\u001b[0;34m\u001b[0m    \u001b[0moutput_file\u001b[0m\u001b[0;34m=\u001b[0m\u001b[0;34m'output.rda'\u001b[0m\u001b[0;34m,\u001b[0m\u001b[0;34m\u001b[0m\n",
       "\u001b[0;34m\u001b[0m    \u001b[0mvector_name\u001b[0m\u001b[0;34m=\u001b[0m\u001b[0;34m'days'\u001b[0m\u001b[0;34m,\u001b[0m\u001b[0;34m\u001b[0m\n",
       "\u001b[0;34m\u001b[0m\u001b[0;34m)\u001b[0m\u001b[0;34m\u001b[0m\u001b[0;34m\u001b[0m\u001b[0m\n",
       "\u001b[0;31mDocstring:\u001b[0m\n",
       "Cold (csdi) or warm (wsdi) spell duration index and maximum consecutive dry (cdd) or wet (cwd) days\n",
       "\n",
       "Parameters\n",
       "----------\n",
       "climdex_input : ComplexData:mimetype:`application/x-gzip`\n",
       "    Rdata (.rda) file containing R Object of type climdexInput\n",
       "ci_name : string\n",
       "    Name of the climdexInput object\n",
       "output_file : string\n",
       "    Filename to store the output Rdata (extension .rda)\n",
       "func : {'wsdi', 'csdi', 'cdd', 'cwd'}string\n",
       "    Compute climdex.wsdi (Warm spell duration index)\n",
       "span_years : boolean\n",
       "    Specifies whether spells can cross year boundaries\n",
       "vector_name : string\n",
       "    Name to label the output vector\n",
       "loglevel : {'CRITICAL', 'ERROR', 'WARNING', 'INFO', 'DEBUG', 'NOTSET'}string\n",
       "    Logging level\n",
       "\n",
       "Returns\n",
       "-------\n",
       "rda_output : ComplexData:mimetype:`application/x-gzip`\n",
       "    Rda file containing R output data\n",
       "\u001b[0;31mFile:\u001b[0m      ~/code/birds/quail/</tmp/quail-venv/lib/python3.8/site-packages/birdy/client/base.py-5>\n",
       "\u001b[0;31mType:\u001b[0m      method\n"
      ]
     },
     "metadata": {},
     "output_type": "display_data"
    }
   ],
   "source": [
    "# NBVAL_IGNORE_OUTPUT\n",
    "quail.climdex_spells?"
   ]
  },
  {
   "cell_type": "markdown",
   "metadata": {},
   "source": [
    "### Run wps_climdex_spells Process for climdex.wsdi(), Warm Spell Duration Index\n",
    "without spells spanning years"
   ]
  },
  {
   "cell_type": "code",
   "execution_count": 6,
   "metadata": {},
   "outputs": [],
   "source": [
    "with NamedTemporaryFile(suffix=\".rda\", prefix=\"wsdi_\", dir=\"/tmp\", delete=True) as output_file:\n",
    "    output = quail.climdex_spells(\n",
    "            climdex_input=resource_filename(\"tests\",\"data/climdexInput.rda\"),\n",
    "            ci_name=\"ci\",\n",
    "            vector_name=\"wsdi_vector\",\n",
    "            func=\"wsdi\",\n",
    "            output_file=output_file.name,\n",
    "        )\n",
    "wsdi_url = output.get()[0]"
   ]
  },
  {
   "cell_type": "markdown",
   "metadata": {},
   "source": [
    "with spells spanning years"
   ]
  },
  {
   "cell_type": "code",
   "execution_count": 7,
   "metadata": {},
   "outputs": [],
   "source": [
    "with NamedTemporaryFile(suffix=\".rda\", prefix=\"wsdi_\", dir=\"/tmp\", delete=True) as output_file:\n",
    "    output = quail.climdex_spells(\n",
    "            climdex_input=resource_filename(\"tests\",\"data/climdexInput.rda\"),\n",
    "            ci_name=\"ci\",\n",
    "            vector_name=\"wsdi_span_yrs_vector\",\n",
    "            func=\"wsdi\",\n",
    "            span_years=True,\n",
    "            output_file=output_file.name,\n",
    "        )\n",
    "wsdi_span_yrs_url = output.get()[0]"
   ]
  },
  {
   "cell_type": "markdown",
   "metadata": {},
   "source": [
    "### Run wps_climdex_spells Process for climdex.csdi(), Cold Spell Duration Index \n",
    "without spells spanning years"
   ]
  },
  {
   "cell_type": "code",
   "execution_count": 8,
   "metadata": {},
   "outputs": [],
   "source": [
    "with NamedTemporaryFile(suffix=\".rda\", prefix=\"csdi_\", dir=\"/tmp\", delete=True) as output_file:\n",
    "    output = quail.climdex_spells(\n",
    "            climdex_input=resource_filename(\"tests\",\"data/climdexInput.rda\"),\n",
    "            ci_name=\"ci\",\n",
    "            vector_name=\"csdi_vector\",\n",
    "            func=\"csdi\",\n",
    "            output_file=output_file.name,\n",
    "        )\n",
    "csdi_url = output.get()[0]"
   ]
  },
  {
   "cell_type": "markdown",
   "metadata": {},
   "source": [
    "with spells spanning years"
   ]
  },
  {
   "cell_type": "code",
   "execution_count": 9,
   "metadata": {},
   "outputs": [],
   "source": [
    "with NamedTemporaryFile(suffix=\".rda\", prefix=\"csdi_\", dir=\"/tmp\", delete=True) as output_file:\n",
    "    output = quail.climdex_spells(\n",
    "            climdex_input=resource_filename(\"tests\",\"data/climdexInput.rda\"),\n",
    "            ci_name=\"ci\",\n",
    "            vector_name=\"csdi_span_yrs_vector\",\n",
    "            func=\"csdi\",\n",
    "            span_years=True,\n",
    "            output_file=output_file.name,\n",
    "        )\n",
    "csdi_span_yrs_url = output.get()[0]"
   ]
  },
  {
   "cell_type": "markdown",
   "metadata": {},
   "source": [
    "### Run wps_climdex_spells Process for climdex.cdd() Maximum Consecutive Dry Days\n",
    "without spells spanning years"
   ]
  },
  {
   "cell_type": "code",
   "execution_count": 10,
   "metadata": {},
   "outputs": [],
   "source": [
    "with NamedTemporaryFile(suffix=\".rda\", prefix=\"cdd_\", dir=\"/tmp\", delete=True) as output_file:\n",
    "    output = quail.climdex_spells(\n",
    "            climdex_input=resource_filename(\"tests\",\"data/climdexInput.rda\"),\n",
    "            ci_name=\"ci\",\n",
    "            vector_name=\"cdd_vector\",\n",
    "            func=\"cdd\",\n",
    "            output_file=output_file.name,\n",
    "        )\n",
    "cdd_url = output.get()[0]"
   ]
  },
  {
   "cell_type": "markdown",
   "metadata": {},
   "source": [
    "with spells spanning years"
   ]
  },
  {
   "cell_type": "code",
   "execution_count": 11,
   "metadata": {},
   "outputs": [],
   "source": [
    "with NamedTemporaryFile(suffix=\".rda\", prefix=\"cdd_\", dir=\"/tmp\", delete=True) as output_file:\n",
    "    output = quail.climdex_spells(\n",
    "            climdex_input=resource_filename(\"tests\",\"data/climdexInput.rda\"),\n",
    "            ci_name=\"ci\",\n",
    "            vector_name=\"cdd_span_yrs_vector\",\n",
    "            func=\"cdd\",\n",
    "            span_years=True,\n",
    "            output_file=output_file.name,\n",
    "        )\n",
    "cdd_span_yrs_url = output.get()[0]"
   ]
  },
  {
   "cell_type": "markdown",
   "metadata": {},
   "source": [
    "### Run wps_climdex_spells Process for climdex.cwd() Maximum Consecutive Wet Days\n",
    "without spells spanning years"
   ]
  },
  {
   "cell_type": "code",
   "execution_count": 12,
   "metadata": {},
   "outputs": [],
   "source": [
    "with NamedTemporaryFile(suffix=\".rda\", prefix=\"cwd_\", dir=\"/tmp\", delete=True) as output_file:\n",
    "    output = quail.climdex_spells(\n",
    "            climdex_input=resource_filename(\"tests\",\"data/climdexInput.rda\"),\n",
    "            ci_name=\"ci\",\n",
    "            vector_name=\"cwd_vector\",\n",
    "            func=\"cwd\",\n",
    "            output_file=output_file.name,\n",
    "        )\n",
    "cwd_url = output.get()[0]"
   ]
  },
  {
   "cell_type": "markdown",
   "metadata": {},
   "source": [
    "with spells spanning years"
   ]
  },
  {
   "cell_type": "code",
   "execution_count": 13,
   "metadata": {},
   "outputs": [],
   "source": [
    "with NamedTemporaryFile(suffix=\".rda\", prefix=\"cwd_\", dir=\"/tmp\", delete=True) as output_file:\n",
    "    output = quail.climdex_spells(\n",
    "            climdex_input=resource_filename(\"tests\",\"data/climdexInput.rda\"),\n",
    "            ci_name=\"ci\",\n",
    "            vector_name=\"cwd_span_yrs_vector\",\n",
    "            func=\"cwd\",\n",
    "            span_years=True,\n",
    "            output_file=output_file.name,\n",
    "        )\n",
    "cwd_span_yrs_url = output.get()[0]"
   ]
  },
  {
   "cell_type": "markdown",
   "metadata": {},
   "source": [
    "#### Test output against expected output"
   ]
  },
  {
   "cell_type": "code",
   "execution_count": 14,
   "metadata": {},
   "outputs": [],
   "source": [
    "urls = [\n",
    "    wsdi_url,\n",
    "    wsdi_span_yrs_url,\n",
    "    csdi_url, csdi_span_yrs_url,\n",
    "    cdd_url, \n",
    "    cdd_span_yrs_url,\n",
    "    cwd_url,\n",
    "    cwd_span_yrs_url\n",
    "]\n",
    "    \n",
    "vectors = [\n",
    "    \"wsdi\",\n",
    "    \"wsdi_span_yrs\",\n",
    "    \"csdi\",\n",
    "    \"csdi_span_yrs\",\n",
    "    \"cdd\",\n",
    "    \"cdd_span_yrs\",\n",
    "    \"cwd\",\n",
    "    \"cwd_span_yrs\",\n",
    "]\n",
    "\n",
    "for i in range(len(urls)):\n",
    "    test_rda_output(\n",
    "        urls[i], f\"{vectors[i]}_vector\", \"expected_spells_data.rda\", f\"expected_{vectors[i]}\"\n",
    "    )"
   ]
  }
 ],
 "metadata": {
  "kernelspec": {
   "display_name": "Python 3",
   "language": "python",
   "name": "python3"
  },
  "language_info": {
   "codemirror_mode": {
    "name": "ipython",
    "version": 3
   },
   "file_extension": ".py",
   "mimetype": "text/x-python",
   "name": "python",
   "nbconvert_exporter": "python",
   "pygments_lexer": "ipython3",
   "version": "3.8.5"
  }
 },
 "nbformat": 4,
 "nbformat_minor": 4
}
