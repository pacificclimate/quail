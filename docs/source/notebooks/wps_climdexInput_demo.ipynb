{
 "cells": [
  {
   "cell_type": "markdown",
   "metadata": {},
   "source": [
    "### Data pre-processing: wps_climdexInput\n",
    "\n",
    "WPS wrapper for [climdex.pcic](https://cran.r-project.org/web/packages/climdex.pcic/climdex.pcic.pdf) data pre-processing functions\n",
    "\n",
    "- [climdexInput.csv](https://cran.r-project.org/web/packages/climdex.pcic/climdex.pcic.pdf#page=41) Creates a climdexInput object from data in CSV files.\n",
    "- [climdexInput.raw](https://cran.r-project.org/web/packages/climdex.pcic/climdex.pcic.pdf#page=43) Creates a climdexInput object from data already ingested into R."
   ]
  },
  {
   "cell_type": "code",
   "execution_count": 1,
   "metadata": {},
   "outputs": [],
   "source": [
    "import os\n",
    "import requests\n",
    "from birdy import WPSClient\n",
    "from rpy2 import robjects\n",
    "from urllib.request import urlretrieve\n",
    "from pkg_resources import resource_filename\n",
    "from tempfile import NamedTemporaryFile\n",
    "\n",
    "from wps_tools.testing import get_target_url\n",
    "from quail.utils import test_rda_output"
   ]
  },
  {
   "cell_type": "code",
   "execution_count": 2,
   "metadata": {},
   "outputs": [],
   "source": [
    "# Ensure we are in the working directory with access to the data\n",
    "while os.path.basename(os.getcwd()) != \"quail\":\n",
    "    os.chdir('../')"
   ]
  },
  {
   "cell_type": "code",
   "execution_count": 3,
   "metadata": {},
   "outputs": [],
   "source": [
    "quail = WPSClient(\"http://localhost:5005/wps\")"
   ]
  },
  {
   "cell_type": "markdown",
   "metadata": {},
   "source": [
    "#### Help for individual processes can be diplayed using the ? command (ex/ bird.process?)"
   ]
  },
  {
   "cell_type": "code",
   "execution_count": 4,
   "metadata": {},
   "outputs": [
    {
     "data": {
      "text/plain": [
       "\u001b[0;31mSignature:\u001b[0m\n",
       "\u001b[0mquail\u001b[0m\u001b[0;34m.\u001b[0m\u001b[0mclimdex_input\u001b[0m\u001b[0;34m(\u001b[0m\u001b[0;34m\u001b[0m\n",
       "\u001b[0;34m\u001b[0m    \u001b[0mdata_columns\u001b[0m\u001b[0;34m=\u001b[0m\u001b[0;34m'list(tmin = \"tmin\", tmax = \"tmax\", prec = \"prec\")'\u001b[0m\u001b[0;34m,\u001b[0m\u001b[0;34m\u001b[0m\n",
       "\u001b[0;34m\u001b[0m    \u001b[0mbase_range\u001b[0m\u001b[0;34m=\u001b[0m\u001b[0;34m'c(1961, 1990)'\u001b[0m\u001b[0;34m,\u001b[0m\u001b[0;34m\u001b[0m\n",
       "\u001b[0;34m\u001b[0m    \u001b[0mna_strings\u001b[0m\u001b[0;34m=\u001b[0m\u001b[0;34m'NULL'\u001b[0m\u001b[0;34m,\u001b[0m\u001b[0;34m\u001b[0m\n",
       "\u001b[0;34m\u001b[0m    \u001b[0mcal\u001b[0m\u001b[0;34m=\u001b[0m\u001b[0;34m'gregorian'\u001b[0m\u001b[0;34m,\u001b[0m\u001b[0;34m\u001b[0m\n",
       "\u001b[0;34m\u001b[0m    \u001b[0mdate_fields\u001b[0m\u001b[0;34m=\u001b[0m\u001b[0;34m\"c('year'', 'jday')\"\u001b[0m\u001b[0;34m,\u001b[0m\u001b[0;34m\u001b[0m\n",
       "\u001b[0;34m\u001b[0m    \u001b[0mdate_format\u001b[0m\u001b[0;34m=\u001b[0m\u001b[0;34m'%Y %j'\u001b[0m\u001b[0;34m,\u001b[0m\u001b[0;34m\u001b[0m\n",
       "\u001b[0;34m\u001b[0m    \u001b[0mn\u001b[0m\u001b[0;34m=\u001b[0m\u001b[0;36m5\u001b[0m\u001b[0;34m,\u001b[0m\u001b[0;34m\u001b[0m\n",
       "\u001b[0;34m\u001b[0m    \u001b[0mnorthern_hemisphere\u001b[0m\u001b[0;34m=\u001b[0m\u001b[0;32mTrue\u001b[0m\u001b[0;34m,\u001b[0m\u001b[0;34m\u001b[0m\n",
       "\u001b[0;34m\u001b[0m    \u001b[0mquantiles\u001b[0m\u001b[0;34m=\u001b[0m\u001b[0;34m'NULL'\u001b[0m\u001b[0;34m,\u001b[0m\u001b[0;34m\u001b[0m\n",
       "\u001b[0;34m\u001b[0m    \u001b[0mtemp_qtiles\u001b[0m\u001b[0;34m=\u001b[0m\u001b[0;34m'c(0.1, 0.9)'\u001b[0m\u001b[0;34m,\u001b[0m\u001b[0;34m\u001b[0m\n",
       "\u001b[0;34m\u001b[0m    \u001b[0mprec_qtiles\u001b[0m\u001b[0;34m=\u001b[0m\u001b[0;34m'c(0.95, 0.99)'\u001b[0m\u001b[0;34m,\u001b[0m\u001b[0;34m\u001b[0m\n",
       "\u001b[0;34m\u001b[0m    \u001b[0mmax_missing_days\u001b[0m\u001b[0;34m=\u001b[0m\u001b[0;34m'c(annual = 15, monthly =3)'\u001b[0m\u001b[0;34m,\u001b[0m\u001b[0;34m\u001b[0m\n",
       "\u001b[0;34m\u001b[0m    \u001b[0mmin_base_data_fraction_present\u001b[0m\u001b[0;34m=\u001b[0m\u001b[0;36m0.1\u001b[0m\u001b[0;34m,\u001b[0m\u001b[0;34m\u001b[0m\n",
       "\u001b[0;34m\u001b[0m    \u001b[0mloglevel\u001b[0m\u001b[0;34m=\u001b[0m\u001b[0;34m'INFO'\u001b[0m\u001b[0;34m,\u001b[0m\u001b[0;34m\u001b[0m\n",
       "\u001b[0;34m\u001b[0m    \u001b[0mtmax_file\u001b[0m\u001b[0;34m=\u001b[0m\u001b[0;32mNone\u001b[0m\u001b[0;34m,\u001b[0m\u001b[0;34m\u001b[0m\n",
       "\u001b[0;34m\u001b[0m    \u001b[0mtmin_file\u001b[0m\u001b[0;34m=\u001b[0m\u001b[0;32mNone\u001b[0m\u001b[0;34m,\u001b[0m\u001b[0;34m\u001b[0m\n",
       "\u001b[0;34m\u001b[0m    \u001b[0mprec_file\u001b[0m\u001b[0;34m=\u001b[0m\u001b[0;32mNone\u001b[0m\u001b[0;34m,\u001b[0m\u001b[0;34m\u001b[0m\n",
       "\u001b[0;34m\u001b[0m    \u001b[0mtvag_file\u001b[0m\u001b[0;34m=\u001b[0m\u001b[0;32mNone\u001b[0m\u001b[0;34m,\u001b[0m\u001b[0;34m\u001b[0m\n",
       "\u001b[0;34m\u001b[0m\u001b[0;34m)\u001b[0m\u001b[0;34m\u001b[0m\u001b[0;34m\u001b[0m\u001b[0m\n",
       "\u001b[0;31mDocstring:\u001b[0m\n",
       "Process for creating climdexInput object from CSV/rda files\n",
       "\n",
       "Parameters\n",
       "----------\n",
       "tmax_file : ComplexData:mimetype:`application/x-gzip`, :mimetype:`text/csv`\n",
       "    Name of file containing daily maximum temperature data.\n",
       "tmin_file : ComplexData:mimetype:`application/x-gzip`, :mimetype:`text/csv`\n",
       "    Name of file containing daily minimum temperature data.\n",
       "prec_file : ComplexData:mimetype:`application/x-gzip`, :mimetype:`text/csv`\n",
       "    Name of file containing daily total precipitation data.\n",
       "tvag_file : ComplexData:mimetype:`application/x-gzip`, :mimetype:`text/csv`\n",
       "    Name of file containing daily mean temperature data.\n",
       "data_columns : string\n",
       "    Column names for tmin, tmax, and prec data.\n",
       "base_range : string\n",
       "    Years to use for the baseline\n",
       "na_strings : string\n",
       "    Strings used for NA values\n",
       "cal : string\n",
       "    The calendar type used in the input files.\n",
       "date_fields : string\n",
       "    Vector of names consisting of the columns to be concatenated together with spaces.\n",
       "date_format : string\n",
       "    Date format as taken by strptime.\n",
       "n : integer\n",
       "    Number of days to use as window for daily quantiles.\n",
       "northern_hemisphere : boolean\n",
       "    Number of days to use as window for daily quantiles.\n",
       "quantiles : string\n",
       "    Threshold quantiles for supplied variables.\n",
       "temp_qtiles : string\n",
       "    Quantiles to calculate for temperature variables\n",
       "prec_qtiles : string\n",
       "    Quantiles to calculate for precipitation\n",
       "max_missing_days : string\n",
       "    Vector containing thresholds for number of days allowed missing per year (annual) and per month (monthly).\n",
       "min_base_data_fraction_present : float\n",
       "    Minimum fraction of base data that must be present for quantile to be calculated for a particular day\n",
       "loglevel : {'CRITICAL', 'ERROR', 'WARNING', 'INFO', 'DEBUG', 'NOTSET'}string\n",
       "    Logging level\n",
       "\n",
       "Returns\n",
       "-------\n",
       "climdexinput : ComplexData:mimetype:`application/x-gzip`\n",
       "    Output R data file for generated climdexInput\n",
       "\u001b[0;31mFile:\u001b[0m      ~/Desktop/quail/</home/sangwonl/Desktop/quail/venv/lib/python3.7/site-packages/birdy/client/base.py-1>\n",
       "\u001b[0;31mType:\u001b[0m      method\n"
      ]
     },
     "metadata": {},
     "output_type": "display_data"
    }
   ],
   "source": [
    "# NBVAL_IGNORE_OUTPUT\n",
    "quail.climdex_input?"
   ]
  },
  {
   "cell_type": "markdown",
   "metadata": {},
   "source": [
    "#### Run wps_climdexInput process"
   ]
  },
  {
   "cell_type": "code",
   "execution_count": 6,
   "metadata": {},
   "outputs": [],
   "source": [
    "with NamedTemporaryFile(suffix=\".rda\", prefix=\"summer_days_\", dir=\"/tmp\", delete=True) as output_file:\n",
    "    output = quail.climdex_input(\n",
    "            tmax_file=None,\n",
    "            tmin_file=None,\n",
    "            prec_file=None,\n",
    "            tvag_file=None,\n",
    "            data_columns='list(tmin = \"tmin\", tmax = \"tmax\", prec = \"prec\")',\n",
    "            base_range='c(1961, 1990)',\n",
    "            na_strings='NULL',\n",
    "            cal='gregorian',\n",
    "            date_fields=\"c('year'', 'jday')\",\n",
    "            date_format='%Y %j',\n",
    "            n=5,\n",
    "            northern_hemisphere=True,\n",
    "            quantiles='NULL',\n",
    "            temp_qtiles='c(0.1, 0.9)',\n",
    "            prec_qtiles='c(0.95, 0.99)',\n",
    "            max_missing_days='c(annual = 15, monthly =3)',\n",
    "            min_base_data_fraction_present=0.1,\n",
    "            loglevel='INFO',\n",
    "        )"
   ]
  },
  {
   "cell_type": "code",
   "execution_count": null,
   "metadata": {},
   "outputs": [],
   "source": []
  }
 ],
 "metadata": {
  "kernelspec": {
   "display_name": "Python 3",
   "language": "python",
   "name": "python3"
  },
  "language_info": {
   "codemirror_mode": {
    "name": "ipython",
    "version": 3
   },
   "file_extension": ".py",
   "mimetype": "text/x-python",
   "name": "python",
   "nbconvert_exporter": "python",
   "pygments_lexer": "ipython3",
   "version": "3.7.7"
  }
 },
 "nbformat": 4,
 "nbformat_minor": 4
}
