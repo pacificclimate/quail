{
 "cells": [
  {
   "cell_type": "markdown",
   "metadata": {},
   "source": [
    "### Days: wps_climdex_days\n",
    "\n",
    "WPS wrapper for [climdex.pcic](https://cran.r-project.org/web/packages/climdex.pcic/climdex.pcic.pdf) days functions\n",
    "\n",
    "- [climdex.su](https://cran.r-project.org/web/packages/climdex.pcic/climdex.pcic.pdf#page=25) Computes the SU (summer days) climdexindex: the annual count of days where daily maximum temperature exceeds 25 degreesCelsius.\n",
    "- [climdex.id](https://cran.r-project.org/web/packages/climdex.pcic/climdex.pcic.pdf#page=11) Computes the ID (icing days) climdexindex: the annual count of days where daily maximum temperature was below 0 degrees Celsius.\n",
    "- [climdex.fd](https://cran.r-project.org/web/packages/climdex.pcic/climdex.pcic.pdf#page=8) Computes the FD frost days) climdexindex: the annual count of days where daily minimum temperature was below 0 degrees Celsius.\n",
    "- [climdex.tr](https://cran.r-project.org/web/packages/climdex.pcic/climdex.pcic.pdf#page=32) Computees the TR (tropical nights) climdexindex: the annual count of days where daily minimum temperature stays above 20 degrees Celsius."
   ]
  },
  {
   "cell_type": "code",
   "execution_count": null,
   "metadata": {},
   "outputs": [],
   "source": [
    "import os\n",
    "import requests\n",
    "from birdy import WPSClient\n",
    "from rpy2 import robjects\n",
    "from urllib.request import urlretrieve\n",
    "from pkg_resources import resource_filename\n",
    "from tempfile import NamedTemporaryFile\n",
    "\n",
    "from wps_tools.testing import get_target_url\n",
    "from quail.utils import test_rda_output"
   ]
  },
  {
   "cell_type": "code",
   "execution_count": null,
   "metadata": {},
   "outputs": [],
   "source": [
    "# Ensure we are in the working directory with access to the data\n",
    "while os.path.basename(os.getcwd()) != \"quail\":\n",
    "    os.chdir('../')"
   ]
  },
  {
   "cell_type": "code",
   "execution_count": null,
   "metadata": {},
   "outputs": [],
   "source": [
    "# NBVAL_IGNORE_OUTPUT\n",
    "url = get_target_url(\"quail\")\n",
    "print(f\"Using quail on {url}\")"
   ]
  },
  {
   "cell_type": "code",
   "execution_count": null,
   "metadata": {},
   "outputs": [],
   "source": [
    "quail = WPSClient(url)"
   ]
  },
  {
   "cell_type": "markdown",
   "metadata": {},
   "source": [
    "#### Help for individual processes can be diplayed using the ? command (ex/ bird.process?)"
   ]
  },
  {
   "cell_type": "code",
   "execution_count": null,
   "metadata": {},
   "outputs": [],
   "source": [
    "# NBVAL_IGNORE_OUTPUT\n",
    "quail.climdex_days?"
   ]
  },
  {
   "cell_type": "markdown",
   "metadata": {},
   "source": [
    "#### Run wps_climdex_days process for climdex.su (summer days)"
   ]
  },
  {
   "cell_type": "code",
   "execution_count": null,
   "metadata": {},
   "outputs": [],
   "source": [
    "with NamedTemporaryFile(suffix=\".rda\", prefix=\"summer_days_\", dir=\"/tmp\", delete=True) as output_file:\n",
    "    output = quail.climdex_days(\n",
    "            climdex_input=resource_filename(\"tests\",\"data/climdexInput.rda\"),\n",
    "            ci_name=\"ci\",\n",
    "            days_type=\"summer days\",\n",
    "            vector_name=\"summer_days\",\n",
    "            output_file=output_file.name,\n",
    "        )\n",
    "su_url = output.get()[0]"
   ]
  },
  {
   "cell_type": "markdown",
   "metadata": {},
   "source": [
    "#### Run wps_climdex_days process for climdex.id (icing days)"
   ]
  },
  {
   "cell_type": "code",
   "execution_count": null,
   "metadata": {},
   "outputs": [],
   "source": [
    "with NamedTemporaryFile(suffix=\".rda\", prefix=\"icing_days_\", dir=\"/tmp\", delete=True) as output_file:\n",
    "    output = quail.climdex_days(\n",
    "            climdex_input=resource_filename(\"tests\",\"data/climdexInput.rda\"),\n",
    "            ci_name=\"ci\",        \n",
    "            days_type=\"icing days\",\n",
    "            vector_name=\"icing_days\",\n",
    "            output_file=output_file.name,\n",
    "        )\n",
    "id_url = output.get()[0]"
   ]
  },
  {
   "cell_type": "markdown",
   "metadata": {},
   "source": [
    "#### Run wps_climdex_days process for climdex.fd (frost days)"
   ]
  },
  {
   "cell_type": "code",
   "execution_count": null,
   "metadata": {},
   "outputs": [],
   "source": [
    "with NamedTemporaryFile(suffix=\".rda\", prefix=\"frost_days_\", dir=\"/tmp\", delete=True) as output_file:\n",
    "    output = quail.climdex_days(\n",
    "            climdex_input=resource_filename(\"tests\",\"data/climdexInput.rda\"),\n",
    "            ci_name=\"ci\",        \n",
    "            days_type=\"frost days\",\n",
    "            vector_name=\"frost_days\",\n",
    "            output_file=output_file.name,\n",
    "        )\n",
    "fd_url = output.get()[0]"
   ]
  },
  {
   "cell_type": "markdown",
   "metadata": {},
   "source": [
    "#### Run wps_climdex_days process for climdex.tr (tropical nights)"
   ]
  },
  {
   "cell_type": "code",
   "execution_count": null,
   "metadata": {},
   "outputs": [],
   "source": [
    "with NamedTemporaryFile(suffix=\".rda\", prefix=\"frost_days_\", dir=\"/tmp\", delete=True) as output_file:\n",
    "    output = quail.climdex_days(\n",
    "            climdex_input=resource_filename(\"tests\",\"data/climdexInput.rda\"),\n",
    "            ci_name=\"ci\",        \n",
    "            days_type=\"tropical nights\",\n",
    "            vector_name=\"tropical_nights\",\n",
    "            output_file=output_file.name,\n",
    "        )\n",
    "tr_url = output.get()[0]"
   ]
  },
  {
   "cell_type": "markdown",
   "metadata": {},
   "source": [
    "Access the output with **rda_to_vector()** or **auto_construct_outputs()** from **wps_tools.output_handling**"
   ]
  },
  {
   "cell_type": "code",
   "execution_count": null,
   "metadata": {},
   "outputs": [],
   "source": [
    "from wps_tools.output_handling import rda_to_vector, auto_construct_outputs\n",
    "\n",
    "# use print() to see whole vector\n",
    "su = rda_to_vector(su_url, \"summer_days\")\n",
    "print(f\"SUMMER DAYS\\n{su}\")\n",
    "id_ = rda_to_vector(id_url, \"icing_days\")\n",
    "print(f\"ICING DAYS\\n{id_}\")\n",
    "fd = rda_to_vector(fd_url, \"frost_days\")\n",
    "print(f\"FROST DAYS\\n{fd}\")"
   ]
  },
  {
   "cell_type": "code",
   "execution_count": null,
   "metadata": {},
   "outputs": [],
   "source": [
    "auto_construct_outputs([su_url, id_url, fd_url])"
   ]
  },
  {
   "cell_type": "markdown",
   "metadata": {},
   "source": [
    "#### Test output against expected output"
   ]
  },
  {
   "cell_type": "code",
   "execution_count": null,
   "metadata": {},
   "outputs": [],
   "source": [
    "test_rda_output(\n",
    "        su_url, \"summer_days\", \"expected_days_data.rda\", \"expected_summer_days\"\n",
    "    )\n",
    "test_rda_output(\n",
    "        id_url, \"icing_days\", \"expected_days_data.rda\", \"expected_icing_days\"\n",
    "    )\n",
    "test_rda_output(\n",
    "        fd_url, \"frost_days\", \"expected_days_data.rda\", \"expected_frost_days\"\n",
    "    )"
   ]
  }
 ],
 "metadata": {
  "kernelspec": {
   "display_name": "Python 3",
   "language": "python",
   "name": "python3"
  },
  "language_info": {
   "codemirror_mode": {
    "name": "ipython",
    "version": 3
   },
   "file_extension": ".py",
   "mimetype": "text/x-python",
   "name": "python",
   "nbconvert_exporter": "python",
   "pygments_lexer": "ipython3",
   "version": "3.8.5"
  }
 },
 "nbformat": 4,
 "nbformat_minor": 4
}
