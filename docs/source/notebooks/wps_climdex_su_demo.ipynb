{
 "cells": [
  {
   "cell_type": "code",
   "execution_count": 1,
   "metadata": {},
   "outputs": [],
   "source": [
    "import os\n",
    "from birdy import WPSClient\n",
    "from pkg_resources import resource_filename\n",
    "from wps_tools.testing import get_target_url, local_path\n",
    "from tempfile import NamedTemporaryFile"
   ]
  },
  {
   "cell_type": "code",
   "execution_count": 2,
   "metadata": {},
   "outputs": [],
   "source": [
    "# Ensure we are in the working directory with access to the data\n",
    "while os.path.basename(os.getcwd()) != \"quail\":\n",
    "    os.chdir('../')"
   ]
  },
  {
   "cell_type": "code",
   "execution_count": 3,
   "metadata": {},
   "outputs": [
    {
     "name": "stdout",
     "output_type": "stream",
     "text": [
      "Using chickadee on https://docker-dev03.pcic.uvic.ca/twitcher/ows/proxy/chickadee/wps\n"
     ]
    }
   ],
   "source": [
    "# NBVAL_IGNORE_OUTPUT\n",
    "url = get_target_url(\"chickadee\")\n",
    "print(f\"Using chickadee on {url}\")\n",
    "url=\"http://localhost:5005/wps\""
   ]
  },
  {
   "cell_type": "code",
   "execution_count": 4,
   "metadata": {},
   "outputs": [],
   "source": [
    "quail = WPSClient(url)"
   ]
  },
  {
   "cell_type": "code",
   "execution_count": 5,
   "metadata": {},
   "outputs": [
    {
     "data": {
      "text/plain": [
       "\u001b[0;31mSignature:\u001b[0m \u001b[0mquail\u001b[0m\u001b[0;34m.\u001b[0m\u001b[0mclimdex_su\u001b[0m\u001b[0;34m(\u001b[0m\u001b[0mclimdex_input\u001b[0m\u001b[0;34m,\u001b[0m \u001b[0moutput_path\u001b[0m\u001b[0;34m,\u001b[0m \u001b[0mloglevel\u001b[0m\u001b[0;34m=\u001b[0m\u001b[0;34m'INFO'\u001b[0m\u001b[0;34m)\u001b[0m\u001b[0;34m\u001b[0m\u001b[0;34m\u001b[0m\u001b[0m\n",
       "\u001b[0;31mDocstring:\u001b[0m\n",
       "Computes the annual count of days where daily maximum temperature exceeds 25 degreesCelsius\n",
       "\n",
       "Parameters\n",
       "----------\n",
       "climdex_input : string\n",
       "    R object Object of type climdexInput (file extension .rds)\n",
       "output_path : string\n",
       "    Filename to store the count of days where tmax > 25 degC for each year\n",
       "loglevel : {'CRITICAL', 'ERROR', 'WARNING', 'INFO', 'DEBUG', 'NOTSET'}string\n",
       "    Logging level\n",
       "\n",
       "Returns\n",
       "-------\n",
       "summer_days_file : ComplexData:mimetype:`application/json`\n",
       "    A vector containing the number of summer days for each year\n",
       "\u001b[0;31mFile:\u001b[0m      ~/code/birds/quail/</tmp/quail-venv/lib/python3.8/site-packages/birdy/client/base.py-0>\n",
       "\u001b[0;31mType:\u001b[0m      method\n"
      ]
     },
     "metadata": {},
     "output_type": "display_data"
    }
   ],
   "source": [
    "# NBVAL_IGNORE_OUTPUT\n",
    "quail.climdex_su?"
   ]
  },
  {
   "cell_type": "code",
   "execution_count": 8,
   "metadata": {},
   "outputs": [],
   "source": [
    "with NamedTemporaryFile(suffix=\".json\", prefix=\"summer_days_\", dir=\"/tmp\", delete=True) as output_file:\n",
    "    out_put = quail.climdex_su(\n",
    "            climdex_input=\"tests/data/climdexInput.rds\",\n",
    "            output_path=output_file.name\n",
    "        )"
   ]
  },
  {
   "cell_type": "code",
   "execution_count": 9,
   "metadata": {},
   "outputs": [
    {
     "name": "stdout",
     "output_type": "stream",
     "text": [
      "http://localhost:5005/outputs/c4bbb084-310e-11eb-b984-d166c47547b5/summer_days_pezhppmg.json\n"
     ]
    }
   ],
   "source": [
    "# NBVAL_IGNORE_OUTPUT\n",
    "print(out_put.get()[0])"
   ]
  },
  {
   "cell_type": "code",
   "execution_count": null,
   "metadata": {},
   "outputs": [],
   "source": []
  }
 ],
 "metadata": {
  "kernelspec": {
   "display_name": "Python 3",
   "language": "python",
   "name": "python3"
  },
  "language_info": {
   "codemirror_mode": {
    "name": "ipython",
    "version": 3
   },
   "file_extension": ".py",
   "mimetype": "text/x-python",
   "name": "python",
   "nbconvert_exporter": "python",
   "pygments_lexer": "ipython3",
   "version": "3.8.5"
  }
 },
 "nbformat": 4,
 "nbformat_minor": 4
}
