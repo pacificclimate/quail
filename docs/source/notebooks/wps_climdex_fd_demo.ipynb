{
 "cells": [
  {
   "cell_type": "markdown",
   "metadata": {},
   "source": [
    "# wps_climdex_fd\n",
    "\n",
    "\n",
    "WPS wrapper for [climdex.pcic](https://cran.r-project.org/web/packages/climdex.pcic/climdex.pcic.pdf) function, [climdex.fu](https://cran.r-project.org/web/packages/climdex.pcic/climdex.pcic.pdf#page=8)\n",
    "\n",
    "Takes a climdexInput object as input and computes the FD (frost days) climdexindex:  that is,  the annual count of days when daily minimum temperature is below 0 degrees Celsius"
   ]
  },
  {
   "cell_type": "code",
   "execution_count": 1,
   "metadata": {},
   "outputs": [],
   "source": [
    "import os\n",
    "import requests\n",
    "from birdy import WPSClient\n",
    "from rpy2 import robjects\n",
    "from urllib.request import urlretrieve\n",
    "from pkg_resources import resource_filename\n",
    "from tempfile import NamedTemporaryFile\n",
    "\n",
    "from wps_tools.testing import get_target_url, local_path"
   ]
  },
  {
   "cell_type": "code",
   "execution_count": 2,
   "metadata": {},
   "outputs": [],
   "source": [
    "# Ensure we are in the working directory with access to the data\n",
    "while os.path.basename(os.getcwd()) != \"quail\":\n",
    "    os.chdir('../')"
   ]
  },
  {
   "cell_type": "code",
   "execution_count": 3,
   "metadata": {},
   "outputs": [
    {
     "name": "stdout",
     "output_type": "stream",
     "text": [
      "Using quail on https://docker-dev03.pcic.uvic.ca/twitcher/ows/proxy/quail/wps\n"
     ]
    }
   ],
   "source": [
    "# NBVAL_IGNORE_OUTPUT\n",
    "url = get_target_url(\"quail\")\n",
    "print(f\"Using quail on {url}\")"
   ]
  },
  {
   "cell_type": "code",
   "execution_count": 4,
   "metadata": {},
   "outputs": [],
   "source": [
    "quail = WPSClient(url)"
   ]
  },
  {
   "cell_type": "markdown",
   "metadata": {},
   "source": [
    "#### Help for individual processes can be diplayed using the ? command (ex/ bird.process?)"
   ]
  },
  {
   "cell_type": "code",
   "execution_count": 5,
   "metadata": {},
   "outputs": [
    {
     "data": {
      "text/plain": [
       "\u001b[0;31mSignature:\u001b[0m\n",
       "\u001b[0mquail\u001b[0m\u001b[0;34m.\u001b[0m\u001b[0mclimdex_fd\u001b[0m\u001b[0;34m(\u001b[0m\u001b[0;34m\u001b[0m\n",
       "\u001b[0;34m\u001b[0m    \u001b[0mci_file\u001b[0m\u001b[0;34m,\u001b[0m\u001b[0;34m\u001b[0m\n",
       "\u001b[0;34m\u001b[0m    \u001b[0mci_name\u001b[0m\u001b[0;34m=\u001b[0m\u001b[0;32mNone\u001b[0m\u001b[0;34m,\u001b[0m\u001b[0;34m\u001b[0m\n",
       "\u001b[0;34m\u001b[0m    \u001b[0mloglevel\u001b[0m\u001b[0;34m=\u001b[0m\u001b[0;34m'INFO'\u001b[0m\u001b[0;34m,\u001b[0m\u001b[0;34m\u001b[0m\n",
       "\u001b[0;34m\u001b[0m    \u001b[0moutput_obj\u001b[0m\u001b[0;34m=\u001b[0m\u001b[0;34m'fd'\u001b[0m\u001b[0;34m,\u001b[0m\u001b[0;34m\u001b[0m\n",
       "\u001b[0;34m\u001b[0m    \u001b[0moutput_file\u001b[0m\u001b[0;34m=\u001b[0m\u001b[0;34m'output.rda'\u001b[0m\u001b[0;34m,\u001b[0m\u001b[0;34m\u001b[0m\n",
       "\u001b[0;34m\u001b[0m\u001b[0;34m)\u001b[0m\u001b[0;34m\u001b[0m\u001b[0;34m\u001b[0m\u001b[0m\n",
       "\u001b[0;31mDocstring:\u001b[0m\n",
       "Computes the annual count of days when daily minimum temperature is below 0 degrees Celsius\n",
       "\n",
       "Parameters\n",
       "----------\n",
       "ci_file : ComplexData:mimetype:`application/x-gzip`\n",
       "    File that holds climdexInput object (recommended file extension .rda)\n",
       "ci_name : string\n",
       "    Name of the climdexInput obejct\n",
       "output_obj : string\n",
       "    Name of the output object\n",
       "output_file : string\n",
       "    Filename to store the output (recommended file extension .rda)\n",
       "loglevel : {'CRITICAL', 'ERROR', 'WARNING', 'INFO', 'DEBUG', 'NOTSET'}string\n",
       "    Logging level\n",
       "\n",
       "Returns\n",
       "-------\n",
       "frost_days_file : ComplexData:mimetype:`application/x-gzip`\n",
       "    A vector containing the number of frost days for each year\n",
       "\u001b[0;31mFile:\u001b[0m      ~/Desktop/quail/</home/sangwonl/.local/lib/python3.6/site-packages/birdy/client/base.py-0>\n",
       "\u001b[0;31mType:\u001b[0m      method\n"
      ]
     },
     "metadata": {},
     "output_type": "display_data"
    }
   ],
   "source": [
    "quail.climdex_fd?"
   ]
  },
  {
   "cell_type": "markdown",
   "metadata": {},
   "source": [
    "#### Run wps_climdex_fd process with Rdata file"
   ]
  },
  {
   "cell_type": "code",
   "execution_count": 6,
   "metadata": {},
   "outputs": [],
   "source": [
    "with NamedTemporaryFile(suffix=\".rda\", prefix=\"frost_days_\", dir=\"/tmp\", delete=True) as output_file:\n",
    "    output = quail.climdex_fd(\n",
    "            ci_file=resource_filename(\"tests\",\"data/climdexInput.rda\"),\n",
    "            ci_name=\"ci\",\n",
    "            output_obj=\"fd\",\n",
    "            output_file=output_file.name,\n",
    "        )"
   ]
  },
  {
   "cell_type": "markdown",
   "metadata": {},
   "source": [
    "#### Test output against expected output"
   ]
  },
  {
   "cell_type": "code",
   "execution_count": 7,
   "metadata": {},
   "outputs": [],
   "source": [
    "with NamedTemporaryFile(suffix=\".rda\", prefix=\"tmp_copy\", dir=\"/tmp\", delete=True) as tmp_file:\n",
    "    urlretrieve(output.get()[0], tmp_file.name)\n",
    "    robjects.r(f\"load(file='{tmp_file.name}')\")\n",
    "    output_vector = robjects.r(\"fd\")\n",
    "    \n",
    "robjects.r(\"load(file='{}')\".format(resource_filename(\"tests\",\"data/frost_days.rda\")))\n",
    "expected_vector = robjects.r(\"fd\")\n",
    "    \n",
    "for index in range(len(expected_vector)):\n",
    "    assert str(output_vector[index]) == str(expected_vector[index])"
   ]
  }
 ],
 "metadata": {
  "kernelspec": {
   "display_name": "Python 3",
   "language": "python",
   "name": "python3"
  },
  "language_info": {
   "codemirror_mode": {
    "name": "ipython",
    "version": 3
   },
   "file_extension": ".py",
   "mimetype": "text/x-python",
   "name": "python",
   "nbconvert_exporter": "python",
   "pygments_lexer": "ipython3",
   "version": "3.6.9"
  }
 },
 "nbformat": 4,
 "nbformat_minor": 4
}
